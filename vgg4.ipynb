{
 "cells": [
  {
   "cell_type": "markdown",
   "metadata": {},
   "source": [
    "**YOUR NAMES HERE**\n",
    "\n",
    "Spring 2025\n",
    "\n",
    "CS 444: Deep Learning\n",
    "\n",
    "Project 1: Deep Neural Networks \n",
    "\n",
    "#### Week 1: VGG4 and building a deep learning library"
   ]
  },
  {
   "cell_type": "code",
   "execution_count": 1,
   "metadata": {},
   "outputs": [],
   "source": [
    "import numpy as np\n",
    "import tensorflow as tf\n",
    "import matplotlib.pyplot as plt\n",
    "\n",
    "plt.style.use(['seaborn-v0_8-colorblind', 'seaborn-v0_8-darkgrid'])\n",
    "plt.rcParams.update({'font.size': 18})\n",
    "\n",
    "np.set_printoptions(suppress=True, precision=4)\n",
    "\n",
    "# Automatically reload your external source code\n",
    "%load_ext autoreload\n",
    "%autoreload 2"
   ]
  },
  {
   "cell_type": "markdown",
   "metadata": {},
   "source": [
    "## Task 4. Train `VGG4` on MNIST and CIFAR-10\n",
    "\n",
    "Woohoo! VGG4 is built and tested! Time for some fun! 😎"
   ]
  },
  {
   "cell_type": "markdown",
   "metadata": {},
   "source": [
    "To train in a reasonable amount of time, upload your project code to CoCalc so that you can train on the GPU. See [instructions on the class website ](https://cs.colby.edu/courses/S25/cs444/software.html#cocalc) for getting this setup.\n",
    "\n",
    "*As noted on the website, if you have a higher-end Macbook with a Pro or Max chip and ≥ 16 GB of memory, you could probably run this workload on your computer if you would prefer. This is entirely optional and the cloud will almost certainly be faster than even the fastest Mac. Setting this up would just provide some extra convenience/flexibility. See the [macOS instructions](https://cs.colby.edu/courses/S25/cs444/software.html#tfmac) for setup.*\n",
    "\n",
    "Run the cell below to make sure TensorFlow is running on the GPU."
   ]
  },
  {
   "cell_type": "code",
   "execution_count": null,
   "metadata": {},
   "outputs": [],
   "source": [
    "gpus = tf.config.list_physical_devices('GPU')\n",
    "if len(gpus) > 0:\n",
    "    print('Running on the GPU')\n",
    "else:\n",
    "    print('NOT running on the GPU')"
   ]
  },
  {
   "cell_type": "code",
   "execution_count": 7,
   "metadata": {},
   "outputs": [],
   "source": [
    "from datasets import get_dataset\n",
    "from vgg_nets import VGG4"
   ]
  },
  {
   "cell_type": "markdown",
   "metadata": {},
   "source": [
    "### 4a. Train `VGG4` on MNIST on the GPU\n",
    "\n",
    "This will be a \"hello world\" test to make sure your `fit` method is working.\n",
    "\n",
    "Write code in the cell below to load in MNIST"
   ]
  },
  {
   "cell_type": "code",
   "execution_count": null,
   "metadata": {},
   "outputs": [],
   "source": [
    "\n",
    "# KEEP ME\n",
    "print(f'Your training set data have shape {x_train.shape} and they should be (54000, 28, 28, 1)')\n",
    "print(f'Your training set labels have shape {y_train.shape} and they should be (54000,)')\n",
    "print(f'Your val set data have shape {x_val.shape} and they should be (6000, 28, 28, 1)')\n",
    "print(f'Your val set labels have shape {y_val.shape} and they should be (6000,)')\n",
    "print(f'Your test set data have shape {x_test.shape} and they should be (10000, 28, 28, 1)')\n",
    "print(f'Your test set labels have shape {y_test.shape} and they should be (10000,)')"
   ]
  },
  {
   "cell_type": "markdown",
   "metadata": {},
   "source": [
    "Train `VGG4` in the cell below on MNIST for `7` epochs and a batch size of `1024`! Print out your accuracy on the test set when training is done.\n",
    "\n",
    "The **entire** process of training and evaluating test accuracy should take no more than 1 min (*at most!*). If it is taking longer, seek help.\n",
    "\n",
    "Your print outs should look something like:\n",
    "\n",
    "```\n",
    "---------------------------------------------------------------------------\n",
    "Dense layer output(output) shape: [1, 10]\n",
    "Dropout layer output(dropout1) shape: [1, 128]\n",
    "Dense layer output(dense1) shape: [1, 128]\n",
    "Flatten layer output(flat) shape: [1, 12544]\n",
    "MaxPool2D layer output(maxpool1) shape: [1, 14, 14, 64]\n",
    "Conv2D layer output(conv2) shape: [1, 28, 28, 64]\n",
    "Conv2D layer output(conv1) shape: [1, 28, 28, 64]\n",
    "---------------------------------------------------------------------------\n",
    "Epoch 0/6, Training loss 1.54, Val loss 0.33, Val acc 89.94 \n",
    "Epoch 0 took: blah0 secs\n",
    "Epoch 1/6, Training loss 0.42, Val loss 0.17, Val acc 94.59 \n",
    "Epoch 1 took: blah1 secs\n",
    "...\n",
    "Epoch 6/6, Training loss surprise, Val loss surprise, Val acc surprise\n",
    "Epoch 6 took: blah6 secs\n",
    "Finished training after 7 epochs!\n",
    "VGG4 MNIST Test accuracy: surprise%\n",
    "```\n",
    "\n",
    "The val and test accuracy should be satisfyingly high — in the high 90s."
   ]
  },
  {
   "cell_type": "code",
   "execution_count": null,
   "metadata": {},
   "outputs": [],
   "source": [
    "# KEEP THIS SEED\n",
    "tf.random.set_seed(0)\n"
   ]
  },
  {
   "cell_type": "markdown",
   "metadata": {},
   "source": [
    "### 4b. Train `VGG4` on MNIST on the CPU\n",
    "\n",
    "To appreciate the advantage for training deep networks on GPUs instead of your computer's CPU, copy-paste your code above that trains your VGG4 net on MNIST below. Instead of running it on CoCalc, run it locally on your computer. Be sure to print out the time per epoch.\n",
    "\n",
    "*If the net takes >2 minutes per epoch on your computer, just train for one epoch then call it quits :)*"
   ]
  },
  {
   "cell_type": "markdown",
   "metadata": {},
   "source": [
    "### 4c. Questions\n",
    "\n",
    "**Question 1:** Approximately how long did it take for 1 epoch of training with and without the GPU. Compute the relative compute time (`gpu_time_per_epoch`/`cpu_time_per_epoch`). What do you think?"
   ]
  },
  {
   "cell_type": "markdown",
   "metadata": {},
   "source": [
    "**Answer 1:**"
   ]
  },
  {
   "cell_type": "markdown",
   "metadata": {},
   "source": [
    "### 4d. Train `VGG4` on CIFAR-10\n",
    "\n",
    "Now let's train on CIFAR-10. Run this (*and all subsequent large training sessions*) on CoCalc/the GPU 😊\n",
    "\n",
    "Write code in the cell below to load in CIFAR-10."
   ]
  },
  {
   "cell_type": "code",
   "execution_count": null,
   "metadata": {},
   "outputs": [],
   "source": [
    "\n",
    "# KEEP ME\n",
    "print(f'Your training set data have shape {x_train.shape} and they should be (45000, 32, 32, 3)')\n",
    "print(f'Your training set labels have shape {y_train.shape} and they should be (45000,)')\n",
    "print(f'Your val set data have shape {x_val.shape} and they should be (5000, 32, 32, 3)')\n",
    "print(f'Your val set labels have shape {y_val.shape} and they should be (5000,)')\n",
    "print(f'Your test set data have shape {x_test.shape} and they should be (10000, 32, 32, 3)')\n",
    "print(f'Your test set labels have shape {y_test.shape} and they should be (10000,)')"
   ]
  },
  {
   "cell_type": "markdown",
   "metadata": {},
   "source": [
    "Train `VGG4` on CIFAR-10 in the cell below for `15` epochs and use a batch size of `128`.\n",
    "\n",
    "*You should anticipate 10-20 secs per epoch of training. Thus, the whole training session should take ~2.5-5 mins. If this is far off, please seek help.*\n",
    "\n",
    "Plot the training and val loss over epochs. Put test acc in the title. *If everything is working, your training and validation loss should steadily decrease then start to plateau by the end of training.*"
   ]
  },
  {
   "cell_type": "code",
   "execution_count": null,
   "metadata": {},
   "outputs": [],
   "source": [
    "# KEEP THIS SEED\n",
    "tf.random.set_seed(0)\n",
    "\n"
   ]
  },
  {
   "cell_type": "code",
   "execution_count": null,
   "metadata": {},
   "outputs": [],
   "source": []
  },
  {
   "cell_type": "markdown",
   "metadata": {},
   "source": [
    "### 4e. Experiment: Effect of batch size on runtime and accuracy\n",
    "\n",
    "To develop your intuition about how the choice of batch size generally affects runtime and accuracy on a dataset like CIFAR-10, run an experiment in which fresh `VGG4` nets are trained for `15` epochs with one of the following batch sizes:<br/>\n",
    "`[128, 256, 512, 1024, 2048]`. After each training run, record the test accuracy and runtime.\n",
    "\n",
    "Create two plots:\n",
    "1. The test accuracy (y axis) as a function of the batch size (x axis). There should be 5 markers joined by a single curve.\n",
    "2. The runtime (y axis) as a function of the batch size (x axis). There should be 5 markers joined by a single curve.\n",
    "\n",
    "**Note:**\n",
    "- Your `fit` method prints the runtime per epoch, but in this task you should record the total runtime over training and prediction. (in seconds). To do this, it may make sense to use the time module to record the total time in the notebook cell below.\n",
    "- You should be running this on the GPU!"
   ]
  },
  {
   "cell_type": "code",
   "execution_count": 13,
   "metadata": {},
   "outputs": [],
   "source": [
    "import time"
   ]
  },
  {
   "cell_type": "code",
   "execution_count": null,
   "metadata": {},
   "outputs": [],
   "source": [
    "# KEEP THIS SEED\n",
    "tf.random.set_seed(0)\n"
   ]
  },
  {
   "cell_type": "code",
   "execution_count": null,
   "metadata": {},
   "outputs": [],
   "source": []
  },
  {
   "cell_type": "markdown",
   "metadata": {},
   "source": [
    "### 4f. Questions\n",
    "\n",
    "**Question 2:** What do the plots suggest to you about the relationship between batch size and accuracy? Please be specific,citing evidence from your plots.\n",
    "\n",
    "**Question 3:** Do you find this relationship surprising? Why or why not?"
   ]
  },
  {
   "cell_type": "markdown",
   "metadata": {},
   "source": [
    "**Answer 2:** "
   ]
  },
  {
   "cell_type": "markdown",
   "metadata": {},
   "source": [
    "**Answer 3:** "
   ]
  }
 ],
 "metadata": {
  "kernelspec": {
   "display_name": "cs444",
   "language": "python",
   "name": "python3"
  },
  "language_info": {
   "codemirror_mode": {
    "name": "ipython",
    "version": 3
   },
   "file_extension": ".py",
   "mimetype": "text/x-python",
   "name": "python",
   "nbconvert_exporter": "python",
   "pygments_lexer": "ipython3",
   "version": "3.11.9"
  }
 },
 "nbformat": 4,
 "nbformat_minor": 2
}
