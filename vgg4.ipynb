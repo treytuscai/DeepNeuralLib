{
 "cells": [
  {
   "cell_type": "markdown",
   "id": "3366a2",
   "metadata": {
    "collapsed": false
   },
   "source": [
    "**Gordon and Trey**\n",
    "\n",
    "Spring 2025\n",
    "\n",
    "CS 444: Deep Learning\n",
    "\n",
    "Project 1: Deep Neural Networks \n",
    "\n",
    "#### Week 1: VGG4 and building a deep learning library"
   ]
  },
  {
   "cell_type": "code",
   "execution_count": 1,
   "id": "42a2ae",
   "metadata": {
    "collapsed": false
   },
   "outputs": [
    {
     "name": "stderr",
     "output_type": "stream",
     "text": [
      "2025-02-13 17:19:42.105264: I tensorflow/core/platform/cpu_feature_guard.cc:182] This TensorFlow binary is optimized to use available CPU instructions in performance-critical operations.\n",
      "To enable the following instructions: AVX2 AVX512F AVX512_VNNI FMA, in other operations, rebuild TensorFlow with the appropriate compiler flags.\n"
     ]
    }
   ],
   "source": [
    "import numpy as np\n",
    "import tensorflow as tf\n",
    "import matplotlib.pyplot as plt\n",
    "\n",
    "plt.style.use(['seaborn-v0_8-colorblind', 'seaborn-v0_8-darkgrid'])\n",
    "plt.rcParams.update({'font.size': 18})\n",
    "\n",
    "np.set_printoptions(suppress=True, precision=4)\n",
    "\n",
    "# Automatically reload your external source code\n",
    "%load_ext autoreload\n",
    "%autoreload 2"
   ]
  },
  {
   "cell_type": "markdown",
   "id": "510dda",
   "metadata": {
    "collapsed": false
   },
   "source": [
    "## Task 4. Train `VGG4` on MNIST and CIFAR-10\n",
    "\n",
    "Woohoo! VGG4 is built and tested! Time for some fun! 😎"
   ]
  },
  {
   "cell_type": "markdown",
   "id": "e62aad",
   "metadata": {
    "collapsed": false
   },
   "source": [
    "To train in a reasonable amount of time, upload your project code to CoCalc so that you can train on the GPU. See [instructions on the class website ](https://cs.colby.edu/courses/S25/cs444/software.html#cocalc) for getting this setup.\n",
    "\n",
    "*As noted on the website, if you have a higher-end Macbook with a Pro or Max chip and ≥ 16 GB of memory, you could probably run this workload on your computer if you would prefer. This is entirely optional and the cloud will almost certainly be faster than even the fastest Mac. Setting this up would just provide some extra convenience/flexibility. See the [macOS instructions](https://cs.colby.edu/courses/S25/cs444/software.html#tfmac) for setup.*\n",
    "\n",
    "Run the cell below to make sure TensorFlow is running on the GPU."
   ]
  },
  {
   "cell_type": "code",
   "execution_count": 2,
   "id": "d3809d",
   "metadata": {
    "collapsed": false
   },
   "outputs": [
    {
     "name": "stdout",
     "output_type": "stream",
     "text": [
      "NOT running on the GPU\n"
     ]
    }
   ],
   "source": [
    "gpus = tf.config.list_physical_devices('GPU')\n",
    "if len(gpus) > 0:\n",
    "    print('Running on the GPU')\n",
    "else:\n",
    "    print('NOT running on the GPU')"
   ]
  },
  {
   "cell_type": "code",
   "execution_count": 3,
   "id": "56099e",
   "metadata": {
    "collapsed": false
   },
   "outputs": [],
   "source": [
    "from datasets import get_dataset\n",
    "from vgg_nets import VGG4"
   ]
  },
  {
   "cell_type": "markdown",
   "id": "af17ab",
   "metadata": {
    "collapsed": false
   },
   "source": [
    "### 4a. Train `VGG4` on MNIST on the GPU\n",
    "\n",
    "This will be a \"hello world\" test to make sure your `fit` method is working.\n",
    "\n",
    "Write code in the cell below to load in MNIST"
   ]
  },
  {
   "cell_type": "code",
   "execution_count": 4,
   "id": "f94855",
   "metadata": {
    "collapsed": false
   },
   "outputs": [
    {
     "name": "stdout",
     "output_type": "stream",
     "text": [
      "Your training set data have shape (54000, 28, 28, 1) and they should be (54000, 28, 28, 1)\n",
      "Your training set labels have shape (54000,) and they should be (54000,)\n",
      "Your val set data have shape (6000, 28, 28, 1) and they should be (6000, 28, 28, 1)\n",
      "Your val set labels have shape (6000,) and they should be (6000,)\n",
      "Your test set data have shape (10000, 28, 28, 1) and they should be (10000, 28, 28, 1)\n",
      "Your test set labels have shape (10000,) and they should be (10000,)\n"
     ]
    }
   ],
   "source": [
    "x_train, y_train, x_val, y_val, x_test, y_test, classnames = get_dataset(name = \"mnist\")\n",
    "print(f'Your training set data have shape {x_train.shape} and they should be (54000, 28, 28, 1)')\n",
    "print(f'Your training set labels have shape {y_train.shape} and they should be (54000,)')\n",
    "print(f'Your val set data have shape {x_val.shape} and they should be (6000, 28, 28, 1)')\n",
    "print(f'Your val set labels have shape {y_val.shape} and they should be (6000,)')\n",
    "print(f'Your test set data have shape {x_test.shape} and they should be (10000, 28, 28, 1)')\n",
    "print(f'Your test set labels have shape {y_test.shape} and they should be (10000,)')"
   ]
  },
  {
   "cell_type": "markdown",
   "id": "419383",
   "metadata": {
    "collapsed": false
   },
   "source": [
    "Train `VGG4` in the cell below on MNIST for `7` epochs and a batch size of `1024`! Print out your accuracy on the test set when training is done.\n",
    "\n",
    "The **entire** process of training and evaluating test accuracy should take no more than 1 min (*at most!*). If it is taking longer, seek help.\n",
    "\n",
    "Your print outs should look something like:\n",
    "\n",
    "```\n",
    "---------------------------------------------------------------------------\n",
    "Dense layer output(output) shape: [1, 10]\n",
    "Dropout layer output(dropout1) shape: [1, 128]\n",
    "Dense layer output(dense1) shape: [1, 128]\n",
    "Flatten layer output(flat) shape: [1, 12544]\n",
    "MaxPool2D layer output(maxpool1) shape: [1, 14, 14, 64]\n",
    "Conv2D layer output(conv2) shape: [1, 28, 28, 64]\n",
    "Conv2D layer output(conv1) shape: [1, 28, 28, 64]\n",
    "---------------------------------------------------------------------------\n",
    "Epoch 0/6, Training loss 1.54, Val loss 0.33, Val acc 89.94 \n",
    "Epoch 0 took: blah0 secs\n",
    "Epoch 1/6, Training loss 0.42, Val loss 0.17, Val acc 94.59 \n",
    "Epoch 1 took: blah1 secs\n",
    "...\n",
    "Epoch 6/6, Training loss surprise, Val loss surprise, Val acc surprise\n",
    "Epoch 6 took: blah6 secs\n",
    "Finished training after 7 epochs!\n",
    "VGG4 MNIST Test accuracy: surprise%\n",
    "```\n",
    "\n",
    "The val and test accuracy should be satisfyingly high — in the high 90s."
   ]
  },
  {
   "cell_type": "code",
   "execution_count": 15,
   "id": "6e7b65",
   "metadata": {
    "collapsed": false
   },
   "outputs": [
    {
     "name": "stdout",
     "output_type": "stream",
     "text": [
      "---------------------------------------------------------------------------\n",
      "Dense layer output(output) shape: [1, 10]\n",
      "Dropout layer output(dropout1) shape: [1, 128]\n",
      "Dense layer output(dense1) shape: [1, 128]\n",
      "Flatten layer output(flat) shape: [1, 12544]\n",
      "MaxPool2D layer output(maxpool1) shape: [1, 14, 14, 64]\n",
      "Conv2D layer output(conv2) shape: [1, 28, 28, 64]\n",
      "Conv2D layer output(conv1) shape: [1, 28, 28, 64]\n",
      "---------------------------------------------------------------------------\n"
     ]
    },
    {
     "name": "stdout",
     "output_type": "stream",
     "text": [
      "validation accuracy: 0.9094421863555908\n",
      "validation loss: 0.3051247000694275\n",
      "the epoch 0 took 4233481660 nanoseconds\n"
     ]
    },
    {
     "name": "stdout",
     "output_type": "stream",
     "text": [
      "validation accuracy: 0.9472446441650391\n",
      "validation loss: 0.18824315071105957\n",
      "the epoch 1 took 2135444470 nanoseconds\n"
     ]
    },
    {
     "name": "stdout",
     "output_type": "stream",
     "text": [
      "validation accuracy: 0.9588373899459839\n",
      "validation loss: 0.14714446663856506\n",
      "the epoch 2 took 2144000762 nanoseconds\n"
     ]
    },
    {
     "name": "stdout",
     "output_type": "stream",
     "text": [
      "validation accuracy: 0.9643816947937012\n",
      "validation loss: 0.12563909590244293\n",
      "the epoch 3 took 2146032465 nanoseconds\n"
     ]
    },
    {
     "name": "stdout",
     "output_type": "stream",
     "text": [
      "validation accuracy: 0.9679099321365356\n",
      "validation loss: 0.12045339494943619\n",
      "the epoch 4 took 2149792629 nanoseconds\n"
     ]
    },
    {
     "name": "stdout",
     "output_type": "stream",
     "text": [
      "validation accuracy: 0.9684139490127563\n",
      "validation loss: 0.10862124711275101\n",
      "the epoch 5 took 2153811748 nanoseconds\n"
     ]
    },
    {
     "name": "stdout",
     "output_type": "stream",
     "text": [
      "validation accuracy: 0.9721102118492126\n",
      "validation loss: 0.09476830810308456\n",
      "the epoch 6 took 2157585892 nanoseconds\n",
      "Finished training after 7 epochs!\n"
     ]
    },
    {
     "data": {
      "text/plain": [
       "([1.5403703,\n",
       "  0.42603305,\n",
       "  0.3287869,\n",
       "  0.30042022,\n",
       "  0.26839107,\n",
       "  0.240758,\n",
       "  0.21791023],\n",
       " [0.3051247,\n",
       "  0.18824315,\n",
       "  0.14714447,\n",
       "  0.1256391,\n",
       "  0.120453395,\n",
       "  0.10862125,\n",
       "  0.09476831],\n",
       " [0.9094422,\n",
       "  0.94724464,\n",
       "  0.9588374,\n",
       "  0.9643817,\n",
       "  0.96790993,\n",
       "  0.96841395,\n",
       "  0.9721102],\n",
       " 6)"
      ]
     },
     "execution_count": 15,
     "metadata": {},
     "output_type": "execute_result"
    }
   ],
   "source": [
    "# KEEP THIS SEED\n",
    "tf.random.set_seed(0)\n",
    "\n",
    "model = VGG4(10, (28,28,1))\n",
    "model.compile()\n",
    "model.fit(x_train, y_train,x_val, y_val, batch_size = 1024, max_epochs = 7)\n"
   ]
  },
  {
   "cell_type": "markdown",
   "id": "11eda5",
   "metadata": {
    "collapsed": false
   },
   "source": [
    "### 4b. Train `VGG4` on MNIST on the CPU\n",
    "\n",
    "To appreciate the advantage for training deep networks on GPUs instead of your computer's CPU, copy-paste your code above that trains your VGG4 net on MNIST below. Instead of running it on CoCalc, run it locally on your computer. Be sure to print out the time per epoch.\n",
    "\n",
    "*If the net takes >2 minutes per epoch on your computer, just train for one epoch then call it quits :)*"
   ]
  },
  {
   "cell_type": "code",
   "execution_count": 5,
   "id": "148353",
   "metadata": {
    "collapsed": false
   },
   "outputs": [
    {
     "name": "stdout",
     "output_type": "stream",
     "text": [
      "---------------------------------------------------------------------------\n",
      "Dense layer output(output) shape: [1, 10]\n",
      "Dropout layer output(dropout1) shape: [1, 128]\n",
      "Dense layer output(dense1) shape: [1, 128]\n",
      "Flatten layer output(flat) shape: [1, 12544]\n",
      "MaxPool2D layer output(maxpool1) shape: [1, 14, 14, 64]\n",
      "Conv2D layer output(conv2) shape: [1, 28, 28, 64]\n",
      "Conv2D layer output(conv1) shape: [1, 28, 28, 64]\n",
      "---------------------------------------------------------------------------\n",
      "validation accuracy: 0.9359878897666931\n",
      "validation loss: 0.20832352340221405\n",
      "the epoch 0 took 80403125000 nanoseconds\n",
      "Finished training after 1 epochs!\n"
     ]
    },
    {
     "data": {
      "text/plain": [
       "([0.9128886], [0.20832352], [0.9359879], 0)"
      ]
     },
     "execution_count": 5,
     "metadata": {},
     "output_type": "execute_result"
    }
   ],
   "source": [
    "tf.random.set_seed(0)\n",
    "\n",
    "model = VGG4(10, (28,28,1))\n",
    "model.compile(lr = 0.01)\n",
    "model.fit(x_train,y_train,x_val, y_val, batch_size = 1024, max_epochs = 1, patience = 10)"
   ]
  },
  {
   "cell_type": "markdown",
   "id": "81b12b",
   "metadata": {
    "collapsed": false
   },
   "source": [
    "### 4c. Questions\n",
    "\n",
    "**Question 1:** Approximately how long did it take for 1 epoch of training with and without the GPU. Compute the relative compute time (`gpu_time_per_epoch`/`cpu_time_per_epoch`). What do you think?"
   ]
  },
  {
   "cell_type": "markdown",
   "id": "69b01a",
   "metadata": {
    "collapsed": false
   },
   "source": [
    "**Answer 1:** So one epoch on the gpu is 20x faster than on the cpu.  That makes sense.  Training weights on the gpu takes advantage of gpu ability to do large scale matrix operations.  Cpu is not good at this."
   ]
  },
  {
   "cell_type": "code",
   "execution_count": 6,
   "metadata": {},
   "outputs": [
    {
     "name": "stdout",
     "output_type": "stream",
     "text": [
      "0.052653197994480934\n"
     ]
    }
   ],
   "source": [
    "gpu_to_cpu_ratio = 4233481660/80403125000\n",
    "print(gpu_to_cpu_ratio)"
   ]
  },
  {
   "cell_type": "markdown",
   "id": "9f4f69",
   "metadata": {
    "collapsed": false
   },
   "source": [
    "### 4d. Train `VGG4` on CIFAR-10\n",
    "\n",
    "Now let's train on CIFAR-10. Run this (*and all subsequent large training sessions*) on CoCalc/the GPU 😊\n",
    "\n",
    "Write code in the cell below to load in CIFAR-10."
   ]
  },
  {
   "cell_type": "code",
   "execution_count": 16,
   "id": "821912",
   "metadata": {
    "collapsed": false
   },
   "outputs": [
    {
     "name": "stdout",
     "output_type": "stream",
     "text": [
      "Downloading data from https://www.cs.toronto.edu/~kriz/cifar-10-python.tar.gz\n"
     ]
    },
    {
     "name": "stdout",
     "output_type": "stream",
     "text": [
      "\r     8192/170498071 [..............................] - ETA: 0s"
     ]
    },
    {
     "name": "stdout",
     "output_type": "stream",
     "text": [
      "\b\b\b\b\b\b\b\b\b\b\b\b\b\b\b\b\b\b\b\b\b\b\b\b\b\b\b\b\b\b\b\b\b\b\b\b\b\b\b\b\b\b\b\b\b\b\b\b\b\b\b\b\b\b\b\b\b\b\b\b\b\b\r   204800/170498071 [..............................] - ETA: 56s"
     ]
    },
    {
     "name": "stdout",
     "output_type": "stream",
     "text": [
      "\b\b\b\b\b\b\b\b\b\b\b\b\b\b\b\b\b\b\b\b\b\b\b\b\b\b\b\b\b\b\b\b\b\b\b\b\b\b\b\b\b\b\b\b\b\b\b\b\b\b\b\b\b\b\b\b\b\b\b\b\b\b\b\r  1384448/170498071 [..............................] - ETA: 14s"
     ]
    },
    {
     "name": "stdout",
     "output_type": "stream",
     "text": [
      "\b\b\b\b\b\b\b\b\b\b\b\b\b\b\b\b\b\b\b\b\b\b\b\b\b\b\b\b\b\b\b\b\b\b\b\b\b\b\b\b\b\b\b\b\b\b\b\b\b\b\b\b\b\b\b\b\b\b\b\b\b\b\b\r  4243456/170498071 [..............................] - ETA: 6s "
     ]
    },
    {
     "name": "stdout",
     "output_type": "stream",
     "text": [
      "\b\b\b\b\b\b\b\b\b\b\b\b\b\b\b\b\b\b\b\b\b\b\b\b\b\b\b\b\b\b\b\b\b\b\b\b\b\b\b\b\b\b\b\b\b\b\b\b\b\b\b\b\b\b\b\b\b\b\b\b\b\b\r  8781824/170498071 [>.............................] - ETA: 4s"
     ]
    },
    {
     "name": "stdout",
     "output_type": "stream",
     "text": [
      "\b\b\b\b\b\b\b\b\b\b\b\b\b\b\b\b\b\b\b\b\b\b\b\b\b\b\b\b\b\b\b\b\b\b\b\b\b\b\b\b\b\b\b\b\b\b\b\b\b\b\b\b\b\b\b\b\b\b\b\b\b\b\r 14229504/170498071 [=>............................] - ETA: 2s"
     ]
    },
    {
     "name": "stdout",
     "output_type": "stream",
     "text": [
      "\b\b\b\b\b\b\b\b\b\b\b\b\b\b\b\b\b\b\b\b\b\b\b\b\b\b\b\b\b\b\b\b\b\b\b\b\b\b\b\b\b\b\b\b\b\b\b\b\b\b\b\b\b\b\b\b\b\b\b\b\b\b\r 18825216/170498071 [==>...........................] - ETA: 2s"
     ]
    },
    {
     "name": "stdout",
     "output_type": "stream",
     "text": [
      "\b\b\b\b\b\b\b\b\b\b\b\b\b\b\b\b\b\b\b\b\b\b\b\b\b\b\b\b\b\b\b\b\b\b\b\b\b\b\b\b\b\b\b\b\b\b\b\b\b\b\b\b\b\b\b\b\b\b\b\b\b\b\r 24051712/170498071 [===>..........................] - ETA: 2s"
     ]
    },
    {
     "name": "stdout",
     "output_type": "stream",
     "text": [
      "\b\b\b\b\b\b\b\b\b\b\b\b\b\b\b\b\b\b\b\b\b\b\b\b\b\b\b\b\b\b\b\b\b\b\b\b\b\b\b\b\b\b\b\b\b\b\b\b\b\b\b\b\b\b\b\b\b\b\b\b\b\b\r 29032448/170498071 [====>.........................] - ETA: 2s"
     ]
    },
    {
     "name": "stdout",
     "output_type": "stream",
     "text": [
      "\b\b\b\b\b\b\b\b\b\b\b\b\b\b\b\b\b\b\b\b\b\b\b\b\b\b\b\b\b\b\b\b\b\b\b\b\b\b\b\b\b\b\b\b\b\b\b\b\b\b\b\b\b\b\b\b\b\b\b\b\b\b\r 34103296/170498071 [=====>........................] - ETA: 1s"
     ]
    },
    {
     "name": "stdout",
     "output_type": "stream",
     "text": [
      "\b\b\b\b\b\b\b\b\b\b\b\b\b\b\b\b\b\b\b\b\b\b\b\b\b\b\b\b\b\b\b\b\b\b\b\b\b\b\b\b\b\b\b\b\b\b\b\b\b\b\b\b\b\b\b\b\b\b\b\b\b\b\r 40796160/170498071 [======>.......................] - ETA: 1s"
     ]
    },
    {
     "name": "stdout",
     "output_type": "stream",
     "text": [
      "\b\b\b\b\b\b\b\b\b\b\b\b\b\b\b\b\b\b\b\b\b\b\b\b\b\b\b\b\b\b\b\b\b\b\b\b\b\b\b\b\b\b\b\b\b\b\b\b\b\b\b\b\b\b\b\b\b\b\b\b\b\b\r 46104576/170498071 [=======>......................] - ETA: 1s"
     ]
    },
    {
     "name": "stdout",
     "output_type": "stream",
     "text": [
      "\b\b\b\b\b\b\b\b\b\b\b\b\b\b\b\b\b\b\b\b\b\b\b\b\b\b\b\b\b\b\b\b\b\b\b\b\b\b\b\b\b\b\b\b\b\b\b\b\b\b\b\b\b\b\b\b\b\b\b\b\b\b\r 50757632/170498071 [=======>......................] - ETA: 1s"
     ]
    },
    {
     "name": "stdout",
     "output_type": "stream",
     "text": [
      "\b\b\b\b\b\b\b\b\b\b\b\b\b\b\b\b\b\b\b\b\b\b\b\b\b\b\b\b\b\b\b\b\b\b\b\b\b\b\b\b\b\b\b\b\b\b\b\b\b\b\b\b\b\b\b\b\b\b\b\b\b\b\r 55803904/170498071 [========>.....................] - ETA: 1s"
     ]
    },
    {
     "name": "stdout",
     "output_type": "stream",
     "text": [
      "\b\b\b\b\b\b\b\b\b\b\b\b\b\b\b\b\b\b\b\b\b\b\b\b\b\b\b\b\b\b\b\b\b\b\b\b\b\b\b\b\b\b\b\b\b\b\b\b\b\b\b\b\b\b\b\b\b\b\b\b\b\b\r 61407232/170498071 [=========>....................] - ETA: 1s"
     ]
    },
    {
     "name": "stdout",
     "output_type": "stream",
     "text": [
      "\b\b\b\b\b\b\b\b\b\b\b\b\b\b\b\b\b\b\b\b\b\b\b\b\b\b\b\b\b\b\b\b\b\b\b\b\b\b\b\b\b\b\b\b\b\b\b\b\b\b\b\b\b\b\b\b\b\b\b\b\b\b\r 67174400/170498071 [==========>...................] - ETA: 1s"
     ]
    },
    {
     "name": "stdout",
     "output_type": "stream",
     "text": [
      "\b\b\b\b\b\b\b\b\b\b\b\b\b\b\b\b\b\b\b\b\b\b\b\b\b\b\b\b\b\b\b\b\b\b\b\b\b\b\b\b\b\b\b\b\b\b\b\b\b\b\b\b\b\b\b\b\b\b\b\b\b\b\r 71901184/170498071 [===========>..................] - ETA: 1s"
     ]
    },
    {
     "name": "stdout",
     "output_type": "stream",
     "text": [
      "\b\b\b\b\b\b\b\b\b\b\b\b\b\b\b\b\b\b\b\b\b\b\b\b\b\b\b\b\b\b\b\b\b\b\b\b\b\b\b\b\b\b\b\b\b\b\b\b\b\b\b\b\b\b\b\b\b\b\b\b\b\b\r 76357632/170498071 [============>.................] - ETA: 1s"
     ]
    },
    {
     "name": "stdout",
     "output_type": "stream",
     "text": [
      "\b\b\b\b\b\b\b\b\b\b\b\b\b\b\b\b\b\b\b\b\b\b\b\b\b\b\b\b\b\b\b\b\b\b\b\b\b\b\b\b\b\b\b\b\b\b\b\b\b\b\b\b\b\b\b\b\b\b\b\b\b\b\r 82132992/170498071 [=============>................] - ETA: 0s"
     ]
    },
    {
     "name": "stdout",
     "output_type": "stream",
     "text": [
      "\b\b\b\b\b\b\b\b\b\b\b\b\b\b\b\b\b\b\b\b\b\b\b\b\b\b\b\b\b\b\b\b\b\b\b\b\b\b\b\b\b\b\b\b\b\b\b\b\b\b\b\b\b\b\b\b\b\b\b\b\b\b\r 87834624/170498071 [==============>...............] - ETA: 0s"
     ]
    },
    {
     "name": "stdout",
     "output_type": "stream",
     "text": [
      "\b\b\b\b\b\b\b\b\b\b\b\b\b\b\b\b\b\b\b\b\b\b\b\b\b\b\b\b\b\b\b\b\b\b\b\b\b\b\b\b\b\b\b\b\b\b\b\b\b\b\b\b\b\b\b\b\b\b\b\b\b\b\r 93110272/170498071 [===============>..............] - ETA: 0s"
     ]
    },
    {
     "name": "stdout",
     "output_type": "stream",
     "text": [
      "\b\b\b\b\b\b\b\b\b\b\b\b\b\b\b\b\b\b\b\b\b\b\b\b\b\b\b\b\b\b\b\b\b\b\b\b\b\b\b\b\b\b\b\b\b\b\b\b\b\b\b\b\b\b\b\b\b\b\b\b\b\b\r 97165312/170498071 [================>.............] - ETA: 0s"
     ]
    },
    {
     "name": "stdout",
     "output_type": "stream",
     "text": [
      "\b\b\b\b\b\b\b\b\b\b\b\b\b\b\b\b\b\b\b\b\b\b\b\b\b\b\b\b\b\b\b\b\b\b\b\b\b\b\b\b\b\b\b\b\b\b\b\b\b\b\b\b\b\b\b\b\b\b\b\b\b\b\r101711872/170498071 [================>.............] - ETA: 0s"
     ]
    },
    {
     "name": "stdout",
     "output_type": "stream",
     "text": [
      "\b\b\b\b\b\b\b\b\b\b\b\b\b\b\b\b\b\b\b\b\b\b\b\b\b\b\b\b\b\b\b\b\b\b\b\b\b\b\b\b\b\b\b\b\b\b\b\b\b\b\b\b\b\b\b\b\b\b\b\b\b\b\r105930752/170498071 [=================>............] - ETA: 0s"
     ]
    },
    {
     "name": "stdout",
     "output_type": "stream",
     "text": [
      "\b\b\b\b\b\b\b\b\b\b\b\b\b\b\b\b\b\b\b\b\b\b\b\b\b\b\b\b\b\b\b\b\b\b\b\b\b\b\b\b\b\b\b\b\b\b\b\b\b\b\b\b\b\b\b\b\b\b\b\b\b\b\r111575040/170498071 [==================>...........] - ETA: 0s"
     ]
    },
    {
     "name": "stdout",
     "output_type": "stream",
     "text": [
      "\b\b\b\b\b\b\b\b\b\b\b\b\b\b\b\b\b\b\b\b\b\b\b\b\b\b\b\b\b\b\b\b\b\b\b\b\b\b\b\b\b\b\b\b\b\b\b\b\b\b\b\b\b\b\b\b\b\b\b\b\b\b\r117063680/170498071 [===================>..........] - ETA: 0s"
     ]
    },
    {
     "name": "stdout",
     "output_type": "stream",
     "text": [
      "\b\b\b\b\b\b\b\b\b\b\b\b\b\b\b\b\b\b\b\b\b\b\b\b\b\b\b\b\b\b\b\b\b\b\b\b\b\b\b\b\b\b\b\b\b\b\b\b\b\b\b\b\b\b\b\b\b\b\b\b\b\b\r121364480/170498071 [====================>.........] - ETA: 0s"
     ]
    },
    {
     "name": "stdout",
     "output_type": "stream",
     "text": [
      "\b\b\b\b\b\b\b\b\b\b\b\b\b\b\b\b\b\b\b\b\b\b\b\b\b\b\b\b\b\b\b\b\b\b\b\b\b\b\b\b\b\b\b\b\b\b\b\b\b\b\b\b\b\b\b\b\b\b\b\b\b\b\r127016960/170498071 [=====================>........] - ETA: 0s"
     ]
    },
    {
     "name": "stdout",
     "output_type": "stream",
     "text": [
      "\b\b\b\b\b\b\b\b\b\b\b\b\b\b\b\b\b\b\b\b\b\b\b\b\b\b\b\b\b\b\b\b\b\b\b\b\b\b\b\b\b\b\b\b\b\b\b\b\b\b\b\b\b\b\b\b\b\b\b\b\b\b\r131940352/170498071 [======================>.......] - ETA: 0s"
     ]
    },
    {
     "name": "stdout",
     "output_type": "stream",
     "text": [
      "\b\b\b\b\b\b\b\b\b\b\b\b\b\b\b\b\b\b\b\b\b\b\b\b\b\b\b\b\b\b\b\b\b\b\b\b\b\b\b\b\b\b\b\b\b\b\b\b\b\b\b\b\b\b\b\b\b\b\b\b\b\b\r138117120/170498071 [=======================>......] - ETA: 0s"
     ]
    },
    {
     "name": "stdout",
     "output_type": "stream",
     "text": [
      "\b\b\b\b\b\b\b\b\b\b\b\b\b\b\b\b\b\b\b\b\b\b\b\b\b\b\b\b\b\b\b\b\b\b\b\b\b\b\b\b\b\b\b\b\b\b\b\b\b\b\b\b\b\b\b\b\b\b\b\b\b\b\r142745600/170498071 [========================>.....] - ETA: 0s"
     ]
    },
    {
     "name": "stdout",
     "output_type": "stream",
     "text": [
      "\b\b\b\b\b\b\b\b\b\b\b\b\b\b\b\b\b\b\b\b\b\b\b\b\b\b\b\b\b\b\b\b\b\b\b\b\b\b\b\b\b\b\b\b\b\b\b\b\b\b\b\b\b\b\b\b\b\b\b\b\b\b\r148160512/170498071 [=========================>....] - ETA: 0s"
     ]
    },
    {
     "name": "stdout",
     "output_type": "stream",
     "text": [
      "\b\b\b\b\b\b\b\b\b\b\b\b\b\b\b\b\b\b\b\b\b\b\b\b\b\b\b\b\b\b\b\b\b\b\b\b\b\b\b\b\b\b\b\b\b\b\b\b\b\b\b\b\b\b\b\b\b\b\b\b\b\b\r152133632/170498071 [=========================>....] - ETA: 0s"
     ]
    },
    {
     "name": "stdout",
     "output_type": "stream",
     "text": [
      "\b\b\b\b\b\b\b\b\b\b\b\b\b\b\b\b\b\b\b\b\b\b\b\b\b\b\b\b\b\b\b\b\b\b\b\b\b\b\b\b\b\b\b\b\b\b\b\b\b\b\b\b\b\b\b\b\b\b\b\b\b\b\r157720576/170498071 [==========================>...] - ETA: 0s"
     ]
    },
    {
     "name": "stdout",
     "output_type": "stream",
     "text": [
      "\b\b\b\b\b\b\b\b\b\b\b\b\b\b\b\b\b\b\b\b\b\b\b\b\b\b\b\b\b\b\b\b\b\b\b\b\b\b\b\b\b\b\b\b\b\b\b\b\b\b\b\b\b\b\b\b\b\b\b\b\b\b\r160759808/170498071 [===========================>..] - ETA: 0s"
     ]
    },
    {
     "name": "stdout",
     "output_type": "stream",
     "text": [
      "\b\b\b\b\b\b\b\b\b\b\b\b\b\b\b\b\b\b\b\b\b\b\b\b\b\b\b\b\b\b\b\b\b\b\b\b\b\b\b\b\b\b\b\b\b\b\b\b\b\b\b\b\b\b\b\b\b\b\b\b\b\b\r164216832/170498071 [===========================>..] - ETA: 0s"
     ]
    },
    {
     "name": "stdout",
     "output_type": "stream",
     "text": [
      "\b\b\b\b\b\b\b\b\b\b\b\b\b\b\b\b\b\b\b\b\b\b\b\b\b\b\b\b\b\b\b\b\b\b\b\b\b\b\b\b\b\b\b\b\b\b\b\b\b\b\b\b\b\b\b\b\b\b\b\b\b\b\r170401792/170498071 [============================>.] - ETA: 0s"
     ]
    },
    {
     "name": "stdout",
     "output_type": "stream",
     "text": [
      "\b\b\b\b\b\b\b\b\b\b\b\b\b\b\b\b\b\b\b\b\b\b\b\b\b\b\b\b\b\b\b\b\b\b\b\b\b\b\b\b\b\b\b\b\b\b\b\b\b\b\b\b\b\b\b\b\b\b\b\b\b\b\r170498071/170498071 [==============================] - 2s 0us/step\n"
     ]
    },
    {
     "name": "stdout",
     "output_type": "stream",
     "text": [
      "Your training set data have shape (45000, 32, 32, 3) and they should be (45000, 32, 32, 3)\n",
      "Your training set labels have shape (45000,) and they should be (45000,)\n",
      "Your val set data have shape (5000, 32, 32, 3) and they should be (5000, 32, 32, 3)\n",
      "Your val set labels have shape (5000,) and they should be (5000,)\n",
      "Your test set data have shape (10000, 32, 32, 3) and they should be (10000, 32, 32, 3)\n",
      "Your test set labels have shape (10000,) and they should be (10000,)\n"
     ]
    }
   ],
   "source": [
    "x_train, y_train, x_val, y_val, x_test, y_test, classnames = get_dataset(name = \"cifar10\")\n",
    "# KEEP ME\n",
    "print(f'Your training set data have shape {x_train.shape} and they should be (45000, 32, 32, 3)')\n",
    "print(f'Your training set labels have shape {y_train.shape} and they should be (45000,)')\n",
    "print(f'Your val set data have shape {x_val.shape} and they should be (5000, 32, 32, 3)')\n",
    "print(f'Your val set labels have shape {y_val.shape} and they should be (5000,)')\n",
    "print(f'Your test set data have shape {x_test.shape} and they should be (10000, 32, 32, 3)')\n",
    "print(f'Your test set labels have shape {y_test.shape} and they should be (10000,)')"
   ]
  },
  {
   "cell_type": "markdown",
   "id": "59bcd3",
   "metadata": {
    "collapsed": false
   },
   "source": [
    "Train `VGG4` on CIFAR-10 in the cell below for `15` epochs and use a batch size of `128`.\n",
    "\n",
    "*You should anticipate 10-20 secs per epoch of training. Thus, the whole training session should take ~2.5-5 mins. If this is far off, please seek help.*\n",
    "\n",
    "Plot the training and val loss over epochs. Put test acc in the title. *If everything is working, your training and validation loss should steadily decrease then start to plateau by the end of training.*"
   ]
  },
  {
   "cell_type": "code",
   "execution_count": 17,
   "id": "196c63",
   "metadata": {
    "collapsed": false
   },
   "outputs": [
    {
     "name": "stdout",
     "output_type": "stream",
     "text": [
      "---------------------------------------------------------------------------\n",
      "Dense layer output(output) shape: [1, 10]\n",
      "Dropout layer output(dropout1) shape: [1, 128]\n",
      "Dense layer output(dense1) shape: [1, 128]\n",
      "Flatten layer output(flat) shape: [1, 16384]\n",
      "MaxPool2D layer output(maxpool1) shape: [1, 16, 16, 64]\n",
      "Conv2D layer output(conv2) shape: [1, 32, 32, 64]\n",
      "Conv2D layer output(conv1) shape: [1, 32, 32, 64]\n",
      "---------------------------------------------------------------------------\n"
     ]
    },
    {
     "name": "stdout",
     "output_type": "stream",
     "text": [
      "validation accuracy: 0.4427083432674408\n",
      "validation loss: 1.5257312059402466\n",
      "the epoch 0 took 7766827478 nanoseconds\n"
     ]
    },
    {
     "name": "stdout",
     "output_type": "stream",
     "text": [
      "validation accuracy: 0.5034054517745972\n",
      "validation loss: 1.3818217515945435\n",
      "the epoch 1 took 5214360669 nanoseconds\n"
     ]
    },
    {
     "name": "stdout",
     "output_type": "stream",
     "text": [
      "validation accuracy: 0.5528846383094788\n",
      "validation loss: 1.2690777778625488\n",
      "the epoch 2 took 5187471743 nanoseconds\n"
     ]
    },
    {
     "name": "stdout",
     "output_type": "stream",
     "text": [
      "validation accuracy: 0.5857371687889099\n",
      "validation loss: 1.1503205299377441\n",
      "the epoch 3 took 5149373313 nanoseconds\n"
     ]
    },
    {
     "name": "stdout",
     "output_type": "stream",
     "text": [
      "validation accuracy: 0.6135817170143127\n",
      "validation loss: 1.0883808135986328\n",
      "the epoch 4 took 5136771473 nanoseconds\n"
     ]
    },
    {
     "name": "stdout",
     "output_type": "stream",
     "text": [
      "validation accuracy: 0.6364182829856873\n",
      "validation loss: 1.0214366912841797\n",
      "the epoch 5 took 5135127042 nanoseconds\n"
     ]
    },
    {
     "name": "stdout",
     "output_type": "stream",
     "text": [
      "validation accuracy: 0.6414262652397156\n",
      "validation loss: 1.0025323629379272\n",
      "the epoch 6 took 5135676100 nanoseconds\n"
     ]
    },
    {
     "name": "stdout",
     "output_type": "stream",
     "text": [
      "validation accuracy: 0.6654647588729858\n",
      "validation loss: 0.9777019023895264\n",
      "the epoch 7 took 5108405906 nanoseconds\n"
     ]
    },
    {
     "name": "stdout",
     "output_type": "stream",
     "text": [
      "validation accuracy: 0.6818910241127014\n",
      "validation loss: 0.932505190372467\n",
      "the epoch 8 took 5140565482 nanoseconds\n"
     ]
    },
    {
     "name": "stdout",
     "output_type": "stream",
     "text": [
      "validation accuracy: 0.6808894276618958\n",
      "validation loss: 0.932016909122467\n",
      "the epoch 9 took 5122218659 nanoseconds\n"
     ]
    },
    {
     "name": "stdout",
     "output_type": "stream",
     "text": [
      "validation accuracy: 0.6929086446762085\n",
      "validation loss: 0.926054060459137\n",
      "the epoch 10 took 5273090701 nanoseconds\n"
     ]
    },
    {
     "name": "stdout",
     "output_type": "stream",
     "text": [
      "validation accuracy: 0.6879006624221802\n",
      "validation loss: 0.9428726434707642\n",
      "the epoch 11 took 5118183282 nanoseconds\n"
     ]
    },
    {
     "name": "stdout",
     "output_type": "stream",
     "text": [
      "validation accuracy: 0.6961137652397156\n",
      "validation loss: 0.9446305632591248\n",
      "the epoch 12 took 5119857364 nanoseconds\n"
     ]
    },
    {
     "name": "stdout",
     "output_type": "stream",
     "text": [
      "validation accuracy: 0.692307710647583\n",
      "validation loss: 0.9528195261955261\n",
      "the epoch 13 took 5133800490 nanoseconds\n"
     ]
    },
    {
     "name": "stdout",
     "output_type": "stream",
     "text": [
      "validation accuracy: 0.6919070482254028\n",
      "validation loss: 0.9820547103881836\n",
      "the epoch 14 took 5167648579 nanoseconds\n",
      "Finished training after 15 epochs!\n"
     ]
    }
   ],
   "source": [
    "# KEEP THIS SEED\n",
    "tf.random.set_seed(0)\n",
    "\n",
    "model = VGG4(10, (32,32,3))\n",
    "model.compile()\n",
    "train_loss_hist, val_loss_hist, val_acc_hist, e = model.fit(x_train, y_train,x_val, y_val, batch_size = 128, max_epochs = 15)\n",
    "\n",
    "\n"
   ]
  },
  {
   "cell_type": "code",
   "execution_count": 20,
   "id": "cbfe0e",
   "metadata": {
    "collapsed": false
   },
   "outputs": [
    {
     "data": {
      "image/png": "[encoded data removed]",
      "text/plain": [
       "<Figure size 640x480 with 1 Axes>"
      ]
     },
     "execution_count": 20,
     "metadata": {},
     "output_type": "execute_result"
    }
   ],
   "source": [
    "plt.plot(np.array(val_loss_hist), label = 'val loss')\n",
    "plt.plot(np.array(train_loss_hist), label = 'train loss')\n",
    "plt.legend()\n",
    "plt.title(f'Validation and training loss over epochs, val accuracy = {np.array(val_acc_hist)[-1]}')\n",
    "plt.show()"
   ]
  },
  {
   "cell_type": "markdown",
   "id": "7ce389",
   "metadata": {
    "collapsed": false
   },
   "source": [
    "### 4e. Experiment: Effect of batch size on runtime and accuracy\n",
    "\n",
    "To develop your intuition about how the choice of batch size generally affects runtime and accuracy on a dataset like CIFAR-10, run an experiment in which fresh `VGG4` nets are trained for `15` epochs with one of the following batch sizes:<br/>\n",
    "`[128, 256, 512, 1024, 2048]`. After each training run, record the test accuracy and runtime.\n",
    "\n",
    "Create two plots:\n",
    "1. The test accuracy (y axis) as a function of the batch size (x axis). There should be 5 markers joined by a single curve.\n",
    "2. The runtime (y axis) as a function of the batch size (x axis). There should be 5 markers joined by a single curve.\n",
    "\n",
    "**Note:**\n",
    "- Your `fit` method prints the runtime per epoch, but in this task you should record the total runtime over training and prediction. (in seconds). To do this, it may make sense to use the time module to record the total time in the notebook cell below.\n",
    "- You should be running this on the GPU!"
   ]
  },
  {
   "cell_type": "code",
   "execution_count": 22,
   "id": "bd438e",
   "metadata": {
    "collapsed": false
   },
   "outputs": [],
   "source": [
    "import time"
   ]
  },
  {
   "cell_type": "code",
   "execution_count": 23,
   "id": "6538ff",
   "metadata": {
    "collapsed": false
   },
   "outputs": [
    {
     "name": "stdout",
     "output_type": "stream",
     "text": [
      "---------------------------------------------------------------------------\n",
      "Dense layer output(output) shape: [1, 10]\n",
      "Dropout layer output(dropout1) shape: [1, 128]\n",
      "Dense layer output(dense1) shape: [1, 128]\n",
      "Flatten layer output(flat) shape: [1, 16384]\n",
      "MaxPool2D layer output(maxpool1) shape: [1, 16, 16, 64]\n",
      "Conv2D layer output(conv2) shape: [1, 32, 32, 64]\n",
      "Conv2D layer output(conv1) shape: [1, 32, 32, 64]\n",
      "---------------------------------------------------------------------------\n"
     ]
    },
    {
     "name": "stdout",
     "output_type": "stream",
     "text": [
      "validation accuracy: 0.44090545177459717\n",
      "validation loss: 1.531414270401001\n",
      "the epoch 0 took 6865294276 nanoseconds\n"
     ]
    },
    {
     "name": "stdout",
     "output_type": "stream",
     "text": [
      "validation accuracy: 0.5182291865348816\n",
      "validation loss: 1.3175125122070312\n",
      "the epoch 1 took 4969712909 nanoseconds\n"
     ]
    },
    {
     "name": "stdout",
     "output_type": "stream",
     "text": [
      "validation accuracy: 0.5582932829856873\n",
      "validation loss: 1.2259382009506226\n",
      "the epoch 2 took 5025224453 nanoseconds\n"
     ]
    },
    {
     "name": "stdout",
     "output_type": "stream",
     "text": [
      "validation accuracy: 0.5991586446762085\n",
      "validation loss: 1.13435959815979\n",
      "the epoch 3 took 5028851578 nanoseconds\n"
     ]
    },
    {
     "name": "stdout",
     "output_type": "stream",
     "text": [
      "validation accuracy: 0.620192289352417\n",
      "validation loss: 1.0705291032791138\n",
      "the epoch 4 took 5012998376 nanoseconds\n"
     ]
    },
    {
     "name": "stdout",
     "output_type": "stream",
     "text": [
      "validation accuracy: 0.6568509340286255\n",
      "validation loss: 0.9909437298774719\n",
      "the epoch 5 took 4996682067 nanoseconds\n"
     ]
    },
    {
     "name": "stdout",
     "output_type": "stream",
     "text": [
      "validation accuracy: 0.6580528616905212\n",
      "validation loss: 0.977849006652832\n",
      "the epoch 6 took 5025272246 nanoseconds\n"
     ]
    },
    {
     "name": "stdout",
     "output_type": "stream",
     "text": [
      "validation accuracy: 0.6564503312110901\n",
      "validation loss: 0.9928908944129944\n",
      "the epoch 7 took 5050066110 nanoseconds\n"
     ]
    },
    {
     "name": "stdout",
     "output_type": "stream",
     "text": [
      "validation accuracy: 0.6782852411270142\n",
      "validation loss: 0.9398820400238037\n",
      "the epoch 8 took 5225492049 nanoseconds\n"
     ]
    },
    {
     "name": "stdout",
     "output_type": "stream",
     "text": [
      "validation accuracy: 0.6804887652397156\n",
      "validation loss: 0.9674379229545593\n",
      "the epoch 9 took 5224388513 nanoseconds\n"
     ]
    },
    {
     "name": "stdout",
     "output_type": "stream",
     "text": [
      "validation accuracy: 0.6744791865348816\n",
      "validation loss: 1.0027199983596802\n",
      "the epoch 10 took 5163731179 nanoseconds\n"
     ]
    },
    {
     "name": "stdout",
     "output_type": "stream",
     "text": [
      "validation accuracy: 0.6800881624221802\n",
      "validation loss: 0.9838078618049622\n",
      "the epoch 11 took 5031562924 nanoseconds\n"
     ]
    },
    {
     "name": "stdout",
     "output_type": "stream",
     "text": [
      "validation accuracy: 0.6830929517745972\n",
      "validation loss: 0.986370861530304\n",
      "the epoch 12 took 5064548205 nanoseconds\n"
     ]
    },
    {
     "name": "stdout",
     "output_type": "stream",
     "text": [
      "validation accuracy: 0.6862980723381042\n",
      "validation loss: 1.0071094036102295\n",
      "the epoch 13 took 4990819339 nanoseconds\n"
     ]
    },
    {
     "name": "stdout",
     "output_type": "stream",
     "text": [
      "validation accuracy: 0.6820913553237915\n",
      "validation loss: 1.0282368659973145\n",
      "the epoch 14 took 5027174575 nanoseconds\n",
      "Finished training after 15 epochs!\n"
     ]
    },
    {
     "name": "stdout",
     "output_type": "stream",
     "text": [
      "---------------------------------------------------------------------------\n",
      "Dense layer output(output) shape: [1, 10]\n",
      "Dropout layer output(dropout1) shape: [1, 128]\n",
      "Dense layer output(dense1) shape: [1, 128]\n",
      "Flatten layer output(flat) shape: [1, 16384]\n",
      "MaxPool2D layer output(maxpool1) shape: [1, 16, 16, 64]\n",
      "Conv2D layer output(conv2) shape: [1, 32, 32, 64]\n",
      "Conv2D layer output(conv1) shape: [1, 32, 32, 64]\n",
      "---------------------------------------------------------------------------\n"
     ]
    },
    {
     "name": "stdout",
     "output_type": "stream",
     "text": [
      "validation accuracy: 0.40625\n",
      "validation loss: 1.6661651134490967\n",
      "the epoch 0 took 4607814627 nanoseconds\n"
     ]
    },
    {
     "name": "stdout",
     "output_type": "stream",
     "text": [
      "validation accuracy: 0.4611378312110901\n",
      "validation loss: 1.4716756343841553\n",
      "the epoch 1 took 2221601209 nanoseconds\n"
     ]
    },
    {
     "name": "stdout",
     "output_type": "stream",
     "text": [
      "validation accuracy: 0.5152243375778198\n",
      "validation loss: 1.339017629623413\n",
      "the epoch 2 took 2220030005 nanoseconds\n"
     ]
    },
    {
     "name": "stdout",
     "output_type": "stream",
     "text": [
      "validation accuracy: 0.5496794581413269\n",
      "validation loss: 1.2479908466339111\n",
      "the epoch 3 took 2250764692 nanoseconds\n"
     ]
    },
    {
     "name": "stdout",
     "output_type": "stream",
     "text": [
      "validation accuracy: 0.5677083134651184\n",
      "validation loss: 1.1960291862487793\n",
      "the epoch 4 took 2216939982 nanoseconds\n"
     ]
    },
    {
     "name": "stdout",
     "output_type": "stream",
     "text": [
      "validation accuracy: 0.6009615659713745\n",
      "validation loss: 1.1230064630508423\n",
      "the epoch 5 took 2209076592 nanoseconds\n"
     ]
    },
    {
     "name": "stdout",
     "output_type": "stream",
     "text": [
      "validation accuracy: 0.6213942170143127\n",
      "validation loss: 1.0620521306991577\n",
      "the epoch 6 took 2230667856 nanoseconds\n"
     ]
    },
    {
     "name": "stdout",
     "output_type": "stream",
     "text": [
      "validation accuracy: 0.6438301205635071\n",
      "validation loss: 1.005903959274292\n",
      "the epoch 7 took 2242878683 nanoseconds\n"
     ]
    },
    {
     "name": "stdout",
     "output_type": "stream",
     "text": [
      "validation accuracy: 0.6528445482254028\n",
      "validation loss: 0.9657653570175171\n",
      "the epoch 8 took 2224052117 nanoseconds\n"
     ]
    },
    {
     "name": "stdout",
     "output_type": "stream",
     "text": [
      "validation accuracy: 0.6620593070983887\n",
      "validation loss: 0.9614359736442566\n",
      "the epoch 9 took 2226216992 nanoseconds\n"
     ]
    },
    {
     "name": "stdout",
     "output_type": "stream",
     "text": [
      "validation accuracy: 0.6860977411270142\n",
      "validation loss: 0.9093399047851562\n",
      "the epoch 10 took 2233438855 nanoseconds\n"
     ]
    },
    {
     "name": "stdout",
     "output_type": "stream",
     "text": [
      "validation accuracy: 0.6836938858032227\n",
      "validation loss: 0.9163275361061096\n",
      "the epoch 11 took 2224951954 nanoseconds\n"
     ]
    },
    {
     "name": "stdout",
     "output_type": "stream",
     "text": [
      "validation accuracy: 0.6782852411270142\n",
      "validation loss: 0.9307870268821716\n",
      "the epoch 12 took 2229497850 nanoseconds\n"
     ]
    },
    {
     "name": "stdout",
     "output_type": "stream",
     "text": [
      "validation accuracy: 0.6935096383094788\n",
      "validation loss: 0.901235818862915\n",
      "the epoch 13 took 2208315170 nanoseconds\n"
     ]
    },
    {
     "name": "stdout",
     "output_type": "stream",
     "text": [
      "validation accuracy: 0.6977163553237915\n",
      "validation loss: 0.899520754814148\n",
      "the epoch 14 took 2206687346 nanoseconds\n",
      "Finished training after 15 epochs!\n"
     ]
    },
    {
     "name": "stdout",
     "output_type": "stream",
     "text": [
      "---------------------------------------------------------------------------\n",
      "Dense layer output(output) shape: [1, 10]\n",
      "Dropout layer output(dropout1) shape: [1, 128]\n",
      "Dense layer output(dense1) shape: [1, 128]\n",
      "Flatten layer output(flat) shape: [1, 16384]\n",
      "MaxPool2D layer output(maxpool1) shape: [1, 16, 16, 64]\n",
      "Conv2D layer output(conv2) shape: [1, 32, 32, 64]\n",
      "Conv2D layer output(conv1) shape: [1, 32, 32, 64]\n",
      "---------------------------------------------------------------------------\n"
     ]
    },
    {
     "name": "stdout",
     "output_type": "stream",
     "text": [
      "validation accuracy: 0.36638620495796204\n",
      "validation loss: 1.7711706161499023\n",
      "the epoch 0 took 5306941839 nanoseconds\n"
     ]
    },
    {
     "name": "stdout",
     "output_type": "stream",
     "text": [
      "validation accuracy: 0.4342948794364929\n",
      "validation loss: 1.560308575630188\n",
      "the epoch 1 took 2126765790 nanoseconds\n"
     ]
    },
    {
     "name": "stdout",
     "output_type": "stream",
     "text": [
      "validation accuracy: 0.4795673191547394\n",
      "validation loss: 1.4458823204040527\n",
      "the epoch 2 took 2130279114 nanoseconds\n"
     ]
    },
    {
     "name": "stdout",
     "output_type": "stream",
     "text": [
      "validation accuracy: 0.5016025900840759\n",
      "validation loss: 1.3736802339553833\n",
      "the epoch 3 took 2139725455 nanoseconds\n"
     ]
    },
    {
     "name": "stdout",
     "output_type": "stream",
     "text": [
      "validation accuracy: 0.5308493375778198\n",
      "validation loss: 1.2981618642807007\n",
      "the epoch 4 took 2128501102 nanoseconds\n"
     ]
    },
    {
     "name": "stdout",
     "output_type": "stream",
     "text": [
      "validation accuracy: 0.5727163553237915\n",
      "validation loss: 1.21963632106781\n",
      "the epoch 5 took 2124289723 nanoseconds\n"
     ]
    },
    {
     "name": "stdout",
     "output_type": "stream",
     "text": [
      "validation accuracy: 0.590745210647583\n",
      "validation loss: 1.1559360027313232\n",
      "the epoch 6 took 2131407528 nanoseconds\n"
     ]
    },
    {
     "name": "stdout",
     "output_type": "stream",
     "text": [
      "validation accuracy: 0.6105769276618958\n",
      "validation loss: 1.1079890727996826\n",
      "the epoch 7 took 2150441812 nanoseconds\n"
     ]
    },
    {
     "name": "stdout",
     "output_type": "stream",
     "text": [
      "validation accuracy: 0.6199919581413269\n",
      "validation loss: 1.0805264711380005\n",
      "the epoch 8 took 2124645970 nanoseconds\n"
     ]
    },
    {
     "name": "stdout",
     "output_type": "stream",
     "text": [
      "validation accuracy: 0.6243990659713745\n",
      "validation loss: 1.0506620407104492\n",
      "the epoch 9 took 2127095136 nanoseconds\n"
     ]
    },
    {
     "name": "stdout",
     "output_type": "stream",
     "text": [
      "validation accuracy: 0.6348156929016113\n",
      "validation loss: 1.0132954120635986\n",
      "the epoch 10 took 2126498196 nanoseconds\n"
     ]
    },
    {
     "name": "stdout",
     "output_type": "stream",
     "text": [
      "validation accuracy: 0.6484375\n",
      "validation loss: 1.0046967267990112\n",
      "the epoch 11 took 2127272704 nanoseconds\n"
     ]
    },
    {
     "name": "stdout",
     "output_type": "stream",
     "text": [
      "validation accuracy: 0.6522436141967773\n",
      "validation loss: 0.9824373126029968\n",
      "the epoch 12 took 2129140447 nanoseconds\n"
     ]
    },
    {
     "name": "stdout",
     "output_type": "stream",
     "text": [
      "validation accuracy: 0.6658653616905212\n",
      "validation loss: 0.9557133913040161\n",
      "the epoch 13 took 2138482053 nanoseconds\n"
     ]
    },
    {
     "name": "stdout",
     "output_type": "stream",
     "text": [
      "validation accuracy: 0.6734775900840759\n",
      "validation loss: 0.9351815581321716\n",
      "the epoch 14 took 2124171503 nanoseconds\n",
      "Finished training after 15 epochs!\n"
     ]
    },
    {
     "name": "stdout",
     "output_type": "stream",
     "text": [
      "---------------------------------------------------------------------------\n",
      "Dense layer output(output) shape: [1, 10]\n",
      "Dropout layer output(dropout1) shape: [1, 128]\n",
      "Dense layer output(dense1) shape: [1, 128]\n",
      "Flatten layer output(flat) shape: [1, 16384]\n",
      "MaxPool2D layer output(maxpool1) shape: [1, 16, 16, 64]\n",
      "Conv2D layer output(conv2) shape: [1, 32, 32, 64]\n",
      "Conv2D layer output(conv1) shape: [1, 32, 32, 64]\n",
      "---------------------------------------------------------------------------\n"
     ]
    },
    {
     "name": "stdout",
     "output_type": "stream",
     "text": [
      "validation accuracy: 0.31390222907066345\n",
      "validation loss: 1.892077088356018\n",
      "the epoch 0 took 6990970953 nanoseconds\n"
     ]
    },
    {
     "name": "stdout",
     "output_type": "stream",
     "text": [
      "validation accuracy: 0.39262819290161133\n",
      "validation loss: 1.7085604667663574\n",
      "the epoch 1 took 2100326233 nanoseconds\n"
     ]
    },
    {
     "name": "stdout",
     "output_type": "stream",
     "text": [
      "validation accuracy: 0.43068909645080566\n",
      "validation loss: 1.5824254751205444\n",
      "the epoch 2 took 2111933379 nanoseconds\n"
     ]
    },
    {
     "name": "stdout",
     "output_type": "stream",
     "text": [
      "validation accuracy: 0.4709535241127014\n",
      "validation loss: 1.4773006439208984\n",
      "the epoch 3 took 2110358305 nanoseconds\n"
     ]
    },
    {
     "name": "stdout",
     "output_type": "stream",
     "text": [
      "validation accuracy: 0.49819710850715637\n",
      "validation loss: 1.4021075963974\n",
      "the epoch 4 took 2116447343 nanoseconds\n"
     ]
    },
    {
     "name": "stdout",
     "output_type": "stream",
     "text": [
      "validation accuracy: 0.5196313858032227\n",
      "validation loss: 1.3617048263549805\n",
      "the epoch 5 took 2116738677 nanoseconds\n"
     ]
    },
    {
     "name": "stdout",
     "output_type": "stream",
     "text": [
      "validation accuracy: 0.5364583134651184\n",
      "validation loss: 1.3015755414962769\n",
      "the epoch 6 took 2115667654 nanoseconds\n"
     ]
    },
    {
     "name": "stdout",
     "output_type": "stream",
     "text": [
      "validation accuracy: 0.5522836446762085\n",
      "validation loss: 1.257516622543335\n",
      "the epoch 7 took 2113265789 nanoseconds\n"
     ]
    },
    {
     "name": "stdout",
     "output_type": "stream",
     "text": [
      "validation accuracy: 0.5735176205635071\n",
      "validation loss: 1.2247774600982666\n",
      "the epoch 8 took 2117841419 nanoseconds\n"
     ]
    },
    {
     "name": "stdout",
     "output_type": "stream",
     "text": [
      "validation accuracy: 0.5817307829856873\n",
      "validation loss: 1.1866486072540283\n",
      "the epoch 9 took 2113115778 nanoseconds\n"
     ]
    },
    {
     "name": "stdout",
     "output_type": "stream",
     "text": [
      "validation accuracy: 0.5973557829856873\n",
      "validation loss: 1.1452287435531616\n",
      "the epoch 10 took 2119816765 nanoseconds\n"
     ]
    },
    {
     "name": "stdout",
     "output_type": "stream",
     "text": [
      "validation accuracy: 0.6057692170143127\n",
      "validation loss: 1.1057218313217163\n",
      "the epoch 11 took 2122176358 nanoseconds\n"
     ]
    },
    {
     "name": "stdout",
     "output_type": "stream",
     "text": [
      "validation accuracy: 0.6097756624221802\n",
      "validation loss: 1.08716881275177\n",
      "the epoch 12 took 2122686579 nanoseconds\n"
     ]
    },
    {
     "name": "stdout",
     "output_type": "stream",
     "text": [
      "validation accuracy: 0.6292067170143127\n",
      "validation loss: 1.057953119277954\n",
      "the epoch 13 took 2122114030 nanoseconds\n"
     ]
    },
    {
     "name": "stdout",
     "output_type": "stream",
     "text": [
      "validation accuracy: 0.6386218070983887\n",
      "validation loss: 1.0335811376571655\n",
      "the epoch 14 took 2114048548 nanoseconds\n",
      "Finished training after 15 epochs!\n"
     ]
    },
    {
     "name": "stdout",
     "output_type": "stream",
     "text": [
      "---------------------------------------------------------------------------\n",
      "Dense layer output(output) shape: [1, 10]\n",
      "Dropout layer output(dropout1) shape: [1, 128]\n",
      "Dense layer output(dense1) shape: [1, 128]\n",
      "Flatten layer output(flat) shape: [1, 16384]\n",
      "MaxPool2D layer output(maxpool1) shape: [1, 16, 16, 64]\n",
      "Conv2D layer output(conv2) shape: [1, 32, 32, 64]\n",
      "Conv2D layer output(conv1) shape: [1, 32, 32, 64]\n",
      "---------------------------------------------------------------------------\n"
     ]
    },
    {
     "name": "stdout",
     "output_type": "stream",
     "text": [
      "validation accuracy: 0.23737980425357819\n",
      "validation loss: 2.0886330604553223\n",
      "the epoch 0 took 8930942109 nanoseconds\n"
     ]
    },
    {
     "name": "stdout",
     "output_type": "stream",
     "text": [
      "validation accuracy: 0.32732370495796204\n",
      "validation loss: 1.8581349849700928\n",
      "the epoch 1 took 2108955701 nanoseconds\n"
     ]
    },
    {
     "name": "stdout",
     "output_type": "stream",
     "text": [
      "validation accuracy: 0.3752003312110901\n",
      "validation loss: 1.7262390851974487\n",
      "the epoch 2 took 2107346600 nanoseconds\n"
     ]
    },
    {
     "name": "stdout",
     "output_type": "stream",
     "text": [
      "validation accuracy: 0.41786858439445496\n",
      "validation loss: 1.6381449699401855\n",
      "the epoch 3 took 2106493057 nanoseconds\n"
     ]
    },
    {
     "name": "stdout",
     "output_type": "stream",
     "text": [
      "validation accuracy: 0.4403044879436493\n",
      "validation loss: 1.585460901260376\n",
      "the epoch 4 took 2102477500 nanoseconds\n"
     ]
    },
    {
     "name": "stdout",
     "output_type": "stream",
     "text": [
      "validation accuracy: 0.45452722907066345\n",
      "validation loss: 1.5265532732009888\n",
      "the epoch 5 took 2109288914 nanoseconds\n"
     ]
    },
    {
     "name": "stdout",
     "output_type": "stream",
     "text": [
      "validation accuracy: 0.4787660241127014\n",
      "validation loss: 1.49467933177948\n",
      "the epoch 6 took 2112247355 nanoseconds\n"
     ]
    },
    {
     "name": "stdout",
     "output_type": "stream",
     "text": [
      "validation accuracy: 0.48818108439445496\n",
      "validation loss: 1.441305160522461\n",
      "the epoch 7 took 2106252202 nanoseconds\n"
     ]
    },
    {
     "name": "stdout",
     "output_type": "stream",
     "text": [
      "validation accuracy: 0.510817289352417\n",
      "validation loss: 1.389009952545166\n",
      "the epoch 8 took 2119607779 nanoseconds\n"
     ]
    },
    {
     "name": "stdout",
     "output_type": "stream",
     "text": [
      "validation accuracy: 0.5146234035491943\n",
      "validation loss: 1.3509633541107178\n",
      "the epoch 9 took 2107478722 nanoseconds\n"
     ]
    },
    {
     "name": "stdout",
     "output_type": "stream",
     "text": [
      "validation accuracy: 0.5396634340286255\n",
      "validation loss: 1.2953648567199707\n",
      "the epoch 10 took 2111873663 nanoseconds\n"
     ]
    },
    {
     "name": "stdout",
     "output_type": "stream",
     "text": [
      "validation accuracy: 0.5524839758872986\n",
      "validation loss: 1.2524675130844116\n",
      "the epoch 11 took 2113165740 nanoseconds\n"
     ]
    },
    {
     "name": "stdout",
     "output_type": "stream",
     "text": [
      "validation accuracy: 0.5622996687889099\n",
      "validation loss: 1.2193259000778198\n",
      "the epoch 12 took 2112188636 nanoseconds\n"
     ]
    },
    {
     "name": "stdout",
     "output_type": "stream",
     "text": [
      "validation accuracy: 0.581129789352417\n",
      "validation loss: 1.1839262247085571\n",
      "the epoch 13 took 2124983095 nanoseconds\n"
     ]
    },
    {
     "name": "stdout",
     "output_type": "stream",
     "text": [
      "validation accuracy: 0.5867387652397156\n",
      "validation loss: 1.154367446899414\n",
      "the epoch 14 took 2105603688 nanoseconds\n",
      "Finished training after 15 epochs!\n"
     ]
    }
   ],
   "source": [
    "# KEEP THIS SEED\n",
    "acc_list = []\n",
    "runtime_list = []\n",
    "batch_sizes = [128, 256, 512, 1024, 2048]\n",
    "for size in batch_sizes: \n",
    "    start_time = time.time()\n",
    "    tf.random.set_seed(0)\n",
    "    model = VGG4(10, (32,32,3))\n",
    "    model.compile()\n",
    "    train_loss_hist, val_loss_hist, val_acc_hist, e = model.fit(x_train, y_train,x_val, y_val, batch_size = size, max_epochs = 15)\n",
    "    end_time = time.time()\n",
    "    runtime_list.append(end_time-start_time)\n",
    "    test_acc, _ = model.evaluate(x_test,y_test)\n",
    "    acc_list.append(test_acc)\n",
    "\n",
    "    "
   ]
  },
  {
   "cell_type": "code",
   "execution_count": 26,
   "id": "84a001",
   "metadata": {
    "collapsed": false
   },
   "outputs": [
    {
     "data": {
      "image/png": "[encoded data removed]",
      "text/plain": [
       "<Figure size 640x480 with 1 Axes>"
      ]
     },
     "execution_count": 26,
     "metadata": {},
     "output_type": "execute_result"
    },
    {
     "data": {
      "image/png": "[encoded data removed]",
      "text/plain": [
       "<Figure size 640x480 with 1 Axes>"
      ]
     },
     "execution_count": 26,
     "metadata": {},
     "output_type": "execute_result"
    }
   ],
   "source": [
    "#The test accuracy (y axis) as a function of the batch size (x axis). There should be 5 markers joined by a single curve.\n",
    "plt.plot(batch_sizes, acc_list, marker = 'o')\n",
    "plt.xlabel('batch size')\n",
    "plt.ylabel('test accuracy')\n",
    "plt.title(\"test accuracy by batch size\")\n",
    "plt.show()\n",
    "\n",
    "#The runtime (y axis) as a function of the batch size (x axis). There should be 5 markers joined by a single curve.\n",
    "plt.plot(batch_sizes, runtime_list, marker = 'o')\n",
    "plt.xlabel('batch size')\n",
    "plt.ylabel('runtime (seconds)')\n",
    "plt.title(\"runtime by batch size\")\n",
    "plt.show()\n"
   ]
  },
  {
   "cell_type": "markdown",
   "id": "63cbb9",
   "metadata": {
    "collapsed": false
   },
   "source": [
    "### 4f. Questions\n",
    "\n",
    "**Question 2:** What do the plots suggest to you about the relationship between batch size and accuracy? Please be specific,citing evidence from your plots.\n",
    "\n",
    "**Question 3:** Do you find this relationship surprising? Why or why not?"
   ]
  },
  {
   "cell_type": "markdown",
   "id": "9f8f60",
   "metadata": {
    "collapsed": false
   },
   "source": [
    "**Answer 2:** \n",
    "It seems that the smaller the batch size, the better accuracy we shoudl get. However, when the batch size is too small we will get worse performance.  This suggests that with a sufficiently large subsample, we should see the best performance when updating our weights more often (smaller batches mean more weight updates per epoch)"
   ]
  },
  {
   "cell_type": "markdown",
   "id": "e3ce65",
   "metadata": {
    "collapsed": false
   },
   "source": [
    "**Answer 3:**  I am not surprised at all by this relationship, I think if we ran the larger batch sizes for more epochs so that the number of weight updates was identical, they would perform similarly.  When we have samples of 100-200, it makes sense that the sample should be reasonably large.  If the batches weren't randomly distributed among classes, I would expect small batch sizees to do much worse."
   ]
  }
 ],
 "metadata": {
  "kernelspec": {
   "display_name": "cs343",
   "language": "python",
   "name": "python3"
  },
  "language_info": {
   "codemirror_mode": {
    "name": "ipython",
    "version": 3
   },
   "file_extension": ".py",
   "mimetype": "text/x-python",
   "name": "python",
   "nbconvert_exporter": "python",
   "pygments_lexer": "ipython3",
   "version": "3.11.10"
  }
 },
 "nbformat": 4,
 "nbformat_minor": 4
}
