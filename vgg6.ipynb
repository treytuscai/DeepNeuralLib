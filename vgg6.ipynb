{
 "cells": [
  {
   "cell_type": "markdown",
   "id": "b56ff4",
   "metadata": {
    "collapsed": false
   },
   "source": [
    "Trey Tuscai and Gordon Doore\n",
    "\n",
    "Spring 2025\n",
    "\n",
    "CS 444: Deep Learning\n",
    "\n",
    "Project 1: Deep Neural Networks \n",
    "\n",
    "#### Week 2: Training deeper networks with blocks\n",
    "\n",
    "The focus this week is on block design organizing deeper neural networks."
   ]
  },
  {
   "cell_type": "code",
   "execution_count": 3,
   "id": "1f22c9",
   "metadata": {
    "collapsed": false
   },
   "outputs": [],
   "source": [
    "import numpy as np\n",
    "import tensorflow as tf\n",
    "import matplotlib.pyplot as plt\n",
    "\n",
    "plt.style.use(['seaborn-v0_8-colorblind', 'seaborn-v0_8-darkgrid'])\n",
    "plt.rcParams.update({'font.size': 20})\n",
    "\n",
    "np.set_printoptions(suppress=True, precision=3)\n",
    "\n",
    "# Automatically reload your external source code\n",
    "%load_ext autoreload\n",
    "%autoreload 2"
   ]
  },
  {
   "cell_type": "markdown",
   "id": "939a26",
   "metadata": {
    "collapsed": false
   },
   "source": [
    "## Task 5: Building deeper neural networks with blocks\n",
    "\n",
    "In the quest to classify CIFAR-10 images with the highest accuracy possible, we would like to build a neural network that is deeper than VGG4 and has a greater capacity to learn more complex, nonlinear patterns in the images. Let's focus on designing a slightly deeper network than VGG4 that we will call VGG6 that has the following architecture:\n",
    "\n",
    "Conv2D → Conv2D → MaxPool2D → **Conv2D → Conv2D → MaxPool2D** → Flatten → *Dense → Dropout* → Dense\n",
    "\n",
    "Notice how the bold set of `Conv2D`/`MaxPool2D` layers are repeats of the layers to their left. It turns out, it may be beneficial to replicate the `Dense`/`Dropout` layers (italicized) toward the end of the network multiple times as well in deeper versions.\n",
    "\n",
    "Review your code for assembling `VGG4`. Building `VGG6` would require some copy-pasting of layer creation code. Imagine building even deeper versions with even more layers (e.g. `VGG9`) — this copy-paste process would get tedious, unwieldy, and potentially be error prone the bigger the network gets!\n",
    "\n",
    "For this reason, modern deep neural networks are often built using **blocks**: sequences of layers that repeat over and over again as you get farther into the network. For example, imagine replacing the layers **Conv2D → Conv2D → MaxPool2D** with a SINGLE new object that represents performing that sequence of those 3 layers. If we also do this for the `Dense`/`Dropout` layers, the architecture would look like:\n",
    "\n",
    "VGGConvBlock_0 → **VGGConvBlock_1** → Flatten → *VGGDenseBlock_0* → Dense\n",
    "\n",
    "Much simpler, more manageable, and easier to scale up to deeper nets!\n",
    "\n"
   ]
  },
  {
   "cell_type": "markdown",
   "id": "b429f0",
   "metadata": {
    "collapsed": false
   },
   "source": [
    "### 5a. Build and test `VGG` blocks\n",
    "\n",
    "The file `block.py` contains both the `Block` class and the `VGGConvBlock` and `VGGDenseBlock` classes referenced above. The `Block` class is the parent class to all `Block` classes (*both ones you write this week and for the rest of the semester!*) and is designed to work with `DeepNetwork`. Just like `DeepNetwork`, it contains all the \"boilerplate\" code that needs to be written for ANY block.\n",
    "\n",
    "Aside from the constructor, I am providing you with the `Block` class fully implemented :) You only need to write code that assembles the layers that belong to a block and specify how the forward pass thru them is done. Blocks can be mixed-and-matched and interspersed with regular layers! Nice!\n",
    "\n",
    "Implement and test the following classes and methods.\n",
    "\n",
    "**Block:**\n",
    "- constructor.\n",
    "\n",
    "**VGGConvBlock:**\n",
    "- constructor: What layers belong to a `VGGConvBlock` block?\n",
    "- `__call__`: How do we perform the forward pass thru the block?\n",
    "\n",
    "**VGGDenseBlock:**\n",
    "- constructor: What layers belong to a `VGGDenseBlock` block?\n",
    "- `__call__`: How do we perform the forward pass thru the block?\n"
   ]
  },
  {
   "cell_type": "code",
   "execution_count": 2,
   "id": "88a474",
   "metadata": {
    "collapsed": false
   },
   "outputs": [],
   "source": [
    "from block import VGGConvBlock, VGGDenseBlock"
   ]
  },
  {
   "cell_type": "markdown",
   "id": "85e3b7",
   "metadata": {
    "collapsed": false
   },
   "source": [
    "#### Test: `VGGConvBlock` part 1/2"
   ]
  },
  {
   "cell_type": "code",
   "execution_count": 5,
   "id": "21e783",
   "metadata": {
    "collapsed": false
   },
   "outputs": [
    {
     "name": "stderr",
     "output_type": "stream",
     "text": [
      "2025-02-15 17:55:38.515312: I tensorflow/core/common_runtime/gpu/gpu_device.cc:1928] Created device /job:localhost/replica:0/task:0/device:GPU:0 with 20601 MB memory:  -> device: 0, name: NVIDIA L4, pci bus id: 0000:00:03.0, compute capability: 8.9\n"
     ]
    },
    {
     "name": "stderr",
     "output_type": "stream",
     "text": [
      "2025-02-15 17:55:39.647969: I external/local_xla/xla/stream_executor/cuda/cuda_dnn.cc:465] Loaded cuDNN version 90400\n"
     ]
    },
    {
     "name": "stdout",
     "output_type": "stream",
     "text": [
      "TestBlock:\n",
      "\tMaxPool2D layer output(TestBlock/maxpool2) shape: [1, 2, 2, 5]\n",
      "\tConv2D layer output(TestBlock/conv_1) shape: [1, 4, 4, 5]\n",
      "\tConv2D layer output(TestBlock/conv_0) shape: [1, 4, 4, 5]\n"
     ]
    }
   ],
   "source": [
    "tf.random.set_seed(0)\n",
    "x_test_1 = tf.random.normal(shape=(1, 4, 4, 3))\n",
    "conv_block = VGGConvBlock('TestBlock', units=5, prev_layer_or_block=None, wt_scale=1e-1)\n",
    "conv_block(x_test_1)\n",
    "print(conv_block)"
   ]
  },
  {
   "cell_type": "markdown",
   "id": "0b5558",
   "metadata": {
    "collapsed": false
   },
   "source": [
    "The above should print (naming might be different):\n",
    "\n",
    "```\n",
    "TestBlock:\n",
    "\tMaxPool2D layer output(TestBlock/maxpool2) shape: [1, 2, 2, 5]\n",
    "\tConv2D layer output(TestBlock/conv1) shape: [1, 4, 4, 5]\n",
    "\tConv2D layer output(TestBlock/conv0) shape: [1, 4, 4, 5]\n",
    "```"
   ]
  },
  {
   "cell_type": "code",
   "execution_count": 6,
   "id": "01935e",
   "metadata": {
    "collapsed": false
   },
   "outputs": [
    {
     "name": "stdout",
     "output_type": "stream",
     "text": [
      "Your block net_acts are\n",
      "[[[[0.372 0.487 0.071 0.158 0.   ]\n",
      "   [0.156 0.412 0.175 0.116 0.019]]\n",
      "\n",
      "  [[0.51  0.548 0.085 0.299 0.   ]\n",
      "   [0.375 0.327 0.169 0.209 0.   ]]]\n",
      "\n",
      "\n",
      " [[[0.25  0.551 0.    0.321 0.022]\n",
      "   [0.461 0.47  0.116 0.132 0.044]]\n",
      "\n",
      "  [[0.37  0.546 0.003 0.221 0.009]\n",
      "   [0.37  0.486 0.123 0.054 0.   ]]]]\n",
      "and they should be:\n",
      "[[[[0.372 0.487 0.071 0.158 0.   ]\n",
      "   [0.156 0.412 0.175 0.116 0.019]]\n",
      "\n",
      "  [[0.51  0.548 0.085 0.299 0.   ]\n",
      "   [0.375 0.327 0.169 0.209 0.   ]]]\n",
      "\n",
      "\n",
      " [[[0.25  0.551 0.    0.321 0.022]\n",
      "   [0.461 0.47  0.116 0.132 0.044]]\n",
      "\n",
      "  [[0.37  0.546 0.003 0.221 0.009]\n",
      "   [0.37  0.486 0.123 0.054 0.   ]]]]\n"
     ]
    }
   ],
   "source": [
    "tf.random.set_seed(1)\n",
    "x_test_2 = tf.random.normal(shape=(2, 4, 4, 3))\n",
    "acts = conv_block(x_test_2)\n",
    "print(f'Your block net_acts are\\n{acts.numpy()}')\n",
    "print('and they should be:')\n",
    "print('''[[[[0.372 0.487 0.071 0.158 0.   ]\n",
    "   [0.156 0.412 0.175 0.116 0.019]]\n",
    "\n",
    "  [[0.51  0.548 0.085 0.299 0.   ]\n",
    "   [0.375 0.327 0.169 0.209 0.   ]]]\n",
    "\n",
    "\n",
    " [[[0.25  0.551 0.    0.321 0.022]\n",
    "   [0.461 0.47  0.116 0.132 0.044]]\n",
    "\n",
    "  [[0.37  0.546 0.003 0.221 0.009]\n",
    "   [0.37  0.486 0.123 0.054 0.   ]]]]''')"
   ]
  },
  {
   "cell_type": "markdown",
   "id": "05077d",
   "metadata": {
    "collapsed": false
   },
   "source": [
    "#### Test: `VGGConvBlock` part 2/2"
   ]
  },
  {
   "cell_type": "code",
   "execution_count": 17,
   "id": "6016f3",
   "metadata": {
    "collapsed": false
   },
   "outputs": [
    {
     "name": "stdout",
     "output_type": "stream",
     "text": [
      "TestBlock:\n",
      "\tDropout layer output(TestBlock/dropout) shape: [1, 2, 2, 7]\n",
      "\tMaxPool2D layer output(TestBlock/maxpool2) shape: [1, 2, 2, 7]\n",
      "\tConv2D layer output(TestBlock/conv_1) shape: [1, 4, 4, 7]\n",
      "\tConv2D layer output(TestBlock/conv_0) shape: [1, 4, 4, 7]\n"
     ]
    }
   ],
   "source": [
    "tf.random.set_seed(0)\n",
    "x_test_1 = tf.random.normal(shape=(1, 4, 4, 3))\n",
    "conv_block = VGGConvBlock('TestBlock', units=7, prev_layer_or_block=None, dropout=True)\n",
    "conv_block(x_test_1)\n",
    "print(conv_block)"
   ]
  },
  {
   "cell_type": "markdown",
   "id": "0b88cb",
   "metadata": {
    "collapsed": false
   },
   "source": [
    "The above should print (naming might be different):\n",
    "\n",
    "```\n",
    "TestBlock:\n",
    "\tDropout layer output(TestBlock/dropout) shape: [1, 2, 2, 7]\n",
    "\tMaxPool2D layer output(TestBlock/maxpool2) shape: [1, 2, 2, 7]\n",
    "\tConv2D layer output(TestBlock/conv1) shape: [1, 4, 4, 7]\n",
    "\tConv2D layer output(TestBlock/conv0) shape: [1, 4, 4, 7]\n",
    "```"
   ]
  },
  {
   "cell_type": "code",
   "execution_count": 18,
   "id": "902051",
   "metadata": {
    "collapsed": false
   },
   "outputs": [
    {
     "name": "stdout",
     "output_type": "stream",
     "text": [
      "Your block net_acts are\n",
      "[[[[0.002 0.002 0.    0.    0.    0.    0.   ]\n",
      "   [0.002 0.002 0.    0.    0.    0.    0.   ]]\n",
      "\n",
      "  [[0.002 0.002 0.    0.    0.    0.    0.   ]\n",
      "   [0.002 0.002 0.    0.    0.    0.    0.   ]]]]\n",
      "and they should be:\n",
      "[[[[0.002 0.002 0.    0.    0.    0.    0.   ]\n",
      "   [0.002 0.002 0.    0.    0.    0.    0.   ]]\n",
      "\n",
      "  [[0.002 0.002 0.    0.    0.    0.    0.   ]\n",
      "   [0.002 0.002 0.    0.    0.    0.    0.   ]]]]\n"
     ]
    }
   ],
   "source": [
    "tf.random.set_seed(1)\n",
    "x_test_2 = tf.random.normal(shape=(1, 4, 4, 3))\n",
    "acts = conv_block(x_test_2)\n",
    "print(f'Your block net_acts are\\n{acts.numpy()}')\n",
    "print('and they should be:')\n",
    "print('''[[[[0.002 0.002 0.    0.    0.    0.    0.   ]\n",
    "   [0.002 0.002 0.    0.    0.    0.    0.   ]]\n",
    "\n",
    "  [[0.002 0.002 0.    0.    0.    0.    0.   ]\n",
    "   [0.002 0.002 0.    0.    0.    0.    0.   ]]]]''')"
   ]
  },
  {
   "cell_type": "markdown",
   "id": "ff9d2f",
   "metadata": {
    "collapsed": false
   },
   "source": [
    "#### Test: `VGGDenseBlock` part 1/2"
   ]
  },
  {
   "cell_type": "code",
   "execution_count": 19,
   "id": "abcec1",
   "metadata": {
    "collapsed": false
   },
   "outputs": [
    {
     "name": "stdout",
     "output_type": "stream",
     "text": [
      "TestDenseBlock:\n",
      "\tDropout layer output(TestDenseBlock/dropout) shape: [1, 2]\n",
      "\tDense layer output(TestDenseBlock/dense_0) shape: [1, 2]\n"
     ]
    }
   ],
   "source": [
    "tf.random.set_seed(0)\n",
    "x_test_1 = tf.random.normal(shape=(1, 6))\n",
    "dense_block = VGGDenseBlock('TestDenseBlock', units=(2,), prev_layer_or_block=None, wt_scale=1e-1)\n",
    "dense_block(x_test_1)\n",
    "print(dense_block)"
   ]
  },
  {
   "cell_type": "markdown",
   "id": "a76229",
   "metadata": {
    "collapsed": false
   },
   "source": [
    "The above should print (naming might be different):\n",
    "\n",
    "```\n",
    "TestDenseBlock:\n",
    "\tDropout layer output(TestDenseBlock/dropout) shape: [1, 2]\n",
    "\tDense layer output(TestDenseBlock/dense0) shape: [1, 2]\n",
    "```"
   ]
  },
  {
   "cell_type": "code",
   "execution_count": 20,
   "id": "a78afa",
   "metadata": {
    "collapsed": false
   },
   "outputs": [
    {
     "name": "stdout",
     "output_type": "stream",
     "text": [
      "Your block net_acts are\n",
      "[[0.   0.  ]\n",
      " [0.   0.  ]\n",
      " [0.   0.07]]\n",
      "and they should be:\n",
      "[[0.   0.  ]\n",
      " [0.   0.  ]\n",
      " [0.   0.07]]\n"
     ]
    }
   ],
   "source": [
    "tf.random.set_seed(1)\n",
    "x_test_2 = tf.random.normal(shape=(3, 6))\n",
    "acts = dense_block(x_test_2)\n",
    "print(f'Your block net_acts are\\n{acts.numpy()}')\n",
    "print('and they should be:')\n",
    "print('''[[0.   0.  ]\n",
    " [0.   0.  ]\n",
    " [0.   0.07]]''')"
   ]
  },
  {
   "cell_type": "markdown",
   "id": "38c3f1",
   "metadata": {
    "collapsed": false
   },
   "source": [
    "#### Test: `VGGDenseBlock` part 2/2"
   ]
  },
  {
   "cell_type": "code",
   "execution_count": 21,
   "id": "2a5304",
   "metadata": {
    "collapsed": false
   },
   "outputs": [
    {
     "name": "stdout",
     "output_type": "stream",
     "text": [
      "TestDenseBlock:\n",
      "\tDropout layer output(TestDenseBlock/dropout) shape: [1, 5]\n",
      "\tDense layer output(TestDenseBlock/dense_1) shape: [1, 5]\n",
      "\tDropout layer output(TestDenseBlock/dropout) shape: [1, 4]\n",
      "\tDense layer output(TestDenseBlock/dense_0) shape: [1, 4]\n"
     ]
    }
   ],
   "source": [
    "tf.random.set_seed(0)\n",
    "x_test_1 = tf.random.normal(shape=(1, 7))\n",
    "dense_block = VGGDenseBlock('TestDenseBlock', units=(4,5), prev_layer_or_block=None, num_dense_blocks=2)\n",
    "dense_block(x_test_1)\n",
    "print(dense_block)"
   ]
  },
  {
   "cell_type": "markdown",
   "id": "12b707",
   "metadata": {
    "collapsed": false
   },
   "source": [
    "The above should print (naming might be different):\n",
    "\n",
    "```\n",
    "TestDenseBlock:\n",
    "\tDropout layer output(TestDenseBlock/dropout) shape: [1, 5]\n",
    "\tDense layer output(TestDenseBlock/dense1) shape: [1, 5]\n",
    "\tDropout layer output(TestDenseBlock/dropout) shape: [1, 4]\n",
    "\tDense layer output(TestDenseBlock/dense0) shape: [1, 4]\n",
    "```"
   ]
  },
  {
   "cell_type": "code",
   "execution_count": 22,
   "id": "3b3002",
   "metadata": {
    "collapsed": false
   },
   "outputs": [
    {
     "name": "stdout",
     "output_type": "stream",
     "text": [
      "Your block net_acts are\n",
      "[[0.002 0.002 0.    0.    0.   ]\n",
      " [0.002 0.002 0.    0.    0.   ]]\n",
      "and they should be:\n",
      "[[0.002 0.002 0.    0.    0.   ]\n",
      " [0.002 0.002 0.    0.    0.   ]]\n"
     ]
    }
   ],
   "source": [
    "tf.random.set_seed(1)\n",
    "x_test_2 = tf.random.normal(shape=(2, 7))\n",
    "acts = dense_block(x_test_2)\n",
    "print(f'Your block net_acts are\\n{acts.numpy()}')\n",
    "print('and they should be:')\n",
    "print('''[[0.002 0.002 0.    0.    0.   ]\n",
    " [0.002 0.002 0.    0.    0.   ]]''')"
   ]
  },
  {
   "cell_type": "markdown",
   "id": "7d488a",
   "metadata": {
    "collapsed": false
   },
   "source": [
    "### 5b. Build `VGG6`\n",
    "\n",
    "Now that you have both types of VGG blocks implemented and tested, make us of them to write the `VGG6` constructor and `__call__` methods in `vgg_nets.py`. This should be a quick process."
   ]
  },
  {
   "cell_type": "code",
   "execution_count": 6,
   "id": "4fac05",
   "metadata": {
    "collapsed": false
   },
   "outputs": [],
   "source": [
    "from vgg_nets import VGG6"
   ]
  },
  {
   "cell_type": "markdown",
   "id": "eda107",
   "metadata": {
    "collapsed": false
   },
   "source": [
    "#### Test: `VGG6`"
   ]
  },
  {
   "cell_type": "code",
   "execution_count": 5,
   "id": "900df4",
   "metadata": {
    "collapsed": false
   },
   "outputs": [
    {
     "name": "stdout",
     "output_type": "stream",
     "text": [
      "---------------------------------------------------------------------------\n",
      "Dense layer output(output_layer) shape: [1, 5]\n",
      "DenseBlock1:\n",
      "\tDropout layer output(DenseBlock1/dropout) shape: [1, 256]\n",
      "\tDense layer output(DenseBlock1/dense_0) shape: [1, 256]\n",
      "Flatten layer output(flat) shape: [1, 512]\n",
      "ConvBlock2:\n",
      "\tMaxPool2D layer output(ConvBlock2/maxpool2) shape: [1, 2, 2, 128]\n",
      "\tConv2D layer output(ConvBlock2/conv_1) shape: [1, 4, 4, 128]\n",
      "\tConv2D layer output(ConvBlock2/conv_0) shape: [1, 4, 4, 128]\n",
      "ConvBlock1:\n",
      "\tMaxPool2D layer output(ConvBlock1/maxpool2) shape: [1, 4, 4, 64]\n",
      "\tConv2D layer output(ConvBlock1/conv_1) shape: [1, 8, 8, 64]\n",
      "\tConv2D layer output(ConvBlock1/conv_0) shape: [1, 8, 8, 64]\n",
      "---------------------------------------------------------------------------\n"
     ]
    }
   ],
   "source": [
    "test_vgg6_0 = VGG6(C=5, input_feats_shape=(8, 8, 3))\n",
    "test_vgg6_0.compile()"
   ]
  },
  {
   "cell_type": "markdown",
   "id": "05616e",
   "metadata": {
    "collapsed": false
   },
   "source": [
    "The above should print something like (*layer/block names may be different and that's ok*):\n",
    "\n",
    "```\n",
    "---------------------------------------------------------------------------\n",
    "Dense layer output(output) shape: [1, 5]\n",
    "DenseBlock1:\n",
    "\tDropout layer output(DenseBlock1/dropout) shape: [1, 256]\n",
    "\tDense layer output(DenseBlock1/dense0) shape: [1, 256]\n",
    "Flatten layer output(flat) shape: [1, 512]\n",
    "ConvBlock2:\n",
    "\tMaxPool2D layer output(ConvBlock2/maxpool2) shape: [1, 2, 2, 128]\n",
    "\tConv2D layer output(ConvBlock2/conv1) shape: [1, 4, 4, 128]\n",
    "\tConv2D layer output(ConvBlock2/conv0) shape: [1, 4, 4, 128]\n",
    "ConvBlock1:\n",
    "\tMaxPool2D layer output(ConvBlock1/maxpool2) shape: [1, 4, 4, 64]\n",
    "\tConv2D layer output(ConvBlock1/conv1) shape: [1, 8, 8, 64]\n",
    "\tConv2D layer output(ConvBlock1/conv0) shape: [1, 8, 8, 64]\n",
    "---------------------------------------------------------------------------\n",
    "```"
   ]
  },
  {
   "cell_type": "code",
   "execution_count": 6,
   "id": "033afd",
   "metadata": {
    "collapsed": false
   },
   "outputs": [
    {
     "name": "stdout",
     "output_type": "stream",
     "text": [
      "Your VGG6 output layer net_acts are\n",
      "[[0.    0.    1.    0.    0.   ]\n",
      " [0.    0.    1.    0.    0.   ]\n",
      " [0.    0.    1.    0.    0.   ]\n",
      " [0.    0.    1.    0.    0.   ]\n",
      " [0.    0.    0.999 0.    0.001]\n",
      " [0.    0.    0.652 0.003 0.345]]\n",
      "and they should be:\n",
      "[[0.    0.    1.    0.    0.   ]\n",
      " [0.    0.    1.    0.    0.   ]\n",
      " [0.    0.    1.    0.    0.   ]\n",
      " [0.    0.    1.    0.    0.   ]\n",
      " [0.    0.    0.999 0.    0.001]\n",
      " [0.    0.    0.652 0.003 0.345]]\n"
     ]
    }
   ],
   "source": [
    "tf.random.set_seed(0)\n",
    "x_test_3 = tf.random.normal(shape=(6, 8, 8, 3))\n",
    "\n",
    "tf.random.set_seed(1)\n",
    "test_vgg6 = VGG6(C=5, input_feats_shape=(8, 8, 3), wt_scale=1e-1)\n",
    "acts = test_vgg6(x_test_3)\n",
    "print(f'Your VGG6 output layer net_acts are\\n{acts.numpy()}')\n",
    "print('and they should be:')\n",
    "print('''[[0.    0.    1.    0.    0.   ]\n",
    " [0.    0.    1.    0.    0.   ]\n",
    " [0.    0.    1.    0.    0.   ]\n",
    " [0.    0.    1.    0.    0.   ]\n",
    " [0.    0.    0.999 0.    0.001]\n",
    " [0.    0.    0.652 0.003 0.345]]''')"
   ]
  },
  {
   "cell_type": "markdown",
   "id": "d0da2d",
   "metadata": {
    "collapsed": false
   },
   "source": [
    "### 5c. Train `VGG6` on CIFAR-10 with the default learning rate\n",
    "\n",
    "In the cells below:\n",
    "1. Load in the CIFAR-10 dataset.\n",
    "2. Train for `25` epochs with default lr and other default hyperparameters. Your initial training and val losses should be 2.30 and should hold steady.\n",
    "3. Print out the final test accuracy.\n",
    "\n",
    "#### Important notes\n",
    "\n",
    "#### 1. Running on CoCalc and GPU\n",
    "\n",
    "You should do this training session (and all subsequent \"real\" training sessions this semester on the GPU in CoCalc). Training at this point on your CPU is basically infeasible (*feel free to try it!*).\n",
    "\n",
    "#### 2. JIT compiling the train and test steps\n",
    "\n",
    "While training VGG6 on the GPU should take ~15 secs per epoch, which is not too bad, soon deeper networks and larger datasets will make the training too slow for us (*even on the GPU!*). To speed things up considerably now and going forward, use the process we discussed in class to decorate `train_step` and `test_step` with `@tf.function(jit_compile=True)`. The 1st epoch might be a little slow, but subsequent epochs should now fly by.\n",
    "\n",
    "**Note:**\n",
    "- If you have have trouble just-in-time (JIT) compiling the train and test steps, you should be able to decorate with `@tf.function` to statically compile the network (non-JIT). This may be slower than JIT compiling the network, but should still be faster than no compilation. **If JIT compiling does not work, please seek help. JIT compiling on CoCalc will be very helpful going forward.**\n",
    "- If you are training locally on macOS, JIT compiling will not work, but falling back to `@tf.function` should work fine."
   ]
  },
  {
   "cell_type": "code",
   "execution_count": 7,
   "id": "6b0813",
   "metadata": {
    "collapsed": false
   },
   "outputs": [
    {
     "name": "stdout",
     "output_type": "stream",
     "text": [
      "Your training set data have shape (45000, 32, 32, 3)\n",
      "Your training set labels have shape (45000,)\n",
      "Your val set data have shape (5000, 32, 32, 3)\n",
      "Your val set labels have shape (5000,)\n",
      "Your test set data have shape (10000, 32, 32, 3)\n",
      "Your test set labels have shape (10000,)\n"
     ]
    }
   ],
   "source": [
    "from datasets import get_dataset\n",
    "x_train, y_train, x_val, y_val, x_test, y_test, classnames = get_dataset(\"cifar10\")\n",
    "print(f'Your training set data have shape {x_train.shape}')\n",
    "print(f'Your training set labels have shape {y_train.shape}')\n",
    "print(f'Your val set data have shape {x_val.shape}')\n",
    "print(f'Your val set labels have shape {y_val.shape}')\n",
    "print(f'Your test set data have shape {x_test.shape}')\n",
    "print(f'Your test set labels have shape {y_test.shape}')"
   ]
  },
  {
   "cell_type": "code",
   "execution_count": 15,
   "id": "f91e73",
   "metadata": {
    "collapsed": false,
    "scrolled": true
   },
   "outputs": [
    {
     "name": "stdout",
     "output_type": "stream",
     "text": [
      "---------------------------------------------------------------------------\n",
      "Dense layer output(output_layer) shape: [1, 10]\n",
      "DenseBlock1:\n",
      "\tDropout layer output(DenseBlock1/dropout) shape: [1, 256]\n",
      "\tDense layer output(DenseBlock1/dense_0) shape: [1, 256]\n",
      "Flatten layer output(flat) shape: [1, 8192]\n",
      "ConvBlock2:\n",
      "\tMaxPool2D layer output(ConvBlock2/maxpool2) shape: [1, 8, 8, 128]\n",
      "\tConv2D layer output(ConvBlock2/conv_1) shape: [1, 16, 16, 128]\n",
      "\tConv2D layer output(ConvBlock2/conv_0) shape: [1, 16, 16, 128]\n",
      "ConvBlock1:\n",
      "\tMaxPool2D layer output(ConvBlock1/maxpool2) shape: [1, 16, 16, 64]\n",
      "\tConv2D layer output(ConvBlock1/conv_1) shape: [1, 32, 32, 64]\n",
      "\tConv2D layer output(ConvBlock1/conv_0) shape: [1, 32, 32, 64]\n",
      "---------------------------------------------------------------------------\n",
      "Epoch 1: Training Loss = 2.1215, Validation Loss = 1.7783, Validation Accuracy = 0.3265\n",
      "Epoch 1/25 took 17.8018 seconds\n",
      "Epoch 2: Training Loss = 1.6376, Validation Loss = 1.4632, Validation Accuracy = 0.4700\n",
      "Epoch 2/25 took 15.5472 seconds\n",
      "Epoch 3: Training Loss = 1.3993, Validation Loss = 1.2877, Validation Accuracy = 0.5549\n",
      "Epoch 3/25 took 15.3805 seconds\n",
      "Epoch 4: Training Loss = 1.2518, Validation Loss = 1.1222, Validation Accuracy = 0.6076\n",
      "Epoch 4/25 took 15.4258 seconds\n",
      "Epoch 5: Training Loss = 1.1600, Validation Loss = 1.0607, Validation Accuracy = 0.6256\n",
      "Epoch 5/25 took 15.3732 seconds\n",
      "Epoch 6: Training Loss = 1.0719, Validation Loss = 0.9968, Validation Accuracy = 0.6522\n",
      "Epoch 6/25 took 15.4482 seconds\n",
      "Epoch 7: Training Loss = 1.0130, Validation Loss = 0.9577, Validation Accuracy = 0.6587\n",
      "Epoch 7/25 took 15.6548 seconds\n",
      "Epoch 8: Training Loss = 0.9495, Validation Loss = 0.9929, Validation Accuracy = 0.6577\n",
      "Epoch 8/25 took 15.8977 seconds\n",
      "Epoch 9: Training Loss = 0.9084, Validation Loss = 0.9077, Validation Accuracy = 0.6841\n",
      "Epoch 9/25 took 15.6511 seconds\n",
      "Epoch 10: Training Loss = 0.8694, Validation Loss = 0.8624, Validation Accuracy = 0.6981\n",
      "Epoch 10/25 took 15.3479 seconds\n",
      "Epoch 11: Training Loss = 0.8228, Validation Loss = 0.8534, Validation Accuracy = 0.7015\n",
      "Epoch 11/25 took 15.6700 seconds\n",
      "Epoch 12: Training Loss = 0.7927, Validation Loss = 0.8673, Validation Accuracy = 0.7019\n",
      "Epoch 12/25 took 15.5679 seconds\n",
      "Epoch 13: Training Loss = 0.7641, Validation Loss = 0.8384, Validation Accuracy = 0.7111\n",
      "Epoch 13/25 took 16.0009 seconds\n",
      "Epoch 14: Training Loss = 0.7401, Validation Loss = 0.8429, Validation Accuracy = 0.7067\n",
      "Epoch 14/25 took 15.5240 seconds\n",
      "Epoch 15: Training Loss = 0.7154, Validation Loss = 0.8479, Validation Accuracy = 0.7085\n",
      "Epoch 15/25 took 15.6524 seconds\n",
      "Epoch 16: Training Loss = 0.7018, Validation Loss = 0.8431, Validation Accuracy = 0.7137\n",
      "Epoch 16/25 took 15.5059 seconds\n",
      "Epoch 17: Training Loss = 0.6732, Validation Loss = 0.8332, Validation Accuracy = 0.7115\n",
      "Epoch 17/25 took 15.4585 seconds\n",
      "Epoch 18: Training Loss = 0.6609, Validation Loss = 0.8385, Validation Accuracy = 0.7208\n",
      "Epoch 18/25 took 15.4389 seconds\n",
      "Epoch 19: Training Loss = 0.6363, Validation Loss = 0.8520, Validation Accuracy = 0.7198\n",
      "Epoch 19/25 took 15.4080 seconds\n",
      "Epoch 20: Training Loss = 0.6234, Validation Loss = 0.8744, Validation Accuracy = 0.7157\n",
      "Epoch 20/25 took 15.3941 seconds\n",
      "Epoch 21: Training Loss = 0.6048, Validation Loss = 0.8784, Validation Accuracy = 0.7103\n",
      "Epoch 21/25 took 15.5016 seconds\n",
      "Epoch 22: Training Loss = 0.5842, Validation Loss = 0.8852, Validation Accuracy = 0.7107\n",
      "Epoch 22/25 took 15.6709 seconds\n",
      "Epoch 23: Training Loss = 0.5781, Validation Loss = 0.8502, Validation Accuracy = 0.7264\n",
      "Epoch 23/25 took 15.3795 seconds\n",
      "Epoch 24: Training Loss = 0.5531, Validation Loss = 0.8839, Validation Accuracy = 0.7198\n",
      "Epoch 24/25 took 15.3587 seconds\n",
      "Epoch 25: Training Loss = 0.5492, Validation Loss = 0.9286, Validation Accuracy = 0.7087\n",
      "Epoch 25/25 took 15.5483 seconds\n",
      "Finished training after 25 epochs!\n"
     ]
    },
    {
     "data": {
      "text/plain": [
       "([2.1214507,\n",
       "  1.6375961,\n",
       "  1.3992517,\n",
       "  1.2517904,\n",
       "  1.1600192,\n",
       "  1.0718992,\n",
       "  1.0130389,\n",
       "  0.94954723,\n",
       "  0.9084085,\n",
       "  0.8693838,\n",
       "  0.8227565,\n",
       "  0.79268,\n",
       "  0.76405615,\n",
       "  0.7400536,\n",
       "  0.71540505,\n",
       "  0.70178485,\n",
       "  0.6731895,\n",
       "  0.6609044,\n",
       "  0.6363157,\n",
       "  0.6233563,\n",
       "  0.6048067,\n",
       "  0.58424294,\n",
       "  0.57805866,\n",
       "  0.55307335,\n",
       "  0.5492111],\n",
       " [1.7783377,\n",
       "  1.4631778,\n",
       "  1.2877368,\n",
       "  1.1222187,\n",
       "  1.0607052,\n",
       "  0.99675566,\n",
       "  0.95765793,\n",
       "  0.9929178,\n",
       "  0.907742,\n",
       "  0.8624193,\n",
       "  0.85341215,\n",
       "  0.86733097,\n",
       "  0.8383737,\n",
       "  0.84293383,\n",
       "  0.8478733,\n",
       "  0.84305066,\n",
       "  0.8332123,\n",
       "  0.8385135,\n",
       "  0.8519844,\n",
       "  0.8743799,\n",
       "  0.8783511,\n",
       "  0.8851829,\n",
       "  0.8501575,\n",
       "  0.8839386,\n",
       "  0.9285517],\n",
       " [0.32652244,\n",
       "  0.46995193,\n",
       "  0.55488783,\n",
       "  0.60757214,\n",
       "  0.62560093,\n",
       "  0.6522436,\n",
       "  0.65865386,\n",
       "  0.65765226,\n",
       "  0.68409455,\n",
       "  0.69811696,\n",
       "  0.7015224,\n",
       "  0.7019231,\n",
       "  0.71113783,\n",
       "  0.7067308,\n",
       "  0.70853364,\n",
       "  0.71374196,\n",
       "  0.71153843,\n",
       "  0.7207532,\n",
       "  0.7197516,\n",
       "  0.7157452,\n",
       "  0.71033657,\n",
       "  0.71073717,\n",
       "  0.72636217,\n",
       "  0.7197516,\n",
       "  0.708734],\n",
       " 25)"
      ]
     },
     "execution_count": 15,
     "metadata": {},
     "output_type": "execute_result"
    }
   ],
   "source": [
    "# KEEP ME\n",
    "tf.random.set_seed(0)\n",
    "\n",
    "model = VGG6(10, (32, 32, 3))\n",
    "model.compile()\n",
    "model.fit(x_train, y_train, x_val, y_val, max_epochs = 25)"
   ]
  },
  {
   "cell_type": "markdown",
   "id": "dbb6f7",
   "metadata": {
    "collapsed": false
   },
   "source": [
    "### 5d. Train `VGG6` on CIFAR-10 with a smaller learning rate\n",
    "\n",
    "In the cells below, repeat what you did in the previous subtask, but this time change the learning rate to `1e-5`. You should get a very different result."
   ]
  },
  {
   "cell_type": "code",
   "execution_count": 16,
   "id": "9f792f",
   "metadata": {
    "collapsed": false
   },
   "outputs": [
    {
     "name": "stdout",
     "output_type": "stream",
     "text": [
      "---------------------------------------------------------------------------\n",
      "Dense layer output(output_layer) shape: [1, 10]\n",
      "DenseBlock1:\n",
      "\tDropout layer output(DenseBlock1/dropout) shape: [1, 256]\n",
      "\tDense layer output(DenseBlock1/dense_0) shape: [1, 256]\n",
      "Flatten layer output(flat) shape: [1, 8192]\n",
      "ConvBlock2:\n",
      "\tMaxPool2D layer output(ConvBlock2/maxpool2) shape: [1, 8, 8, 128]\n",
      "\tConv2D layer output(ConvBlock2/conv_1) shape: [1, 16, 16, 128]\n",
      "\tConv2D layer output(ConvBlock2/conv_0) shape: [1, 16, 16, 128]\n",
      "ConvBlock1:\n",
      "\tMaxPool2D layer output(ConvBlock1/maxpool2) shape: [1, 16, 16, 64]\n",
      "\tConv2D layer output(ConvBlock1/conv_1) shape: [1, 32, 32, 64]\n",
      "\tConv2D layer output(ConvBlock1/conv_0) shape: [1, 32, 32, 64]\n",
      "---------------------------------------------------------------------------\n",
      "Epoch 1: Training Loss = 2.3026, Validation Loss = 2.3026, Validation Accuracy = 0.1040\n",
      "Epoch 1/25 took 17.9662 seconds\n",
      "Epoch 2: Training Loss = 2.3026, Validation Loss = 2.3026, Validation Accuracy = 0.1040\n",
      "Epoch 2/25 took 16.1917 seconds\n",
      "Epoch 3: Training Loss = 2.3026, Validation Loss = 2.3026, Validation Accuracy = 0.1040\n",
      "Epoch 3/25 took 16.2042 seconds\n",
      "Epoch 4: Training Loss = 2.3026, Validation Loss = 2.3026, Validation Accuracy = 0.1040\n",
      "Epoch 4/25 took 16.1729 seconds\n",
      "Epoch 5: Training Loss = 2.3026, Validation Loss = 2.3026, Validation Accuracy = 0.1040\n",
      "Epoch 5/25 took 16.2952 seconds\n",
      "Epoch 6: Training Loss = 2.3026, Validation Loss = 2.3026, Validation Accuracy = 0.1040\n",
      "Epoch 6/25 took 16.2427 seconds\n",
      "Epoch 7: Training Loss = 2.3026, Validation Loss = 2.3026, Validation Accuracy = 0.1040\n",
      "Epoch 7/25 took 16.2235 seconds\n",
      "Epoch 8: Training Loss = 2.3026, Validation Loss = 2.3026, Validation Accuracy = 0.1040\n",
      "Epoch 8/25 took 16.4332 seconds\n",
      "Epoch 9: Training Loss = 2.3026, Validation Loss = 2.3026, Validation Accuracy = 0.0972\n",
      "Epoch 9/25 took 16.9615 seconds\n",
      "Epoch 10: Training Loss = 2.1641, Validation Loss = 2.0187, Validation Accuracy = 0.2574\n",
      "Epoch 10/25 took 16.1804 seconds\n",
      "Epoch 11: Training Loss = 1.9762, Validation Loss = 1.9431, Validation Accuracy = 0.3065\n",
      "Epoch 11/25 took 16.4849 seconds\n",
      "Epoch 12: Training Loss = 1.9249, Validation Loss = 1.8961, Validation Accuracy = 0.3233\n",
      "Epoch 12/25 took 16.2146 seconds\n",
      "Epoch 13: Training Loss = 1.8802, Validation Loss = 1.8551, Validation Accuracy = 0.3387\n",
      "Epoch 13/25 took 16.3057 seconds\n",
      "Epoch 14: Training Loss = 1.8401, Validation Loss = 1.8155, Validation Accuracy = 0.3502\n",
      "Epoch 14/25 took 16.1991 seconds\n",
      "Epoch 15: Training Loss = 1.8211, Validation Loss = 1.7839, Validation Accuracy = 0.3624\n",
      "Epoch 15/25 took 16.2241 seconds\n",
      "Epoch 16: Training Loss = 1.7881, Validation Loss = 1.7590, Validation Accuracy = 0.3668\n",
      "Epoch 16/25 took 16.1970 seconds\n",
      "Epoch 17: Training Loss = 1.7703, Validation Loss = 1.7374, Validation Accuracy = 0.3720\n",
      "Epoch 17/25 took 16.2944 seconds\n",
      "Epoch 18: Training Loss = 1.7431, Validation Loss = 1.7185, Validation Accuracy = 0.3784\n",
      "Epoch 18/25 took 16.2013 seconds\n",
      "Epoch 19: Training Loss = 1.7395, Validation Loss = 1.7022, Validation Accuracy = 0.3878\n",
      "Epoch 19/25 took 16.4908 seconds\n",
      "Epoch 20: Training Loss = 1.7123, Validation Loss = 1.6829, Validation Accuracy = 0.3912\n",
      "Epoch 20/25 took 16.2015 seconds\n",
      "Epoch 21: Training Loss = 1.7016, Validation Loss = 1.6691, Validation Accuracy = 0.3992\n",
      "Epoch 21/25 took 16.2697 seconds\n",
      "Epoch 22: Training Loss = 1.6917, Validation Loss = 1.6559, Validation Accuracy = 0.3990\n",
      "Epoch 22/25 took 16.1988 seconds\n",
      "Epoch 23: Training Loss = 1.6833, Validation Loss = 1.6446, Validation Accuracy = 0.4062\n",
      "Epoch 23/25 took 16.2092 seconds\n",
      "Epoch 24: Training Loss = 1.6692, Validation Loss = 1.6353, Validation Accuracy = 0.4103\n",
      "Epoch 24/25 took 16.2046 seconds\n",
      "Epoch 25: Training Loss = 1.6626, Validation Loss = 1.6234, Validation Accuracy = 0.4129\n",
      "Epoch 25/25 took 33.2805 seconds\n",
      "Finished training after 25 epochs!\n"
     ]
    },
    {
     "data": {
      "text/plain": [
       "([2.3025846,\n",
       "  2.3025942,\n",
       "  2.3025813,\n",
       "  2.3025885,\n",
       "  2.3025882,\n",
       "  2.3025885,\n",
       "  2.3025846,\n",
       "  2.3025846,\n",
       "  2.3025846,\n",
       "  2.1641214,\n",
       "  1.9762185,\n",
       "  1.9248806,\n",
       "  1.8802098,\n",
       "  1.8400693,\n",
       "  1.8211468,\n",
       "  1.7881016,\n",
       "  1.770274,\n",
       "  1.7430642,\n",
       "  1.7395278,\n",
       "  1.7123394,\n",
       "  1.701611,\n",
       "  1.6917154,\n",
       "  1.6832508,\n",
       "  1.6692432,\n",
       "  1.6626235],\n",
       " [2.3025658,\n",
       "  2.3025692,\n",
       "  2.302568,\n",
       "  2.3025723,\n",
       "  2.3025777,\n",
       "  2.3025844,\n",
       "  2.302593,\n",
       "  2.3026009,\n",
       "  2.3025737,\n",
       "  2.0187235,\n",
       "  1.9431403,\n",
       "  1.896143,\n",
       "  1.855137,\n",
       "  1.815513,\n",
       "  1.7838522,\n",
       "  1.7589654,\n",
       "  1.7374113,\n",
       "  1.7184769,\n",
       "  1.7021719,\n",
       "  1.682941,\n",
       "  1.6691012,\n",
       "  1.6558505,\n",
       "  1.6445627,\n",
       "  1.6352874,\n",
       "  1.6233541],\n",
       " [0.10396635,\n",
       "  0.10396635,\n",
       "  0.10396635,\n",
       "  0.10396635,\n",
       "  0.10396635,\n",
       "  0.10396635,\n",
       "  0.10396635,\n",
       "  0.10396635,\n",
       "  0.09715545,\n",
       "  0.25741187,\n",
       "  0.3064904,\n",
       "  0.32331732,\n",
       "  0.338742,\n",
       "  0.35016027,\n",
       "  0.36237982,\n",
       "  0.36678687,\n",
       "  0.37199518,\n",
       "  0.37840545,\n",
       "  0.3878205,\n",
       "  0.39122596,\n",
       "  0.3992388,\n",
       "  0.39903846,\n",
       "  0.40625,\n",
       "  0.41025642,\n",
       "  0.41286057],\n",
       " 25)"
      ]
     },
     "execution_count": 16,
     "metadata": {},
     "output_type": "execute_result"
    }
   ],
   "source": [
    "# KEEP ME\n",
    "tf.random.set_seed(0)\n",
    "\n",
    "model = VGG6(10, (32, 32, 3))\n",
    "model.compile(lr=1e-5)\n",
    "model.fit(x_train, y_train, x_val, y_val, max_epochs = 25)\n"
   ]
  },
  {
   "cell_type": "markdown",
   "id": "3700f3",
   "metadata": {
    "collapsed": false
   },
   "source": [
    "### 5e. Questions\n",
    "\n",
    "**Question 4:** How does the modified learning rate compare with the default? Why do you think you observed what you did for VGG6 and not VGG4 trained on CIFAR-10 with the default lr?"
   ]
  },
  {
   "cell_type": "markdown",
   "id": "4a12ce",
   "metadata": {
    "collapsed": false
   },
   "source": [
    "**Answer 4:** \n",
    "The higher learning rate (1e-3) led to faster convergence and higher accuracy for VGG6, while 1e-5 caused slow improvements due to minimal weight updates. This effect was more noticeable in VGG6 than VGG4 on CIFAR-10 because deeper networks may require larger updates to optimize effectively."
   ]
  },
  {
   "cell_type": "markdown",
   "id": "d1d15c",
   "metadata": {
    "collapsed": false
   },
   "source": [
    "## Task 6: Early stopping and He/Kaiming initialization\n",
    "\n",
    "The experiment that you just ran illuminates two major issues with our training workflow:\n",
    "1. Cutting off training while the net is learning after waiting a long time at some prespecified number of epochs is frustrating. It would be nice to not have to manually set the number of training epochs as long as the net is making progress.\n",
    "2. Picking the correct lr that could make or break training is frustrating. It would be nice to have the net work well to a wide range of lr choices and number of layers.\n",
    "\n",
    "In this section, we will introduce the following techniques to combat these respective issues:\n",
    "1. Early stopping.\n",
    "2. He/Kaiming weight initialization (*next week*)."
   ]
  },
  {
   "cell_type": "code",
   "execution_count": 1,
   "id": "73d753",
   "metadata": {
    "collapsed": false
   },
   "outputs": [],
   "source": [
    "from network import DeepNetwork"
   ]
  },
  {
   "cell_type": "markdown",
   "id": "1b69f3",
   "metadata": {
    "collapsed": false
   },
   "source": [
    "### 6a. Implement early stopping\n",
    "\n",
    "Implement the `early_stopping` method in `DeepNetwork` to determine the appropriate conditions to stop during training."
   ]
  },
  {
   "cell_type": "markdown",
   "id": "ada9cb",
   "metadata": {
    "collapsed": false
   },
   "source": [
    "#### Test: `early_stopping`"
   ]
  },
  {
   "cell_type": "code",
   "execution_count": 5,
   "id": "6a4744",
   "metadata": {
    "collapsed": false
   },
   "outputs": [
    {
     "name": "stdout",
     "output_type": "stream",
     "text": [
      "Early stopping Test 1 (patience_1=5):\n",
      " Stopped after 4 iterations (should be 5 iterations).\n",
      " Recent loss history is [0.0, 1.0, 2.0, 3.0, 4.0] and should be [1.0, 2.0, 3.0, 4.0, 5.0]\n",
      "\n",
      "Early stopping Test 2 (patience_2=3):\n",
      " Stopped after 2 iterations (should be 6 iterations).\n",
      " Recent loss history is [0.16513085, 0.9014813, 0.6309742] and should be [0.29193902, 0.64250207, 0.9757855]\n",
      "\n",
      "Early stopping Test 3 (patience_3=6):\n",
      " Stopped after 5 iterations (should be 9 iterations).\n",
      " Recent loss history is\n",
      " [0.16513085, 0.9014813, 0.6309742, 0.4345461, 0.29193902, 0.64250207]\n",
      " and should be\n",
      " [0.29193902, 0.64250207, 0.9757855, 0.43509948, 0.6601019, 0.60489583]\n",
      "\n"
     ]
    }
   ],
   "source": [
    "dn = DeepNetwork((1,), 0.)\n",
    "\n",
    "# Test 1\n",
    "patience_1 = 5\n",
    "es_lost_hist_1 = []\n",
    "for iter in range(10):\n",
    "    curr_loss = float(iter)\n",
    "    es_lost_hist_1, stop = dn.early_stopping(es_lost_hist_1, curr_loss, patience=patience_1)\n",
    "\n",
    "    if stop:\n",
    "        break\n",
    "print(f'Early stopping Test 1 ({patience_1=}):\\n Stopped after {iter} iterations (should be 5 iterations).')\n",
    "print(f' Recent loss history is {es_lost_hist_1} and should be [1.0, 2.0, 3.0, 4.0, 5.0]')\n",
    "print()\n",
    "\n",
    "# Test 2\n",
    "tf.random.set_seed(1)\n",
    "patience_2 = 3\n",
    "es_lost_hist_2 = []\n",
    "test_2_loss_vals = list(tf.random.uniform(shape=(20,)).numpy())\n",
    "for iter in range(30):\n",
    "    curr_loss = test_2_loss_vals[iter]\n",
    "    es_lost_hist_2, stop = dn.early_stopping(es_lost_hist_2, curr_loss, patience=patience_2)\n",
    "\n",
    "    if stop:\n",
    "        break\n",
    "print(f'Early stopping Test 2 ({patience_2=}):\\n Stopped after {iter} iterations (should be 6 iterations).')\n",
    "print(f' Recent loss history is {es_lost_hist_2} and should be [0.29193902, 0.64250207, 0.9757855]')\n",
    "print()\n",
    "\n",
    "# Test 3\n",
    "tf.random.set_seed(1)\n",
    "patience_3 = 6\n",
    "es_lost_hist_3 = []\n",
    "test_3_