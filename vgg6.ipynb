{
 "cells": [
  {
   "cell_type": "markdown",
   "id": "b56ff4",
   "metadata": {
    "collapsed": false
   },
   "source": [
    "Trey Tuscai and Gordon Doore\n",
    "\n",
    "Spring 2025\n",
    "\n",
    "CS 444: Deep Learning\n",
    "\n",
    "Project 1: Deep Neural Networks \n",
    "\n",
    "#### Week 2: Training deeper networks with blocks\n",
    "\n",
    "The focus this week is on block design organizing deeper neural networks."
   ]
  },
  {
   "cell_type": "code",
   "execution_count": 1,
   "id": "1f22c9",
   "metadata": {
    "collapsed": false
   },
   "outputs": [],
   "source": [
    "import numpy as np\n",
    "import tensorflow as tf\n",
    "import matplotlib.pyplot as plt\n",
    "\n",
    "plt.style.use(['seaborn-v0_8-colorblind', 'seaborn-v0_8-darkgrid'])\n",
    "plt.rcParams.update({'font.size': 20})\n",
    "\n",
    "np.set_printoptions(suppress=True, precision=3)\n",
    "\n",
    "# Automatically reload your external source code\n",
    "%load_ext autoreload\n",
    "%autoreload 2"
   ]
  },
  {
   "cell_type": "markdown",
   "id": "939a26",
   "metadata": {
    "collapsed": false
   },
   "source": [
    "## Task 5: Building deeper neural networks with blocks\n",
    "\n",
    "In the quest to classify CIFAR-10 images with the highest accuracy possible, we would like to build a neural network that is deeper than VGG4 and has a greater capacity to learn more complex, nonlinear patterns in the images. Let's focus on designing a slightly deeper network than VGG4 that we will call VGG6 that has the following architecture:\n",
    "\n",
    "Conv2D → Conv2D → MaxPool2D → **Conv2D → Conv2D → MaxPool2D** → Flatten → *Dense → Dropout* → Dense\n",
    "\n",
    "Notice how the bold set of `Conv2D`/`MaxPool2D` layers are repeats of the layers to their left. It turns out, it may be beneficial to replicate the `Dense`/`Dropout` layers (italicized) toward the end of the network multiple times as well in deeper versions.\n",
    "\n",
    "Review your code for assembling `VGG4`. Building `VGG6` would require some copy-pasting of layer creation code. Imagine building even deeper versions with even more layers (e.g. `VGG9`) — this copy-paste process would get tedious, unwieldy, and potentially be error prone the bigger the network gets!\n",
    "\n",
    "For this reason, modern deep neural networks are often built using **blocks**: sequences of layers that repeat over and over again as you get farther into the network. For example, imagine replacing the layers **Conv2D → Conv2D → MaxPool2D** with a SINGLE new object that represents performing that sequence of those 3 layers. If we also do this for the `Dense`/`Dropout` layers, the architecture would look like:\n",
    "\n",
    "VGGConvBlock_0 → **VGGConvBlock_1** → Flatten → *VGGDenseBlock_0* → Dense\n",
    "\n",
    "Much simpler, more manageable, and easier to scale up to deeper nets!\n",
    "\n"
   ]
  },
  {
   "cell_type": "markdown",
   "id": "b429f0",
   "metadata": {
    "collapsed": false
   },
   "source": [
    "### 5a. Build and test `VGG` blocks\n",
    "\n",
    "The file `block.py` contains both the `Block` class and the `VGGConvBlock` and `VGGDenseBlock` classes referenced above. The `Block` class is the parent class to all `Block` classes (*both ones you write this week and for the rest of the semester!*) and is designed to work with `DeepNetwork`. Just like `DeepNetwork`, it contains all the \"boilerplate\" code that needs to be written for ANY block.\n",
    "\n",
    "Aside from the constructor, I am providing you with the `Block` class fully implemented :) You only need to write code that assembles the layers that belong to a block and specify how the forward pass thru them is done. Blocks can be mixed-and-matched and interspersed with regular layers! Nice!\n",
    "\n",
    "Implement and test the following classes and methods.\n",
    "\n",
    "**Block:**\n",
    "- constructor.\n",
    "\n",
    "**VGGConvBlock:**\n",
    "- constructor: What layers belong to a `VGGConvBlock` block?\n",
    "- `__call__`: How do we perform the forward pass thru the block?\n",
    "\n",
    "**VGGDenseBlock:**\n",
    "- constructor: What layers belong to a `VGGDenseBlock` block?\n",
    "- `__call__`: How do we perform the forward pass thru the block?\n"
   ]
  },
  {
   "cell_type": "code",
   "execution_count": 2,
   "id": "88a474",
   "metadata": {
    "collapsed": false
   },
   "outputs": [],
   "source": [
    "from block import VGGConvBlock, VGGDenseBlock"
   ]
  },
  {
   "cell_type": "markdown",
   "id": "85e3b7",
   "metadata": {
    "collapsed": false
   },
   "source": [
    "#### Test: `VGGConvBlock` part 1/2"
   ]
  },
  {
   "cell_type": "code",
   "execution_count": 5,
   "id": "21e783",
   "metadata": {
    "collapsed": false
   },
   "outputs": [
    {
     "name": "stderr",
     "output_type": "stream",
     "text": [
      "2025-02-15 17:55:38.515312: I tensorflow/core/common_runtime/gpu/gpu_device.cc:1928] Created device /job:localhost/replica:0/task:0/device:GPU:0 with 20601 MB memory:  -> device: 0, name: NVIDIA L4, pci bus id: 0000:00:03.0, compute capability: 8.9\n"
     ]
    },
    {
     "name": "stderr",
     "output_type": "stream",
     "text": [
      "2025-02-15 17:55:39.647969: I external/local_xla/xla/stream_executor/cuda/cuda_dnn.cc:465] Loaded cuDNN version 90400\n"
     ]
    },
    {
     "name": "stdout",
     "output_type": "stream",
     "text": [
      "TestBlock:\n",
      "\tMaxPool2D layer output(TestBlock/maxpool2) shape: [1, 2, 2, 5]\n",
      "\tConv2D layer output(TestBlock/conv_1) shape: [1, 4, 4, 5]\n",
      "\tConv2D layer output(TestBlock/conv_0) shape: [1, 4, 4, 5]\n"
     ]
    }
   ],
   "source": [
    "tf.random.set_seed(0)\n",
    "x_test_1 = tf.random.normal(shape=(1, 4, 4, 3))\n",
    "conv_block = VGGConvBlock('TestBlock', units=5, prev_layer_or_block=None, wt_scale=1e-1)\n",
    "conv_block(x_test_1)\n",
    "print(conv_block)"
   ]
  },
  {
   "cell_type": "markdown",
   "id": "0b5558",
   "metadata": {
    "collapsed": false
   },
   "source": [
    "The above should print (naming might be different):\n",
    "\n",
    "```\n",
    "TestBlock:\n",
    "\tMaxPool2D layer output(TestBlock/maxpool2) shape: [1, 2, 2, 5]\n",
    "\tConv2D layer output(TestBlock/conv1) shape: [1, 4, 4, 5]\n",
    "\tConv2D layer output(TestBlock/conv0) shape: [1, 4, 4, 5]\n",
    "```"
   ]
  },
  {
   "cell_type": "code",
   "execution_count": 6,
   "id": "01935e",
   "metadata": {
    "collapsed": false
   },
   "outputs": [
    {
     "name": "stdout",
     "output_type": "stream",
     "text": [
      "Your block net_acts are\n",
      "[[[[0.372 0.487 0.071 0.158 0.   ]\n",
      "   [0.156 0.412 0.175 0.116 0.019]]\n",
      "\n",
      "  [[0.51  0.548 0.085 0.299 0.   ]\n",
      "   [0.375 0.327 0.169 0.209 0.   ]]]\n",
      "\n",
      "\n",
      " [[[0.25  0.551 0.    0.321 0.022]\n",
      "   [0.461 0.47  0.116 0.132 0.044]]\n",
      "\n",
      "  [[0.37  0.546 0.003 0.221 0.009]\n",
      "   [0.37  0.486 0.123 0.054 0.   ]]]]\n",
      "and they should be:\n",
      "[[[[0.372 0.487 0.071 0.158 0.   ]\n",
      "   [0.156 0.412 0.175 0.116 0.019]]\n",
      "\n",
      "  [[0.51  0.548 0.085 0.299 0.   ]\n",
      "   [0.375 0.327 0.169 0.209 0.   ]]]\n",
      "\n",
      "\n",
      " [[[0.25  0.551 0.    0.321 0.022]\n",
      "   [0.461 0.47  0.116 0.132 0.044]]\n",
      "\n",
      "  [[0.37  0.546 0.003 0.221 0.009]\n",
      "   [0.37  0.486 0.123 0.054 0.   ]]]]\n"
     ]
    }
   ],
   "source": [
    "tf.random.set_seed(1)\n",
    "x_test_2 = tf.random.normal(shape=(2, 4, 4, 3))\n",
    "acts = conv_block(x_test_2)\n",
    "print(f'Your block net_acts are\\n{acts.numpy()}')\n",
    "print('and they should be:')\n",
    "print('''[[[[0.372 0.487 0.071 0.158 0.   ]\n",
    "   [0.156 0.412 0.175 0.116 0.019]]\n",
    "\n",
    "  [[0.51  0.548 0.085 0.299 0.   ]\n",
    "   [0.375 0.327 0.169 0.209 0.   ]]]\n",
    "\n",
    "\n",
    " [[[0.25  0.551 0.    0.321 0.022]\n",
    "   [0.461 0.47  0.116 0.132 0.044]]\n",
    "\n",
    "  [[0.37  0.546 0.003 0.221 0.009]\n",
    "   [0.37  0.486 0.123 0.054 0.   ]]]]''')"
   ]
  },
  {
   "cell_type": "markdown",
   "id": "05077d",
   "metadata": {
    "collapsed": false
   },
   "source": [
    "#### Test: `VGGConvBlock` part 2/2"
   ]
  },
  {
   "cell_type": "code",
   "execution_count": 17,
   "id": "6016f3",
   "metadata": {
    "collapsed": false
   },
   "outputs": [
    {
     "name": "stdout",
     "output_type": "stream",
     "text": [
      "TestBlock:\n",
      "\tDropout layer output(TestBlock/dropout) shape: [1, 2, 2, 7]\n",
      "\tMaxPool2D layer output(TestBlock/maxpool2) shape: [1, 2, 2, 7]\n",
      "\tConv2D layer output(TestBlock/conv_1) shape: [1, 4, 4, 7]\n",
      "\tConv2D layer output(TestBlock/conv_0) shape: [1, 4, 4, 7]\n"
     ]
    }
   ],
   "source": [
    "tf.random.set_seed(0)\n",
    "x_test_1 = tf.random.normal(shape=(1, 4, 4, 3))\n",
    "conv_block = VGGConvBlock('TestBlock', units=7, prev_layer_or_block=None, dropout=True)\n",
    "conv_block(x_test_1)\n",
    "print(conv_block)"
   ]
  },
  {
   "cell_type": "markdown",
   "id": "0b88cb",
   "metadata": {
    "collapsed": false
   },
   "source": [
    "The above should print (naming might be different):\n",
    "\n",
    "```\n",
    "TestBlock:\n",
    "\tDropout layer output(TestBlock/dropout) shape: [1, 2, 2, 7]\n",
    "\tMaxPool2D layer output(TestBlock/maxpool2) shape: [1, 2, 2, 7]\n",
    "\tConv2D layer output(TestBlock/conv1) shape: [1, 4, 4, 7]\n",
    "\tConv2D layer output(TestBlock/conv0) shape: [1, 4, 4, 7]\n",
    "```"
   ]
  },
  {
   "cell_type": "code",
   "execution_count": 18,
   "id": "902051",
   "metadata": {
    "collapsed": false
   },
   "outputs": [
    {
     "name": "stdout",
     "output_type": "stream",
     "text": [
      "Your block net_acts are\n",
      "[[[[0.002 0.002 0.    0.    0.    0.    0.   ]\n",
      "   [0.002 0.002 0.    0.    0.    0.    0.   ]]\n",
      "\n",
      "  [[0.002 0.002 0.    0.    0.    0.    0.   ]\n",
      "   [0.002 0.002 0.    0.    0.    0.    0.   ]]]]\n",
      "and they should be:\n",
      "[[[[0.002 0.002 0.    0.    0.    0.    0.   ]\n",
      "   [0.002 0.002 0.    0.    0.    0.    0.   ]]\n",
      "\n",
      "  [[0.002 0.002 0.    0.    0.    0.    0.   ]\n",
      "   [0.002 0.002 0.    0.    0.    0.    0.   ]]]]\n"
     ]
    }
   ],
   "source": [
    "tf.random.set_seed(1)\n",
    "x_test_2 = tf.random.normal(shape=(1, 4, 4, 3))\n",
    "acts = conv_block(x_test_2)\n",
    "print(f'Your block net_acts are\\n{acts.numpy()}')\n",
    "print('and they should be:')\n",
    "print('''[[[[0.002 0.002 0.    0.    0.    0.    0.   ]\n",
    "   [0.002 0.002 0.    0.    0.    0.    0.   ]]\n",
    "\n",
    "  [[0.002 0.002 0.    0.    0.    0.    0.   ]\n",
    "   [0.002 0.002 0.    0.    0.    0.    0.   ]]]]''')"
   ]
  },
  {
   "cell_type": "markdown",
   "id": "ff9d2f",
   "metadata": {
    "collapsed": false
   },
   "source": [
    "#### Test: `VGGDenseBlock` part 1/2"
   ]
  },
  {
   "cell_type": "code",
   "execution_count": 19,
   "id": "abcec1",
   "metadata": {
    "collapsed": false
   },
   "outputs": [
    {
     "name": "stdout",
     "output_type": "stream",
     "text": [
      "TestDenseBlock:\n",
      "\tDropout layer output(TestDenseBlock/dropout) shape: [1, 2]\n",
      "\tDense layer output(TestDenseBlock/dense_0) shape: [1, 2]\n"
     ]
    }
   ],
   "source": [
    "tf.random.set_seed(0)\n",
    "x_test_1 = tf.random.normal(shape=(1, 6))\n",
    "dense_block = VGGDenseBlock('TestDenseBlock', units=(2,), prev_layer_or_block=None, wt_scale=1e-1)\n",
    "dense_block(x_test_1)\n",
    "print(dense_block)"
   ]
  },
  {
   "cell_type": "markdown",
   "id": "a76229",
   "metadata": {
    "collapsed": false
   },
   "source": [
    "The above should print (naming might be different):\n",
    "\n",
    "```\n",
    "TestDenseBlock:\n",
    "\tDropout layer output(TestDenseBlock/dropout) shape: [1, 2]\n",
    "\tDense layer output(TestDenseBlock/dense0) shape: [1, 2]\n",
    "```"
   ]
  },
  {
   "cell_type": "code",
   "execution_count": 20,
   "id": "a78afa",
   "metadata": {
    "collapsed": false
   },
   "outputs": [
    {
     "name": "stdout",
     "output_type": "stream",
     "text": [
      "Your block net_acts are\n",
      "[[0.   0.  ]\n",
      " [0.   0.  ]\n",
      " [0.   0.07]]\n",
      "and they should be:\n",
      "[[0.   0.  ]\n",
      " [0.   0.  ]\n",
      " [0.   0.07]]\n"
     ]
    }
   ],
   "source": [
    "tf.random.set_seed(1)\n",
    "x_test_2 = tf.random.normal(shape=(3, 6))\n",
    "acts = dense_block(x_test_2)\n",
    "print(f'Your block net_acts are\\n{acts.numpy()}')\n",
    "print('and they should be:')\n",
    "print('''[[0.   0.  ]\n",
    " [0.   0.  ]\n",
    " [0.   0.07]]''')"
   ]
  },
  {
   "cell_type": "markdown",
   "id": "38c3f1",
   "metadata": {
    "collapsed": false
   },
   "source": [
    "#### Test: `VGGDenseBlock` part 2/2"
   ]
  },
  {
   "cell_type": "code",
   "execution_count": 21,
   "id": "2a5304",
   "metadata": {
    "collapsed": false
   },
   "outputs": [
    {
     "name": "stdout",
     "output_type": "stream",
     "text": [
      "TestDenseBlock:\n",
      "\tDropout layer output(TestDenseBlock/dropout) shape: [1, 5]\n",
      "\tDense layer output(TestDenseBlock/dense_1) shape: [1, 5]\n",
      "\tDropout layer output(TestDenseBlock/dropout) shape: [1, 4]\n",
      "\tDense layer output(TestDenseBlock/dense_0) shape: [1, 4]\n"
     ]
    }
   ],
   "source": [
    "tf.random.set_seed(0)\n",
    "x_test_1 = tf.random.normal(shape=(1, 7))\n",
    "dense_block = VGGDenseBlock('TestDenseBlock', units=(4,5), prev_layer_or_block=None, num_dense_blocks=2)\n",
    "dense_block(x_test_1)\n",
    "print(dense_block)"
   ]
  },
  {
   "cell_type": "markdown",
   "id": "12b707",
   "metadata": {
    "collapsed": false
   },
   "source": [
    "The above should print (naming might be different):\n",
    "\n",
    "```\n",
    "TestDenseBlock:\n",
    "\tDropout layer output(TestDenseBlock/dropout) shape: [1, 5]\n",
    "\tDense layer output(TestDenseBlock/dense1) shape: [1, 5]\n",
    "\tDropout layer output(TestDenseBlock/dropout) shape: [1, 4]\n",
    "\tDense layer output(TestDenseBlock/dense0) shape: [1, 4]\n",
    "```"
   ]
  },
  {
   "cell_type": "code",
   "execution_count": 22,
   "id": "3b3002",
   "metadata": {
    "collapsed": false
   },
   "outputs": [
    {
     "name": "stdout",
     "output_type": "stream",
     "text": [
      "Your block net_acts are\n",
      "[[0.002 0.002 0.    0.    0.   ]\n",
      " [0.002 0.002 0.    0.    0.   ]]\n",
      "and they should be:\n",
      "[[0.002 0.002 0.    0.    0.   ]\n",
      " [0.002 0.002 0.    0.    0.   ]]\n"
     ]
    }
   ],
   "source": [
    "tf.random.set_seed(1)\n",
    "x_test_2 = tf.random.normal(shape=(2, 7))\n",
    "acts = dense_block(x_test_2)\n",
    "print(f'Your block net_acts are\\n{acts.numpy()}')\n",
    "print('and they should be:')\n",
    "print('''[[0.002 0.002 0.    0.    0.   ]\n",
    " [0.002 0.002 0.    0.    0.   ]]''')"
   ]
  },
  {
   "cell_type": "markdown",
   "id": "7d488a",
   "metadata": {
    "collapsed": false
   },
   "source": [
    "### 5b. Build `VGG6`\n",
    "\n",
    "Now that you have both types of VGG blocks implemented and tested, make us of them to write the `VGG6` constructor and `__call__` methods in `vgg_nets.py`. This should be a quick process."
   ]
  },
  {
   "cell_type": "code",
   "execution_count": 4,
   "id": "4fac05",
   "metadata": {
    "collapsed": false
   },
   "outputs": [],
   "source": [
    "from vgg_nets import VGG6"
   ]
  },
  {
   "cell_type": "markdown",
   "id": "eda107",
   "metadata": {
    "collapsed": false
   },
   "source": [
    "#### Test: `VGG6`"
   ]
  },
  {
   "cell_type": "code",
   "execution_count": 5,
   "id": "900df4",
   "metadata": {
    "collapsed": false
   },
   "outputs": [
    {
     "name": "stdout",
     "output_type": "stream",
     "text": [
      "---------------------------------------------------------------------------\n",
      "Dense layer output(output_layer) shape: [1, 5]\n",
      "DenseBlock1:\n",
      "\tDropout layer output(DenseBlock1/dropout) shape: [1, 256]\n",
      "\tDense layer output(DenseBlock1/dense_0) shape: [1, 256]\n",
      "Flatten layer output(flat) shape: [1, 512]\n",
      "ConvBlock2:\n",
      "\tMaxPool2D layer output(ConvBlock2/maxpool2) shape: [1, 2, 2, 128]\n",
      "\tConv2D layer output(ConvBlock2/conv_1) shape: [1, 4, 4, 128]\n",
      "\tConv2D layer output(ConvBlock2/conv_0) shape: [1, 4, 4, 128]\n",
      "ConvBlock1:\n",
      "\tMaxPool2D layer output(ConvBlock1/maxpool2) shape: [1, 4, 4, 64]\n",
      "\tConv2D layer output(ConvBlock1/conv_1) shape: [1, 8, 8, 64]\n",
      "\tConv2D layer output(ConvBlock1/conv_0) shape: [1, 8, 8, 64]\n",
      "---------------------------------------------------------------------------\n"
     ]
    }
   ],
   "source": [
    "test_vgg6_0 = VGG6(C=5, input_feats_shape=(8, 8, 3))\n",
    "test_vgg6_0.compile()"
   ]
  },
  {
   "cell_type": "markdown",
   "id": "05616e",
   "metadata": {
    "collapsed": false
   },
   "source": [
    "The above should print something like (*layer/block names may be different and that's ok*):\n",
    "\n",
    "```\n",
    "---------------------------------------------------------------------------\n",
    "Dense layer output(output) shape: [1, 5]\n",
    "DenseBlock1:\n",
    "\tDropout layer output(DenseBlock1/dropout) shape: [1, 256]\n",
    "\tDense layer output(DenseBlock1/dense0) shape: [1, 256]\n",
    "Flatten layer output(flat) shape: [1, 512]\n",
    "ConvBlock2:\n",
    "\tMaxPool2D layer output(ConvBlock2/maxpool2) shape: [1, 2, 2, 128]\n",
    "\tConv2D layer output(ConvBlock2/conv1) shape: [1, 4, 4, 128]\n",
    "\tConv2D layer output(ConvBlock2/conv0) shape: [1, 4, 4, 128]\n",
    "ConvBlock1:\n",
    "\tMaxPool2D layer output(ConvBlock1/maxpool2) shape: [1, 4, 4, 64]\n",
    "\tConv2D layer output(ConvBlock1/conv1) shape: [1, 8, 8, 64]\n",
    "\tConv2D layer output(ConvBlock1/conv0) shape: [1, 8, 8, 64]\n",
    "---------------------------------------------------------------------------\n",
    "```"
   ]
  },
  {
   "cell_type": "code",
   "execution_count": 6,
   "id": "033afd",
   "metadata": {
    "collapsed": false
   },
   "outputs": [
    {
     "name": "stdout",
     "output_type": "stream",
     "text": [
      "Your VGG6 output layer net_acts are\n",
      "[[0.    0.    1.    0.    0.   ]\n",
      " [0.    0.    1.    0.    0.   ]\n",
      " [0.    0.    1.    0.    0.   ]\n",
      " [0.    0.    1.    0.    0.   ]\n",
      " [0.    0.    0.999 0.    0.001]\n",
      " [0.    0.    0.652 0.003 0.345]]\n",
      "and they should be:\n",
      "[[0.    0.    1.    0.    0.   ]\n",
      " [0.    0.    1.    0.    0.   ]\n",
      " [0.    0.    1.    0.    0.   ]\n",
      " [0.    0.    1.    0.    0.   ]\n",
      " [0.    0.    0.999 0.    0.001]\n",
      " [0.    0.    0.652 0.003 0.345]]\n"
     ]
    }
   ],
   "source": [
    "tf.random.set_seed(0)\n",
    "x_test_3 = tf.random.normal(shape=(6, 8, 8, 3))\n",
    "\n",
    "tf.random.set_seed(1)\n",
    "test_vgg6 = VGG6(C=5, input_feats_shape=(8, 8, 3), wt_scale=1e-1)\n",
    "acts = test_vgg6(x_test_3)\n",
    "print(f'Your VGG6 output layer net_acts are\\n{acts.numpy()}')\n",
    "print('and they should be:')\n",
    "print('''[[0.    0.    1.    0.    0.   ]\n",
    " [0.    0.    1.    0.    0.   ]\n",
    " [0.    0.    1.    0.    0.   ]\n",
    " [0.    0.    1.    0.    0.   ]\n",
    " [0.    0.    0.999 0.    0.001]\n",
    " [0.    0.    0.652 0.003 0.345]]''')"
   ]
  },
  {
   "cell_type": "markdown",
   "id": "d0da2d",
   "metadata": {
    "collapsed": false
   },
   "source": [
    "### 5c. Train `VGG6` on CIFAR-10 with the default learning rate\n",
    "\n",
    "In the cells below:\n",
    "1. Load in the CIFAR-10 dataset.\n",
    "2. Train for `25` epochs with default lr and other default hyperparameters. Your initial training and val losses should be 2.30 and should hold steady.\n",
    "3. Print out the final test accuracy.\n",
    "\n",
    "#### Important notes\n",
    "\n",
    "#### 1. Running on CoCalc and GPU\n",
    "\n",
    "You should do this training session (and all subsequent \"real\" training sessions this semester on the GPU in CoCalc). Training at this point on your CPU is basically infeasible (*feel free to try it!*).\n",
    "\n",
    "#### 2. JIT compiling the train and test steps\n",
    "\n",
    "While training VGG6 on the GPU should take ~15 secs per epoch, which is not too bad, soon deeper networks and larger datasets will make the training too slow for us (*even on the GPU!*). To speed things up considerably now and going forward, use the process we discussed in class to decorate `train_step` and `test_step` with `@tf.function(jit_compile=True)`. The 1st epoch might be a little slow, but subsequent epochs should now fly by.\n",
    "\n",
    "**Note:**\n",
    "- If you have have trouble just-in-time (JIT) compiling the train and test steps, you should be able to decorate with `@tf.function` to statically compile the network (non-JIT). This may be slower than JIT compiling the network, but should still be faster than no compilation. **If JIT compiling does not work, please seek help. JIT compiling on CoCalc will be very helpful going forward.**\n",
    "- If you are training locally on macOS, JIT compiling will not work, but falling back to `@tf.function` should work fine."
   ]
  },
  {
   "cell_type": "code",
   "execution_count": 7,
   "id": "6b0813",
   "metadata": {
    "collapsed": false
   },
   "outputs": [
    {
     "name": "stdout",
     "output_type": "stream",
     "text": [
      "Your training set data have shape (45000, 32, 32, 3)\n",
      "Your training set labels have shape (45000,)\n",
      "Your val set data have shape (5000, 32, 32, 3)\n",
      "Your val set labels have shape (5000,)\n",
      "Your test set data have shape (10000, 32, 32, 3)\n",
      "Your test set labels have shape (10000,)\n"
     ]
    }
   ],
   "source": [
    "from datasets import get_dataset\n",
    "x_train, y_train, x_val, y_val, x_test, y_test, classnames = get_dataset(\"cifar10\")\n",
    "print(f'Your training set data have shape {x_train.shape}')\n",
    "print(f'Your training set labels have shape {y_train.shape}')\n",
    "print(f'Your val set data have shape {x_val.shape}')\n",
    "print(f'Your val set labels have shape {y_val.shape}')\n",
    "print(f'Your test set data have shape {x_test.shape}')\n",
    "print(f'Your test set labels have shape {y_test.shape}')"
   ]
  },
  {
   "cell_type": "code",
   "execution_count": 13,
   "id": "f91e73",
   "metadata": {
    "collapsed": false,
    "scrolled": true
   },
   "outputs": [
    {
     "name": "stdout",
     "output_type": "stream",
     "text": [
      "---------------------------------------------------------------------------\n",
      "Dense layer output(output_layer) shape: [1, 10]\n",
      "DenseBlock1:\n",
      "\tDropout layer output(DenseBlock1/dropout) shape: [1, 256]\n",
      "\tDense layer output(DenseBlock1/dense_0) shape: [1, 256]\n",
      "Flatten layer output(flat) shape: [1, 8192]\n",
      "ConvBlock2:\n",
      "\tMaxPool2D layer output(ConvBlock2/maxpool2) shape: [1, 8, 8, 128]\n",
      "\tConv2D layer output(ConvBlock2/conv_1) shape: [1, 16, 16, 128]\n",
      "\tConv2D layer output(ConvBlock2/conv_0) shape: [1, 16, 16, 128]\n",
      "ConvBlock1:\n",
      "\tMaxPool2D layer output(ConvBlock1/maxpool2) shape: [1, 16, 16, 64]\n",
      "\tConv2D layer output(ConvBlock1/conv_1) shape: [1, 32, 32, 64]\n",
      "\tConv2D layer output(ConvBlock1/conv_0) shape: [1, 32, 32, 64]\n",
      "---------------------------------------------------------------------------\n",
      "Epoch 1: Training Loss = 2.0941, Validation Loss = 1.7706, Validation Accuracy = 0.3454\n",
      "Epoch 1/25 took 17.2258 seconds\n",
      "Epoch 2: Training Loss = 1.6531, Validation Loss = 1.4336, Validation Accuracy = 0.4647\n",
      "Epoch 2/25 took 15.2103 seconds\n",
      "Epoch 3: Training Loss = 1.4400, Validation Loss = 1.2835, Validation Accuracy = 0.5483\n",
      "Epoch 3/25 took 15.3210 seconds\n",
      "Epoch 4: Training Loss = 1.2807, Validation Loss = 1.1546, Validation Accuracy = 0.5897\n",
      "Epoch 4/25 took 15.1760 seconds\n",
      "Epoch 5: Training Loss = 1.1711, Validation Loss = 1.0691, Validation Accuracy = 0.6198\n",
      "Epoch 5/25 took 15.1034 seconds\n",
      "Epoch 6: Training Loss = 1.0800, Validation Loss = 1.0019, Validation Accuracy = 0.6446\n",
      "Epoch 6/25 took 14.9538 seconds\n",
      "Epoch 7: Training Loss = 1.0177, Validation Loss = 0.9593, Validation Accuracy = 0.6591\n",
      "Epoch 7/25 took 15.0681 seconds\n",
      "Epoch 8: Training Loss = 0.9466, Validation Loss = 0.9208, Validation Accuracy = 0.6761\n",
      "Epoch 8/25 took 15.0541 seconds\n",
      "Epoch 9: Training Loss = 0.9138, Validation Loss = 0.8937, Validation Accuracy = 0.6889\n",
      "Epoch 9/25 took 15.0331 seconds\n",
      "Epoch 10: Training Loss = 0.8623, Validation Loss = 0.8792, Validation Accuracy = 0.6881\n",
      "Epoch 10/25 took 14.9675 seconds\n",
      "Epoch 11: Training Loss = 0.8174, Validation Loss = 0.8891, Validation Accuracy = 0.6845\n",
      "Epoch 11/25 took 14.9629 seconds\n",
      "Epoch 12: Training Loss = 0.7885, Validation Loss = 0.9102, Validation Accuracy = 0.6903\n",
      "Epoch 12/25 took 14.9651 seconds\n",
      "Epoch 13: Training Loss = 0.7441, Validation Loss = 0.8534, Validation Accuracy = 0.7043\n",
      "Epoch 13/25 took 14.9512 seconds\n",
      "Epoch 14: Training Loss = 0.7254, Validation Loss = 0.8406, Validation Accuracy = 0.7139\n",
      "Epoch 14/25 took 15.0098 seconds\n",
      "Epoch 15: Training Loss = 0.7053, Validation Loss = 0.8553, Validation Accuracy = 0.7069\n",
      "Epoch 15/25 took 14.9709 seconds\n",
      "Epoch 16: Training Loss = 0.6576, Validation Loss = 0.8666, Validation Accuracy = 0.7131\n",
      "Epoch 16/25 took 15.2278 seconds\n",
      "Epoch 17: Training Loss = 0.6458, Validation Loss = 0.8756, Validation Accuracy = 0.7059\n",
      "Epoch 17/25 took 15.0288 seconds\n",
      "Epoch 18: Training Loss = 0.6224, Validation Loss = 0.8847, Validation Accuracy = 0.7133\n",
      "Epoch 18/25 took 14.9225 seconds\n",
      "Epoch 19: Training Loss = 0.6000, Validation Loss = 0.8896, Validation Accuracy = 0.7143\n",
      "Epoch 19/25 took 14.9141 seconds\n",
      "Epoch 20: Training Loss = 0.5738, Validation Loss = 0.9187, Validation Accuracy = 0.7145\n",
      "Epoch 20/25 took 15.0080 seconds\n",
      "Epoch 21: Training Loss = 0.5583, Validation Loss = 0.9309, Validation Accuracy = 0.7103\n",
      "Epoch 21/25 took 15.0206 seconds\n",
      "Epoch 22: Training Loss = 0.5349, Validation Loss = 0.9668, Validation Accuracy = 0.7091\n",
      "Epoch 22/25 took 15.2601 seconds\n",
      "Epoch 23: Training Loss = 0.5227, Validation Loss = 0.9647, Validation Accuracy = 0.7091\n",
      "Epoch 23/25 took 15.0688 seconds\n",
      "Epoch 24: Training Loss = 0.5061, Validation Loss = 0.9576, Validation Accuracy = 0.7079\n",
      "Epoch 24/25 took 15.1573 seconds\n",
      "Epoch 25: Training Loss = 0.4925, Validation Loss = 1.0157, Validation Accuracy = 0.7117\n",
      "Epoch 25/25 took 15.1434 seconds\n",
      "Finished training after 25 epochs!\n"
     ]
    },
    {
     "data": {
      "text/plain": [
       "([2.0941398,\n",
       "  1.6531072,\n",
       "  1.4399972,\n",
       "  1.2806721,\n",
       "  1.1711196,\n",
       "  1.0800039,\n",
       "  1.0176796,\n",
       "  0.9466427,\n",
       "  0.9137844,\n",
       "  0.8622942,\n",
       "  0.8174412,\n",
       "  0.78854924,\n",
       "  0.74412423,\n",
       "  0.7254072,\n",
       "  0.7052945,\n",
       "  0.65763617,\n",
       "  0.64581335,\n",
       "  0.62237316,\n",
       "  0.6000251,\n",
       "  0.57376426,\n",
       "  0.55832577,\n",
       "  0.53493494,\n",
       "  0.5227216,\n",
       "  0.5060692,\n",
       "  0.492501],\n",
       " [1.7706299,\n",
       "  1.4335744,\n",
       "  1.2834868,\n",
       "  1.1545867,\n",
       "  1.0690659,\n",
       "  1.0018682,\n",
       "  0.95927614,\n",
       "  0.9207562,\n",
       "  0.89369005,\n",
       "  0.87919176,\n",
       "  0.8891287,\n",
       "  0.91020614,\n",
       "  0.85343915,\n",
       "  0.8406021,\n",
       "  0.85526323,\n",
       "  0.8666103,\n",
       "  0.8756257,\n",
       "  0.8847447,\n",
       "  0.8896048,\n",
       "  0.9187227,\n",
       "  0.9309176,\n",
       "  0.96683794,\n",
       "  0.9647389,\n",
       "  0.95758224,\n",
       "  1.0157185],\n",
       " [0.34535256,\n",
       "  0.46474358,\n",
       "  0.54827726,\n",
       "  0.5897436,\n",
       "  0.6197917,\n",
       "  0.6446314,\n",
       "  0.65905446,\n",
       "  0.6760817,\n",
       "  0.68890226,\n",
       "  0.68810093,\n",
       "  0.6844952,\n",
       "  0.69030446,\n",
       "  0.7043269,\n",
       "  0.7139423,\n",
       "  0.7069311,\n",
       "  0.713141,\n",
       "  0.70592946,\n",
       "  0.71334136,\n",
       "  0.71434295,\n",
       "  0.7145433,\n",
       "  0.71033657,\n",
       "  0.70913464,\n",
       "  0.70913464,\n",
       "  0.7079327,\n",
       "  0.71173877],\n",
       " 25)"
      ]
     },
     "execution_count": 13,
     "metadata": {},
     "output_type": "execute_result"
    }
   ],
   "source": [
    "# KEEP ME\n",
    "tf.random.set_seed(0)\n",
    "\n",
    "model = VGG6(10, (32, 32, 3))\n",
    "model.compile()\n",
    "model.fit(x_train, y_train, x_val, y_val, max_epochs = 25)"
   ]
  },
  {
   "cell_type": "markdown",
   "id": "dbb6f7",
   "metadata": {
    "collapsed": false
   },
   "source": [
    "### 5d. Train `VGG6` on CIFAR-10 with a smaller learning rate\n",
    "\n",
    "In the cells below, repeat what you did in the previous subtask, but this time change the learning rate to `1e-5`. You should get a very different result."
   ]
  },
  {
   "cell_type": "code",
   "execution_count": 14,
   "id": "9f792f",
   "metadata": {
    "collapsed": false
   },
   "outputs": [
    {
     "name": "stdout",
     "output_type": "stream",
     "text": [
      "---------------------------------------------------------------------------\n",
      "Dense layer output(output_layer) shape: [1, 10]\n",
      "DenseBlock1:\n",
      "\tDropout layer output(DenseBlock1/dropout) shape: [1, 256]\n",
      "\tDense layer output(DenseBlock1/dense_0) shape: [1, 256]\n",
      "Flatten layer output(flat) shape: [1, 8192]\n",
      "ConvBlock2:\n",
      "\tMaxPool2D layer output(ConvBlock2/maxpool2) shape: [1, 8, 8, 128]\n",
      "\tConv2D layer output(ConvBlock2/conv_1) shape: [1, 16, 16, 128]\n",
      "\tConv2D layer output(ConvBlock2/conv_0) shape: [1, 16, 16, 128]\n",
      "ConvBlock1:\n",
      "\tMaxPool2D layer output(ConvBlock1/maxpool2) shape: [1, 16, 16, 64]\n",
      "\tConv2D layer output(ConvBlock1/conv_1) shape: [1, 32, 32, 64]\n",
      "\tConv2D layer output(ConvBlock1/conv_0) shape: [1, 32, 32, 64]\n",
      "---------------------------------------------------------------------------\n",
      "Epoch 1: Training Loss = 2.3026, Validation Loss = 2.3026, Validation Accuracy = 0.1040\n",
      "Epoch 1/25 took 16.9925 seconds\n",
      "Epoch 2: Training Loss = 2.3026, Validation Loss = 2.3026, Validation Accuracy = 0.1040\n",
      "Epoch 2/25 took 15.1816 seconds\n",
      "Epoch 3: Training Loss = 2.3026, Validation Loss = 2.3026, Validation Accuracy = 0.1040\n",
      "Epoch 3/25 took 15.3049 seconds\n",
      "Epoch 4: Training Loss = 2.3026, Validation Loss = 2.3026, Validation Accuracy = 0.1040\n",
      "Epoch 4/25 took 15.2868 seconds\n",
      "Epoch 5: Training Loss = 2.3026, Validation Loss = 2.3026, Validation Accuracy = 0.1040\n",
      "Epoch 5/25 took 15.0885 seconds\n",
      "Epoch 6: Training Loss = 2.3026, Validation Loss = 2.3026, Validation Accuracy = 0.1040\n",
      "Epoch 6/25 took 15.1330 seconds\n",
      "Epoch 7: Training Loss = 2.3026, Validation Loss = 2.3026, Validation Accuracy = 0.1040\n",
      "Epoch 7/25 took 15.3553 seconds\n",
      "Epoch 8: Training Loss = 2.3026, Validation Loss = 2.3026, Validation Accuracy = 0.1040\n",
      "Epoch 8/25 took 15.2544 seconds\n",
      "Epoch 9: Training Loss = 2.2855, Validation Loss = 2.2090, Validation Accuracy = 0.1759\n",
      "Epoch 9/25 took 15.3157 seconds\n",
      "Epoch 10: Training Loss = 2.0448, Validation Loss = 1.9789, Validation Accuracy = 0.2867\n",
      "Epoch 10/25 took 15.3012 seconds\n",
      "Epoch 11: Training Loss = 1.9441, Validation Loss = 1.9181, Validation Accuracy = 0.3109\n",
      "Epoch 11/25 took 15.2085 seconds\n",
      "Epoch 12: Training Loss = 1.9037, Validation Loss = 1.8771, Validation Accuracy = 0.3303\n",
      "Epoch 12/25 took 15.2053 seconds\n",
      "Epoch 13: Training Loss = 1.8617, Validation Loss = 1.8387, Validation Accuracy = 0.3448\n",
      "Epoch 13/25 took 15.1785 seconds\n",
      "Epoch 14: Training Loss = 1.8237, Validation Loss = 1.8018, Validation Accuracy = 0.3554\n",
      "Epoch 14/25 took 15.0006 seconds\n",
      "Epoch 15: Training Loss = 1.8107, Validation Loss = 1.7745, Validation Accuracy = 0.3686\n",
      "Epoch 15/25 took 14.9749 seconds\n",
      "Epoch 16: Training Loss = 1.7801, Validation Loss = 1.7505, Validation Accuracy = 0.3744\n",
      "Epoch 16/25 took 15.2142 seconds\n",
      "Epoch 17: Training Loss = 1.7608, Validation Loss = 1.7299, Validation Accuracy = 0.3812\n",
      "Epoch 17/25 took 15.1042 seconds\n",
      "Epoch 18: Training Loss = 1.7371, Validation Loss = 1.7138, Validation Accuracy = 0.3836\n",
      "Epoch 18/25 took 15.0450 seconds\n",
      "Epoch 19: Training Loss = 1.7333, Validation Loss = 1.6980, Validation Accuracy = 0.3910\n",
      "Epoch 19/25 took 15.1320 seconds\n",
      "Epoch 20: Training Loss = 1.7052, Validation Loss = 1.6783, Validation Accuracy = 0.3992\n",
      "Epoch 20/25 took 15.1651 seconds\n",
      "Epoch 21: Training Loss = 1.6953, Validation Loss = 1.6638, Validation Accuracy = 0.4002\n",
      "Epoch 21/25 took 15.0232 seconds\n",
      "Epoch 22: Training Loss = 1.6819, Validation Loss = 1.6489, Validation Accuracy = 0.4028\n",
      "Epoch 22/25 took 14.9699 seconds\n",
      "Epoch 23: Training Loss = 1.6736, Validation Loss = 1.6384, Validation Accuracy = 0.4113\n",
      "Epoch 23/25 took 14.9594 seconds\n",
      "Epoch 24: Training Loss = 1.6614, Validation Loss = 1.6283, Validation Accuracy = 0.4113\n",
      "Epoch 24/25 took 14.9729 seconds\n",
      "Epoch 25: Training Loss = 1.6521, Validation Loss = 1.6166, Validation Accuracy = 0.4219\n",
      "Epoch 25/25 took 15.1405 seconds\n",
      "Finished training after 25 epochs!\n"
     ]
    },
    {
     "data": {
      "text/plain": [
       "([2.302585,\n",
       "  2.3025942,\n",
       "  2.3025813,\n",
       "  2.3025885,\n",
       "  2.3025885,\n",
       "  2.3025882,\n",
       "  2.302584,\n",
       "  2.3025854,\n",
       "  2.285487,\n",
       "  2.0447693,\n",
       "  1.9441468,\n",
       "  1.9036933,\n",
       "  1.8617069,\n",
       "  1.8236573,\n",
       "  1.8107212,\n",
       "  1.780128,\n",
       "  1.7608088,\n",
       "  1.7370582,\n",
       "  1.7332511,\n",
       "  1.7052345,\n",
       "  1.6953396,\n",
       "  1.6818511,\n",
       "  1.6736197,\n",
       "  1.6614116,\n",
       "  1.6521183],\n",
       " [2.3025658,\n",
       "  2.3025692,\n",
       "  2.3025682,\n",
       "  2.3025718,\n",
       "  2.302578,\n",
       "  2.3025835,\n",
       "  2.3025923,\n",
       "  2.3026028,\n",
       "  2.2090309,\n",
       "  1.978938,\n",
       "  1.9181061,\n",
       "  1.877066,\n",
       "  1.8386945,\n",
       "  1.8018478,\n",
       "  1.7744687,\n",
       "  1.750462,\n",
       "  1.7298723,\n",
       "  1.7138128,\n",
       "  1.6979501,\n",
       "  1.6782959,\n",
       "  1.6637665,\n",
       "  1.6488923,\n",
       "  1.6384379,\n",
       "  1.6283478,\n",
       "  1.6166263],\n",
       " [0.10396635,\n",
       "  0.10396635,\n",
       "  0.10396635,\n",
       "  0.10396635,\n",
       "  0.10396635,\n",
       "  0.10396635,\n",
       "  0.10396635,\n",
       "  0.10396635,\n",
       "  0.17588142,\n",
       "  0.28665864,\n",
       "  0.31089744,\n",
       "  0.33032852,\n",
       "  0.3447516,\n",
       "  0.35536858,\n",
       "  0.36858973,\n",
       "  0.37439904,\n",
       "  0.38120994,\n",
       "  0.3836138,\n",
       "  0.39102563,\n",
       "  0.3992388,\n",
       "  0.4002404,\n",
       "  0.40284455,\n",
       "  0.411258,\n",
       "  0.411258,\n",
       "  0.421875],\n",
       " 25)"
      ]
     },
     "execution_count": 14,
     "metadata": {},
     "output_type": "execute_result"
    }
   ],
   "source": [
    "# KEEP ME\n",
    "tf.random.set_seed(0)\n",
    "\n",
    "model = VGG6(10, (32, 32, 3))\n",
    "model.compile(lr=1e-5)\n",
    "model.fit(x_train, y_train, x_val, y_val, max_epochs = 25)\n"
   ]
  },
  {
   "cell_type": "markdown",
   "id": "3700f3",
   "metadata": {
    "collapsed": false
   },
   "source": [
    "### 5e. Questions\n",
    "\n",
    "**Question 4:** How does the modified learning rate compare with the default? Why do you think you observed what you did for VGG6 and not VGG4 trained on CIFAR-10 with the default lr?"
   ]
  },
  {
   "cell_type": "markdown",
   "id": "4a12ce",
   "metadata": {
    "collapsed": false
   },
   "source": [
    "**Answer 4:** \n",
    "The higher learning rate (1e-3) led to faster convergence and higher accuracy for VGG6, while 1e-5 caused slow improvements due to minimal weight updates. This effect was more noticeable in VGG6 than VGG4 on CIFAR-10 because deeper networks may require larger updates to optimize effectively."
   ]
  },
  {
   "cell_type": "markdown",
   "id": "d1d15c",
   "metadata": {
    "collapsed": false
   },
   "source": [
    "## Task 6: Early stopping and He/Kaiming initialization\n",
    "\n",
    "The experiment that you just ran illuminates two major issues with our training workflow:\n",
    "1. Cutting off training while the net is learning after waiting a long time at some prespecified number of epochs is frustrating. It would be nice to not have to manually set the number of training epochs as long as the net is making progress.\n",
    "2. Picking the correct lr that could make or break training is frustrating. It would be nice to have the net work well to a wide range of lr choices and number of layers.\n",
    "\n",
    "In this section, we will introduce the following techniques to combat these respective issues:\n",
    "1. Early stopping.\n",
    "2. He/Kaiming weight initialization (*next week*)."
   ]
  },
  {
   "cell_type": "code",
   "execution_count": 0,
   "id": "73d753",
   "metadata": {
    "collapsed": false
   },
   "outputs": [],
   "source": [
    "from network import DeepNetwork"
   ]
  },
  {
   "cell_type": "markdown",
   "id": "1b69f3",
   "metadata": {
    "collapsed": false
   },
   "source": [
    "### 6a. Implement early stopping\n",
    "\n",
    "Implement the `early_stopping` method in `DeepNetwork` to determine the appropriate conditions to stop during training."
   ]
  },
  {
   "cell_type": "markdown",
   "id": "ada9cb",
   "metadata": {
    "collapsed": false
   },
   "source": [
    "#### Test: `early_stopping`"
   ]
  },
  {
   "cell_type": "code",
   "execution_count": 0,
   "id": "6a4744",
   "metadata": {
    "collapsed": false
   },
   "outputs": [],
   "source": [
    "dn = DeepNetwork((1,), 0.)\n",
    "\n",
    "# Test 1\n",
    "patience_1 = 5\n",
    "es_lost_hist_1 = []\n",
    "for iter in range(10):\n",
    "    curr_loss = float(iter)\n",
    "    es_lost_hist_1, stop = dn.early_stopping(es_lost_hist_1, curr_loss, patience=patience_1)\n",
    "\n",
    "    if stop:\n",
    "        break\n",
    "print(f'Early stopping Test 1 ({patience_1=}):\\n Stopped after {iter} iterations (should be 5 iterations).')\n",
    "print(f' Recent loss history is {es_lost_hist_1} and should be [1.0, 2.0, 3.0, 4.0, 5.0]')\n",
    "print()\n",
    "\n",
    "# Test 2\n",
    "tf.random.set_seed(1)\n",
    "patience_2 = 3\n",
    "es_lost_hist_2 = []\n",
    "test_2_loss_vals = list(tf.random.uniform(shape=(20,)).numpy())\n",
    "for iter in range(30):\n",
    "    curr_loss = test_2_loss_vals[iter]\n",
    "    es_lost_hist_2, stop = dn.early_stopping(es_lost_hist_2, curr_loss, patience=patience_2)\n",
    "\n",
    "    if stop:\n",
    "        break\n",
    "print(f'Early stopping Test 2 ({patience_2=}):\\n Stopped after {iter} iterations (should be 6 iterations).')\n",
    "print(f' Recent loss history is {es_lost_hist_2} and should be [0.29193902, 0.64250207, 0.9757855]')\n",
    "print()\n",
    "\n",
    "# Test 3\n",
    "tf.random.set_seed(1)\n",
    "patience_3 = 6\n",
    "es_lost_hist_3 = []\n",
    "test_3_loss_vals = list(tf.random.uniform(shape=(20,)).numpy())\n",
    "for iter in range(30):\n",
    "    curr_loss = test_3_loss_vals[iter]\n",
    "    es_lost_hist_3, stop = dn.early_stopping(es_lost_hist_3, curr_loss, patience=patience_3)\n",
    "\n",
    "    if stop:\n",
    "        break\n",
    "print(f'Early stopping Test 3 ({patience_3=}):\\n Stopped after {iter} iterations (should be 9 iterations).')\n",
    "print(f' Recent loss history is\\n {es_lost_hist_3}\\n and should be')\n",
    "print(' [0.29193902, 0.64250207, 0.9757855, 0.43509948, 0.6601019, 0.60489583]')\n",
    "print()\n",
    "\n"
   ]
  },
  {
   "cell_type": "markdown",
   "id": "c58f35",
   "metadata": {
    "collapsed": false
   },
   "source": [
    "### 6b. Integrate early stopping into training\n",
    "\n",
    "Modify your `fit` function to support early stopping. Here are the changes to make:\n",
    "\n",
    "1. Before the training loop create an empty list to record the rolling list of recent validation loss values within the patience window of epochs.\n",
    "2. Each time the validation loss is computed, update and check the early stopping conditions. If the conditions are met, end the training early before `max_epochs` epochs is reached.\n",
    "3. Make sure you are returning as the 4th return argument the number of epochs before training ended."
   ]
  },
  {
   "cell_type": "markdown",
   "id": "37cae3",
   "metadata": {
    "collapsed": false
   },
   "source": [
    "#### Test: `fit` with early stopping\n",
    "\n",
    "The following test should end:\n",
    "- in about 10 secs.\n",
    "- after 300 epochs.\n",
    "- with final training loss of 0.04, Val loss of 0.06, Val acc of 96.00%"
   ]
  },
  {
   "cell_type": "code",
   "execution_count": 0,
   "id": "1e2def",
   "metadata": {
    "collapsed": false
   },
   "outputs": [],
   "source": [
    "from layers import Dense"
   ]
  },
  {
   "cell_type": "code",
   "execution_count": 0,
   "id": "ba1e4f",
   "metadata": {
    "collapsed": false
   },
   "outputs": [],
   "source": [
    "# Quickly make a mock network for testing\n",
    "class SoftmaxNet(DeepNetwork):\n",
    "    def __init__(self, input_feats_shape, C, reg=0):\n",
    "        super().__init__(input_feats_shape, reg)\n",
    "        self.output_layer = Dense('TestDense', units=C, activation='softmax', prev_layer_or_block=None)\n",
    "\n",
    "    def __call__(self, x):\n",
    "        return self.output_layer(x)\n",
    "\n",
    "# Load in Iris train/validation sets\n",
    "train_samps = tf.constant(np.load('data/iris/iris_train_samps.npy'), dtype=tf.float32)\n",
    "train_labels = tf.constant(np.load('data/iris/iris_train_labels.npy'), dtype=tf.int32)\n",
    "val_samps = tf.constant(np.load('data/iris/iris_val_samps.npy'), dtype=tf.float32)\n",
    "val_labels = tf.constant(np.load('data/iris/iris_val_labels.npy'), dtype=tf.int32)\n",
    "\n",
    "# Set some vars\n",
    "C = 3\n",
    "M = train_samps.shape[1]\n",
    "mini_batch_sz = 25\n",
    "lr = 1e-1\n",
    "max_epochs = 5000\n",
    "patience = 3\n",
    "val_every = 100  # how often (in epochs) we check the val loss/acc/early stopping\n",
    "\n",
    "# Create our test net\n",
    "tf.random.set_seed(0)\n",
    "slnet = SoftmaxNet((M,), C)\n",
    "slnet.compile(lr=lr)\n",
    "\n",
    "_, val_loss_hist, val_acc_hist, e = slnet.fit(train_samps, train_labels, val_samps, val_labels,\n",
    "                                              batch_size=mini_batch_sz,\n",
    "                                              max_epochs=max_epochs,\n",
    "                                              patience=patience,\n",
    "                                              val_every=val_every)\n",
    "\n",
    "print(75*'-')\n",
    "print(f'Iris test ended after {e} epochs with final val loss/acc of {val_loss_hist[-1]:.2f}/{val_acc_hist[-1]:.2f}')\n",
    "print(75*'-')"
   ]
  }
 ],
 "metadata": {
  "kernelspec": {
   "display_name": "cs343",
   "language": "python",
   "name": "python3"
  },
  "language_info": {
   "codemirror_mode": {
    "name": "ipython",
    "version": 3
   },
   "file_extension": ".py",
   "mimetype": "text/x-python",
   "name": "python",
   "nbconvert_exporter": "python",
   "pygments_lexer": "ipython3",
   "version": "3.11.10"
  }
 },
 "nbformat": 4,
 "nbformat_minor": 4
}
