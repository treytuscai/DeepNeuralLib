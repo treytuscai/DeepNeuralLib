{
 "cells": [
  {
   "cell_type": "markdown",
   "metadata": {},
   "source": [
    "Trey Tuscai\n",
    "\n",
    "Spring 2025\n",
    "\n",
    "CS 444: Deep Learning"
   ]
  },
  {
   "cell_type": "code",
   "execution_count": 1,
   "metadata": {},
   "outputs": [],
   "source": [
    "import numpy as np\n",
    "import matplotlib.pyplot as plt\n",
    "import tensorflow as tf\n",
    "\n",
    "plt.style.use(['seaborn-v0_8-colorblind', 'seaborn-v0_8-darkgrid'])\n",
    "plt.rcParams.update({'font.size': 16})\n",
    "\n",
    "np.set_printoptions(suppress=True, precision=4)\n",
    "\n",
    "# Automatically reload your external source code\n",
    "%load_ext autoreload\n",
    "%autoreload 2\n"
   ]
  },
  {
   "cell_type": "markdown",
   "metadata": {},
   "source": [
    "# Project 1: Deep Neural Networks\n",
    "\n",
    "In this project you will build your own general purpose neural network library! The library is designed to work similarly to modern widely used deep learning libraries, such as Keras and PyTorch. You will write the library in the TensorFlow low-level API, which will make it fast, efficient, and support training on GPUs.\n",
    "\n",
    "Please do your best to write understandable code that you will want to maintain, as **you will continue to use and augment your neural network library all semester**!"
   ]
  },
  {
   "cell_type": "markdown",
   "metadata": {},
   "source": [
    "#### Week 1: VGG4 and building a deep learning library\n",
    "\n",
    "The reason you are building a deep learning library is to learn how to train neural networks that have many layers (i.e. **deep neural networks**). To start, the focus will be on the influential family of deep neural networks called **VGG neural networks**, which was developed several years following the introduction of AlexNet. The [VGG paper](https://arxiv.org/abs/1409.1556) introduces several variants of the network, including VGG11, VGG16, VGG19 (*VGG19 has 19 layers that have weights!!*). This project will culminate in building and training a network from scratch that is comparable to VGG19 on image datasets that are *considerably* larger than we used in CS343!\n",
    "\n",
    "This week charts the course toward VGG19 with **VGG4**, a much shallower (i.e. smaller) network. While VGG4 has far fewer layers than VGG19, the two share the same fundamental building blocks. VGG4 will be used to test out your deep learning library and establish a baseline for what a 4 layer CNN can do."
   ]
  },
  {
   "cell_type": "markdown",
   "metadata": {},
   "source": [
    "## Task 1: Load and processing CIFAR-10 dataset\n",
    "\n",
    "Before implementing VGG4 and the deep neural network library, let's get familiarized with and write code to preprocess CIFAR-10, a large image dataset that we will use to train the VGG neural networks. CIFAR-10 is similar to STL-10 in that it consists of small color images of natural scenes, but it is considerably larger ($N=60,000$ vs $N=5,000$). Here is some more information about CIFAR-10:\n",
    "- Each RGB image is 32x32 resolution\n",
    "- Each image is one of 10 classes: `airplane`, `automobile` `bird` `cat` `deer` `dog` `frog` `horse` `ship` and `truck`\n",
    "- Unlike STL-10 whose images come from the famous ImageNet dataset, CIFAR-10 images are a subset of the (*also famous*) [80 Million Tiny Images](https://en.wikipedia.org/wiki/80_Million_Tiny_Images) dataset, which was released in 2009."
   ]
  },
  {
   "cell_type": "code",
   "execution_count": 2,
   "metadata": {},
   "outputs": [],
   "source": [
    "import datasets"
   ]
  },
  {
   "cell_type": "markdown",
   "metadata": {},
   "source": [
    "### 1a. Load and preprocess CIFAR-10\n",
    "\n",
    "Implement the `load_dataset` function in `datasets.py` to load in and preprocess CIFAR-10. For convenience, use TensorFlow Keras to download CIFAR10 directly from the internet."
   ]
  },
  {
   "cell_type": "markdown",
   "metadata": {},
   "source": [
    "#### Test: `load_dataset`\n",
    "\n",
    "Write a line of code to call your `load_dataset` function below. Name your variables in accordance with the test code."
   ]
  },
  {
   "cell_type": "code",
   "execution_count": 8,
   "metadata": {},
   "outputs": [],
   "source": [
    "x_train, y_train, x_test, y_test, classnames = datasets.load_dataset('cifar10')"
   ]
  },
  {
   "cell_type": "code",
   "execution_count": 9,
   "metadata": {},
   "outputs": [
    {
     "name": "stdout",
     "output_type": "stream",
     "text": [
      "The shape of your CIFAR-10 train and test sets are:\n",
      "x_train.shape=(50000, 32, 32, 3) y_train.shape=TensorShape([50000])\n",
      "x_test.shape=(10000, 32, 32, 3) y_test.shape=TensorShape([10000])\n",
      "and should be:\n",
      "x_train.shape=TensorShape([50000, 32, 32, 3]) y_train.shape=TensorShape([50000])\n",
      "x_test.shape=TensorShape([10000, 32, 32, 3]) y_test.shape=TensorShape([10000])\n",
      "\n",
      "Your training set min/max are 0.0/1.0 and should be 0.0/1.0\n",
      "The unique set of your train labels are [0 1 2 3 4 5 6 7 8 9] and should be [0 1 2 3 4 5 6 7 8 9]\n",
      "The unique set of your test labels are [0 1 2 3 4 5 6 7 8 9] and should be [0 1 2 3 4 5 6 7 8 9]\n"
     ]
    }
   ],
   "source": [
    "print('The shape of your CIFAR-10 train and test sets are:')\n",
    "print(f'{x_train.shape=} {y_train.shape=}')\n",
    "print(f'{x_test.shape=} {y_test.shape=}')\n",
    "print('and should be:')\n",
    "print('''x_train.shape=TensorShape([50000, 32, 32, 3]) y_train.shape=TensorShape([50000])\n",
    "x_test.shape=TensorShape([10000, 32, 32, 3]) y_test.shape=TensorShape([10000])''')\n",
    "print()\n",
    "print(f'Your training set min/max are {tf.reduce_min(x_train)}/{tf.reduce_max(x_train)} and should be 0.0/1.0')\n",
    "print(f'The unique set of your train labels are {np.unique(y_train)} and should be [0 1 2 3 4 5 6 7 8 9]')\n",
    "print(f'The unique set of your test labels are {np.unique(y_test)} and should be [0 1 2 3 4 5 6 7 8 9]')"
   ]
  },
  {
   "cell_type": "markdown",
   "metadata": {},
   "source": [
    "### 1b. Visualize some CIFAR-10 samples\n",
    "\n",
    "Create a 5x5 grid showing first 25 CIFAR-10 training images in a grid/montage. You should use the class string of each sample as the title and there should not be any clutter created by grid lines/axes."
   ]
  },
  {
   "cell_type": "code",
   "execution_count": 12,
   "metadata": {},
   "outputs": [
    {
     "data": {
      "image/png": "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