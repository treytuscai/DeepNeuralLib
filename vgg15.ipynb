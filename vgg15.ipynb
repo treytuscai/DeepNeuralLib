{
 "cells": [
  {
   "cell_type": "markdown",
   "id": "aca170",
   "metadata": {
    "collapsed": false
   },
   "source": [
    "Trey Tuscai and Gordon Doore\n",
    "\n",
    "Spring 2025\n",
    "\n",
    "CS 444: Deep Learning\n",
    "\n",
    "Project 1: Deep Neural Networks \n",
    "\n",
    "#### Week 4: Batch normalization and learning rate decay\n",
    "\n",
    "The continued focus this week is on strategies for training deep neural networks."
   ]
  },
  {
   "cell_type": "code",
   "execution_count": 1,
   "id": "4beb63",
   "metadata": {
    "collapsed": false
   },
   "outputs": [
    {
     "name": "stderr",
     "output_type": "stream",
     "text": [
      "2025-03-05 02:03:28.855104: I tensorflow/core/util/port.cc:113] oneDNN custom operations are on. You may see slightly different numerical results due to floating-point round-off errors from different computation orders. To turn them off, set the environment variable `TF_ENABLE_ONEDNN_OPTS=0`.\n",
      "2025-03-05 02:03:33.576870: I tensorflow/core/platform/cpu_feature_guard.cc:211] This TensorFlow binary is optimized to use available CPU instructions in performance-critical operations.\n",
      "To enable the following instructions: SSE3 SSE4.1 SSE4.2 AVX, in other operations, rebuild TensorFlow with the appropriate compiler flags.\n"
     ]
    }
   ],
   "source": [
    "import numpy as np\n",
    "import tensorflow as tf\n",
    "import matplotlib.pyplot as plt\n",
    "\n",
    "plt.style.use(['seaborn-v0_8-colorblind', 'seaborn-v0_8-darkgrid'])\n",
    "plt.rcParams.update({'font.size': 20})\n",
    "\n",
    "np.set_printoptions(suppress=True, precision=4)\n",
    "\n",
    "# Automatically reload your external source code\n",
    "%load_ext autoreload\n",
    "%autoreload 2"
   ]
  },
  {
   "cell_type": "markdown",
   "id": "98f7cd",
   "metadata": {
    "collapsed": false
   },
   "source": [
    "## Task 9. Batch normalization\n",
    "\n",
    "Batch normalization is one of the most powerful techniques for effectively training very deep neural networks. Let's implement batch normalization in the deep learning library and experiment with how integrating it with VGG networks affects classification accuracy on CIFAR-10."
   ]
  },
  {
   "cell_type": "markdown",
   "id": "d3a8aa",
   "metadata": {
    "collapsed": false
   },
   "source": [
    "### 9a. Implement batch normalization\n",
    "\n",
    "Implement the following methods / make the following changes:\n",
    "\n",
    "**Layer:**\n",
    "- Constructor: If you have not already done so, make instance variables for the two batch normalization related parameters.\n",
    "- `is_doing_batchnorm`\n",
    "- `init_batchnorm_params`: Initialize the batch normalization parameters. The gain, bias, mean, and standard deviation.\n",
    "- `__call__`: Update how you compute the forward pass through the layer. If we are doing batch norm AND the batch norm moving mean is not `None`, perform batch normalization on the net input before the layer's activation is computed.\n",
    "\n",
    "**Dense**:\n",
    "- `compute_batch_norm(net_in, eps=0.001)`: Updates the running mini-batch mean and standard deviation during training and performs batch normalization on the net input signal.\n",
    "\n",
    "**Conv2D**:\n",
    "- `compute_batch_norm(net_in, eps=0.001)`: Updates the running mini-batch mean and standard deviation during training and performs batch normalization on the net input signal.\n",
    "\n",
    "**VGGConvBlock** and **VGGDenseBlock**:\n",
    "- In the constructors, pass along the `do_batch_norm` parameter to constituent layers."
   ]
  },
  {
   "cell_type": "markdown",
   "id": "8cbe7f",
   "metadata": {
    "collapsed": false,
    "vscode": {
     "languageId": "tex"
    }
   },
   "source": [
    "#### Test: `Dense` batch norm"
   ]
  },
  {
   "cell_type": "code",
   "execution_count": 64,
   "id": "1fa21a",
   "metadata": {
    "collapsed": false
   },
   "outputs": [],
   "source": [
    "from layers import Dense"
   ]
  },
  {
   "cell_type": "code",
   "execution_count": 65,
   "id": "8dcd0b",
   "metadata": {
    "collapsed": false
   },
   "outputs": [
    {
     "name": "stdout",
     "output_type": "stream",
     "text": [
      "------------------------------ Test: Dense w/ linear (not training) ------------------------------\n",
      "Your net_acts (not in training mode) are\n",
      "[[ 0.1316 -0.1246  0.867  -0.0392 -0.1553]\n",
      " [ 0.1964 -0.0568  0.3891 -0.4167 -0.5647]]\n",
      "They should be:\n",
      "[[ 0.1316 -0.1246  0.867  -0.0392 -0.1553]\n",
      " [ 0.1964 -0.0568  0.3891 -0.4167 -0.5647]]\n",
      "------------------------------ Test: Dense w/ ReLU (not training) ------------------------------\n",
      "Your net_acts (not in training mode) are\n",
      "[[0.1861 0.     1.2261 0.     0.    ]\n",
      " [0.2777 0.     0.5503 0.     0.    ]]\n",
      "They should be:\n",
      "[[0.1861 0.     1.2261 0.     0.    ]\n",
      " [0.2777 0.     0.5503 0.     0.    ]]\n"
     ]
    }
   ],
   "source": [
    "print(30*'-', 'Test: Dense w/ linear (not training)', 30*'-')\n",
    "\n",
    "tf.random.set_seed(0)\n",
    "dense = Dense('Test', units=5, prev_layer_or_block=None, wt_init='he', activation='linear', do_batch_norm=True)\n",
    "dense(tf.ones([1, 3]))\n",
    "dense.init_batchnorm_params()\n",
    "\n",
    "tf.random.set_seed(1)\n",
    "net_acts = dense(tf.random.uniform([2, 3]))\n",
    "print(f'Your net_acts (not in training mode) are\\n{net_acts}')\n",
    "print('They should be:')\n",
    "print('''[[ 0.1316 -0.1246  0.867  -0.0392 -0.1553]\n",
    " [ 0.1964 -0.0568  0.3891 -0.4167 -0.5647]]''')\n",
    "\n",
    "print(30*'-', 'Test: Dense w/ ReLU (not training)', 30*'-')\n",
    "\n",
    "tf.random.set_seed(0)\n",
    "dense = Dense('Test', units=5, prev_layer_or_block=None, wt_init='he', do_batch_norm=True)\n",
    "dense(tf.ones([1, 3]))\n",
    "dense.init_batchnorm_params()\n",
    "\n",
    "tf.random.set_seed(1)\n",
    "net_acts = dense(tf.random.uniform([2, 3]))\n",
    "print(f'Your net_acts (not in training mode) are\\n{net_acts}')\n",
    "print('They should be:')\n",
    "print('''[[0.1861 0.     1.2261 0.     0.    ]\n",
    " [0.2777 0.     0.5503 0.     0.    ]]''')"
   ]
  },
  {
   "cell_type": "code",
   "execution_count": 66,
   "id": "af4bfb",
   "metadata": {
    "collapsed": false
   },
   "outputs": [
    {
     "name": "stdout",
     "output_type": "stream",
     "text": [
      "------------------------------ Test: Dense w/ linear (training) ------------------------------\n",
      "Your net_acts (in training mode) are\n",
      "[[-1.2303  1.1081 -0.1128  1.1738]\n",
      " [ 1.2109  0.16   -1.1564 -1.2605]\n",
      " [ 0.0194 -1.2681  1.2692  0.0866]]\n",
      "They should be:\n",
      "[[-1.2303  1.1081 -0.1128  1.1738]\n",
      " [ 1.2109  0.16   -1.1564 -1.2605]\n",
      " [ 0.0194 -1.2681  1.2692  0.0866]]\n",
      "------------------------------ Test: Dense w/ ReLU (training) ------------------------------\n",
      "Your net_acts (in training mode) are\n",
      "[[0.     0.     0.9971 0.9963 0.9966]\n",
      " [0.9787 0.9796 0.     0.     0.    ]]\n",
      "They should be:\n",
      "[[0.     0.     0.9971 0.9963 0.9966]\n",
      " [0.9787 0.9796 0.     0.     0.    ]]\n"
     ]
    }
   ],
   "source": [
    "print(30*'-', 'Test: Dense w/ linear (training)', 30*'-')\n",
    "tf.random.set_seed(0)\n",
    "dense = Dense('Test', units=4, prev_layer_or_block=None, wt_init='he', activation='linear', do_batch_norm=True)\n",
    "dense(tf.ones([1, 6]))\n",
    "dense.init_batchnorm_params()\n",
    "\n",
    "dense.set_mode(True)\n",
    "\n",
    "tf.random.set_seed(1)\n",
    "net_acts = dense(tf.random.uniform([3, 6]))\n",
    "print(f'Your net_acts (in training mode) are\\n{net_acts}')\n",
    "print('They should be:')\n",
    "print('''[[-1.2303  1.1081 -0.1128  1.1738]\n",
    " [ 1.2109  0.16   -1.1564 -1.2605]\n",
    " [ 0.0194 -1.2681  1.2692  0.0866]]''')\n",
    "\n",
    "print(30*'-', 'Test: Dense w/ ReLU (training)', 30*'-')\n",
    "tf.random.set_seed(0)\n",
    "dense = Dense('Test', units=5, prev_layer_or_block=None, wt_init='he', do_batch_norm=True)\n",
    "dense(tf.ones([1, 3]))\n",
    "dense.init_batchnorm_params()\n",
    "\n",
    "dense.set_mode(True)\n",
    "\n",
    "tf.random.set_seed(1)\n",
    "net_acts = dense(tf.random.uniform([2, 3]))\n",
    "print(f'Your net_acts (in training mode) are\\n{net_acts}')\n",
    "print('They should be:')\n",
    "print('''[[0.     0.     0.9971 0.9963 0.9966]\n",
    " [0.9787 0.9796 0.     0.     0.    ]]''')"
   ]
  },
  {
   "cell_type": "code",
   "execution_count": 67,
   "id": "c2cef7",
   "metadata": {
    "collapsed": false
   },
   "outputs": [
    {
     "name": "stdout",
     "output_type": "stream",
     "text": [
      "------------------------------ Test: Dense w/ ReLU multiple mini-batches ------------------------------\n",
      "Your net_acts after some mini-batches are\n",
      "[[0.9975 0.9953 0.     0.     0.    ]\n",
      " [0.     0.     0.9984 0.9953 0.9946]]\n",
      "They should be:\n",
      "[[0.9975 0.9953 0.     0.     0.    ]\n",
      " [0.     0.     0.9984 0.9953 0.9946]]\n",
      "After processing mini-batches in non-training mode, the net_acts are:\n",
      "[[0.2089 0.     0.5334 0.     0.    ]\n",
      " [0.2175 0.     1.505  0.     0.    ]]\n",
      "[[0.8584 0.0224 1.0932 0.     0.    ]\n",
      " [1.1234 0.2351 0.2997 0.     0.    ]]\n",
      "and should be:\n",
      "[[0.2089 0.     0.5334 0.     0.    ]\n",
      " [0.2175 0.     1.505  0.     0.    ]]\n",
      "[[0.8584 0.0224 1.0932 0.     0.    ]\n",
      " [1.1234 0.2351 0.2997 0.     0.    ]]\n"
     ]
    }
   ],
   "source": [
    "print(30*'-', 'Test: Dense w/ ReLU multiple mini-batches', 30*'-')\n",
    "tf.random.set_seed(0)\n",
    "dense = Dense('Test', units=5, prev_layer_or_block=None, wt_init='he', do_batch_norm=True)\n",
    "dense(tf.ones([1, 3]))\n",
    "dense.init_batchnorm_params()\n",
    "\n",
    "dense.set_mode(True)\n",
    "\n",
    "tf.random.set_seed(1)\n",
    "for i in range(5):\n",
    "    net_acts = dense(tf.random.uniform([2, 3]))\n",
    "print(f'Your net_acts after some mini-batches are\\n{net_acts}')\n",
    "print('They should be:')\n",
    "print('''[[0.9975 0.9953 0.     0.     0.    ]\n",
    " [0.     0.     0.9984 0.9953 0.9946]]''')\n",
    "\n",
    "dense.set_mode(False)\n",
    "\n",
    "tf.random.set_seed(2)\n",
    "net_acts1 = dense(tf.random.uniform([2, 3]))\n",
    "net_acts2 = dense(tf.random.uniform([2, 3]))\n",
    "\n",
    "print('After processing mini-batches in non-training mode, the net_acts are:')\n",
    "print(net_acts1.numpy())\n",
    "print(net_acts2.numpy())\n",
    "print('and should be:')\n",
    "print('''[[0.2089 0.     0.5334 0.     0.    ]\n",
    " [0.2175 0.     1.505  0.     0.    ]]\n",
    "[[0.8584 0.0224 1.0932 0.     0.    ]\n",
    " [1.1234 0.2351 0.2997 0.     0.    ]]''')\n"
   ]
  },
  {
   "cell_type": "markdown",
   "id": "35c080",
   "metadata": {
    "collapsed": false
   },
   "source": [
    "#### Test: `Conv2D` batch norm"
   ]
  },
  {
   "cell_type": "code",
   "execution_count": 68,
   "id": "d27809",
   "metadata": {
    "collapsed": false
   },
   "outputs": [],
   "source": [
    "from layers import Conv2D"
   ]
  },
  {
   "cell_type": "code",
   "execution_count": 69,
   "id": "1a877b",
   "metadata": {
    "collapsed": false
   },
   "outputs": [
    {
     "name": "stdout",
     "output_type": "stream",
     "text": [
      "------------------------------ Test: Conv2D w/ linear (not training) ------------------------------\n",
      "Your net_acts (not in training mode) are\n",
      "[[[[-0.4583  0.3257 -0.7078 -0.3702]\n",
      "   [-0.1189  0.2832 -0.1614 -0.0745]]\n",
      "\n",
      "  [[ 0.4845  0.4109 -0.5069 -0.2724]\n",
      "   [ 0.1433  0.2664 -0.2008 -0.0392]]]\n",
      "\n",
      "\n",
      " [[[-0.2477  0.4331 -0.2983 -0.2121]\n",
      "   [-0.0728  0.2052 -0.1844  0.1303]]\n",
      "\n",
      "  [[ 0.2266  0.4893 -0.3521 -0.0567]\n",
      "   [ 0.0542  0.0702 -0.0703 -0.0319]]]]\n",
      "They should be:\n",
      "[[[[-0.4583  0.3257 -0.7078 -0.3702]\n",
      "   [-0.1189  0.2832 -0.1614 -0.0745]]\n",
      "\n",
      "  [[ 0.4845  0.4109 -0.5069 -0.2724]\n",
      "   [ 0.1433  0.2664 -0.2008 -0.0392]]]\n",
      "\n",
      "\n",
      " [[[-0.2477  0.4331 -0.2983 -0.2121]\n",
      "   [-0.0728  0.2052 -0.1844  0.1303]]\n",
      "\n",
      "  [[ 0.2266  0.4893 -0.3521 -0.0567]\n",
      "   [ 0.0542  0.0702 -0.0703 -0.0319]]]]\n"
     ]
    }
   ],
   "source": [
    "print(30*'-', 'Test: Conv2D w/ linear (not training)', 30*'-')\n",
    "\n",
    "tf.random.set_seed(0)\n",
    "conv = Conv2D('Test', units=4, kernel_size=(2, 2), prev_layer_or_block=None, wt_init='he', activation='linear',\n",
    "              do_batch_norm=True)\n",
    "conv(tf.ones([1, 2, 2, 3]))\n",
    "conv.init_batchnorm_params()\n",
    "\n",
    "tf.random.set_seed(1)\n",
    "net_acts = conv(tf.random.uniform([2, 2, 2, 3]))\n",
    "print(f'Your net_acts (not in training mode) are\\n{net_acts}')\n",
    "print('They should be:')\n",
    "print('''[[[[-0.4583  0.3257 -0.7078 -0.3702]\n",
    "   [-0.1189  0.2832 -0.1614 -0.0745]]\n",
    "\n",
    "  [[ 0.4845  0.4109 -0.5069 -0.2724]\n",
    "   [ 0.1433  0.2664 -0.2008 -0.0392]]]\n",
    "\n",
    "\n",
    " [[[-0.2477  0.4331 -0.2983 -0.2121]\n",
    "   [-0.0728  0.2052 -0.1844  0.1303]]\n",
    "\n",
    "  [[ 0.2266  0.4893 -0.3521 -0.0567]\n",
    "   [ 0.0542  0.0702 -0.0703 -0.0319]]]]''')"
   ]
  },
  {
   "cell_type": "code",
   "execution_count": 70,
   "id": "e9fb82",
   "metadata": {
    "collapsed": false
   },
   "outputs": [
    {
     "name": "stdout",
     "output_type": "stream",
     "text": [
      "------------------------------ Test: Conv2D w/ linear (training) ------------------------------\n",
      "Your net_acts (not in training mode) are\n",
      "[[[[-1.6719  0.1188 -2.0219 -1.6977]\n",
      "   [-0.4375 -0.2133  0.7571  0.2757]]\n",
      "\n",
      "  [[ 1.7572  0.7852 -1.     -1.0448]\n",
      "   [ 0.5163 -0.3449  0.5564  0.5117]]]\n",
      "\n",
      "\n",
      " [[[-0.9058  0.9583  0.0608 -0.6427]\n",
      "   [-0.2695 -0.8235  0.64    1.6431]]\n",
      "\n",
      "  [[ 0.8191  1.3981 -0.2129  0.3946]\n",
      "   [ 0.1922 -1.8786  1.2204  0.5601]]]]\n",
      "They should be:\n",
      "[[[[-1.6719  0.1188 -2.0219 -1.6977]\n",
      "   [-0.4375 -0.2133  0.7571  0.2757]]\n",
      "\n",
      "  [[ 1.7572  0.7852 -1.     -1.0448]\n",
      "   [ 0.5163 -0.3449  0.5564  0.5117]]]\n",
      "\n",
      "\n",
      " [[[-0.9058  0.9583  0.0608 -0.6427]\n",
      "   [-0.2695 -0.8235  0.64    1.6431]]\n",
      "\n",
      "  [[ 0.8191  1.3981 -0.2129  0.3946]\n",
      "   [ 0.1922 -1.8786  1.2204  0.5601]]]]\n"
     ]
    }
   ],
   "source": [
    "print(30*'-', 'Test: Conv2D w/ linear (training)', 30*'-')\n",
    "\n",
    "tf.random.set_seed(0)\n",
    "conv = Conv2D('Test', units=4, kernel_size=(2, 2), prev_layer_or_block=None, wt_init='he', activation='linear',\n",
    "              do_batch_norm=True)\n",
    "conv(tf.ones([1, 2, 2, 3]))\n",
    "conv.init_batchnorm_params()\n",
    "\n",
    "conv.set_mode(True)\n",
    "\n",
    "tf.random.set_seed(1)\n",
    "net_acts = conv(tf.random.uniform([2, 2, 2, 3]))\n",
    "print(f'Your net_acts (not in training mode) are\\n{net_acts}')\n",
    "print('They should be:')\n",
    "print('''[[[[-1.6719  0.1188 -2.0219 -1.6977]\n",
    "   [-0.4375 -0.2133  0.7571  0.2757]]\n",
    "\n",
    "  [[ 1.7572  0.7852 -1.     -1.0448]\n",
    "   [ 0.5163 -0.3449  0.5564  0.5117]]]\n",
    "\n",
    "\n",
    " [[[-0.9058  0.9583  0.0608 -0.6427]\n",
    "   [-0.2695 -0.8235  0.64    1.6431]]\n",
    "\n",
    "  [[ 0.8191  1.3981 -0.2129  0.3946]\n",
    "   [ 0.1922 -1.8786  1.2204  0.5601]]]]''')\n"
   ]
  },
  {
   "cell_type": "code",
   "execution_count": 71,
   "id": "05d8b9",
   "metadata": {
    "collapsed": false
   },
   "outputs": [
    {
     "name": "stdout",
     "output_type": "stream",
     "text": [
      "------------------------------ Test: Conv2D w/ ReLU multiple mini-batches ------------------------------\n",
      "Your net_acts after some mini-batches are\n",
      "[[[[0.     0.     0.252  0.    ]\n",
      "   [0.     0.1891 1.3142 0.4295]]\n",
      "\n",
      "  [[1.1739 0.     0.0018 0.4892]\n",
      "   [0.7065 0.     0.2646 0.7403]]]\n",
      "\n",
      "\n",
      " [[[0.     1.7817 0.     0.    ]\n",
      "   [0.     0.447  0.8604 0.5298]]\n",
      "\n",
      "  [[1.1745 0.8703 0.     0.5416]\n",
      "   [0.7664 0.     0.2116 0.6486]]]]\n",
      "They should be:\n",
      "[[[[0.     0.     0.252  0.    ]\n",
      "   [0.     0.1891 1.3142 0.4295]]\n",
      "\n",
      "  [[1.1739 0.     0.0018 0.4892]\n",
      "   [0.7065 0.     0.2646 0.7403]]]\n",
      "\n",
      "\n",
      " [[[0.     1.7817 0.     0.    ]\n",
      "   [0.     0.447  0.8604 0.5298]]\n",
      "\n",
      "  [[1.1745 0.8703 0.     0.5416]\n",
      "   [0.7664 0.     0.2116 0.6486]]]]\n"
     ]
    }
   ],
   "source": [
    "print(30*'-', 'Test: Conv2D w/ ReLU multiple mini-batches', 30*'-')\n",
    "tf.random.set_seed(0)\n",
    "conv = Conv2D('Test', units=4, kernel_size=(2, 2), prev_layer_or_block=None, wt_init='he', do_batch_norm=True)\n",
    "conv(tf.ones([1, 2, 2, 3]))\n",
    "conv.init_batchnorm_params()\n",
    "\n",
    "conv.set_mode(True)\n",
    "\n",
    "tf.random.set_seed(1)\n",
    "for i in range(5):\n",
    "    net_acts = conv(tf.random.uniform([2, 2, 2, 3]))\n",
    "print(f'Your net_acts after some mini-batches are\\n{net_acts}')\n",
    "print('They should be:')\n",
    "print('''[[[[0.     0.     0.252  0.    ]\n",
    "   [0.     0.1891 1.3142 0.4295]]\n",
    "\n",
    "  [[1.1739 0.     0.0018 0.4892]\n",
    "   [0.7065 0.     0.2646 0.7403]]]\n",
    "\n",
    "\n",
    " [[[0.     1.7817 0.     0.    ]\n",
    "   [0.     0.447  0.8604 0.5298]]\n",
    "\n",
    "  [[1.1745 0.8703 0.     0.5416]\n",
    "   [0.7664 0.     0.2116 0.6486]]]]''')"
   ]
  },
  {
   "cell_type": "code",
   "execution_count": 72,
   "id": "74a58a",
   "metadata": {
    "collapsed": false
   },
   "outputs": [
    {
     "name": "stdout",
     "output_type": "stream",
     "text": [
      "After processing mini-batches in non-training mode, the net_acts are:\n",
      "[[[[0.     0.0107 0.     0.    ]\n",
      "   [0.     0.2271 0.3021 0.    ]]\n",
      "\n",
      "  [[0.0629 0.0541 0.     0.0349]\n",
      "   [0.     0.3308 0.     0.1565]]]\n",
      "\n",
      "\n",
      " [[[0.     0.4355 0.     0.    ]\n",
      "   [0.     0.     0.2244 0.4117]]\n",
      "\n",
      "  [[0.0396 0.2184 0.     0.058 ]\n",
      "   [0.4179 0.3454 0.     0.    ]]]]\n",
      "and should be:\n",
      "[[[[0.     0.0107 0.     0.    ]\n",
      "   [0.     0.2271 0.3021 0.    ]]\n",
      "\n",
      "  [[0.0629 0.0541 0.     0.0349]\n",
      "   [0.     0.3308 0.     0.1565]]]\n",
      "\n",
      "\n",
      " [[[0.     0.4355 0.     0.    ]\n",
      "   [0.     0.     0.2244 0.4117]]\n",
      "\n",
      "  [[0.0396 0.2184 0.     0.058 ]\n",
      "   [0.4179 0.3454 0.     0.    ]]]]\n"
     ]
    }
   ],
   "source": [
    "conv.set_mode(False)\n",
    "\n",
    "tf.random.set_seed(2)\n",
    "for i in range(2):\n",
    "    net_acts = conv(tf.random.uniform([2, 2, 2, 3]))\n",
    "\n",
    "print('After processing mini-batches in non-training mode, the net_acts are:')\n",
    "print(net_acts.numpy())\n",
    "print('and should be:')\n",
    "print('''[[[[0.     0.0107 0.     0.    ]\n",
    "   [0.     0.2271 0.3021 0.    ]]\n",
    "\n",
    "  [[0.0629 0.0541 0.     0.0349]\n",
    "   [0.     0.3308 0.     0.1565]]]\n",
    "\n",
    "\n",
    " [[[0.     0.4355 0.     0.    ]\n",
    "   [0.     0.     0.2244 0.4117]]\n",
    "\n",
    "  [[0.0396 0.2184 0.     0.058 ]\n",
    "   [0.4179 0.3454 0.     0.    ]]]]''')\n"
   ]
  },
  {
   "cell_type": "markdown",
   "id": "d00f37",
   "metadata": {
    "collapsed": false
   },
   "source": [
    "### 9b. Create VGG networks that use batch normalization\n",
    "\n",
    "In `vgg_nets.py`, create the `VGG4Plus`, `VGG15Plus`, and `VGG15PlusPlus` networks. These are the same as the corresponding nets you have already implemented, except these networks have batch normalization throughout in the conv and dense layers. The `VGG15PlusPlus` network differs from `VGG15Plus` in the use of dropout in the all of the conv blocks (not just before the final dense layer). This should be quick with some copy-pasting.\n",
    "\n",
    "**NOTE:** If your net_acts below are off in some cases by one number in the right-most least significant decimal place **that is fine!**."
   ]
  },
  {
   "cell_type": "code",
   "execution_count": 2,
   "id": "ec6755",
   "metadata": {
    "collapsed": false
   },
   "outputs": [],
   "source": [
    "from vgg_nets import VGG4Plus, VGG15Plus, VGG15PlusPlus"
   ]
  },
  {
   "cell_type": "markdown",
   "id": "2f9c27",
   "metadata": {
    "collapsed": false
   },
   "source": [
    "#### Test: VGG4Plus"
   ]
  },
  {
   "cell_type": "code",
   "execution_count": 77,
   "id": "2120c5",
   "metadata": {
    "collapsed": false
   },
   "outputs": [
    {
     "name": "stdout",
     "output_type": "stream",
     "text": [
      "---------------------------------------------------------------------------\n",
      "Dense layer output(output) shape: [1, 3]\n",
      "Dropout layer output(dropout1) shape: [1, 128]\n",
      "Dense layer output(dense1) shape: [1, 128]\n",
      "Flatten layer output(flat) shape: [1, 16384]\n",
      "MaxPool2D layer output(maxpool1) shape: [1, 16, 16, 64]\n",
      "Conv2D layer output(conv2) shape: [1, 32, 32, 64]\n",
      "Conv2D layer output(conv1) shape: [1, 32, 32, 64]\n",
      "---------------------------------------------------------------------------\n"
     ]
    }
   ],
   "source": [
    "v = VGG4Plus(C=3, input_feats_shape=(32, 32, 3), wt_init='he')\n",
    "v.compile()"
   ]
  },
  {
   "cell_type": "markdown",
   "id": "da3e89",
   "metadata": {
    "collapsed": false
   },
   "source": [
    "The above should print:\n",
    "\n",
    "```\n",
    "---------------------------------------------------------------------------\n",
    "Dense layer output(output) shape: [1, 3]\n",
    "Dropout layer output(dropout1) shape: [1, 128]\n",
    "Dense layer output(dense1) shape: [1, 128]\n",
    "Flatten layer output(flat) shape: [1, 16384]\n",
    "MaxPool2D layer output(maxpool1) shape: [1, 16, 16, 64]\n",
    "Conv2D layer output(conv2) shape: [1, 32, 32, 64]\n",
    "Conv2D layer output(conv1) shape: [1, 32, 32, 64]\n",
    "---------------------------------------------------------------------------\n",
    "```\n"
   ]
  },
  {
   "cell_type": "code",
   "execution_count": 78,
   "id": "407053",
   "metadata": {
    "collapsed": false
   },
   "outputs": [
    {
     "name": "stdout",
     "output_type": "stream",
     "text": [
      "Your net_acts are\n",
      "[[0.2328 0.6381 0.1291]\n",
      " [0.2    0.6335 0.1664]] and should be\n",
      "[[0.2328 0.6381 0.1291]\n",
      " [0.2    0.6335 0.1664]]\n"
     ]
    }
   ],
   "source": [
    "tf.random.set_seed(0)\n",
    "v = VGG4Plus(C=3, input_feats_shape=(32, 32, 5), wt_init='he')\n",
    "tf.random.set_seed(1)\n",
    "net_acts = v(tf.random.uniform([2, 32, 32, 5]))\n",
    "\n",
    "print(f'Your net_acts are\\n{net_acts.numpy()} and should be')\n",
    "print('''[[0.2328 0.6381 0.1291]\n",
    " [0.2    0.6335 0.1664]]''')"
   ]
  },
  {
   "cell_type": "markdown",
   "id": "d16b8e",
   "metadata": {
    "collapsed": false
   },
   "source": [
    "#### Test: VGG15Plus"
   ]
  },
  {
   "cell_type": "code",
   "execution_count": 84,
   "id": "ca952b",
   "metadata": {
    "collapsed": false
   },
   "outputs": [
    {
     "name": "stdout",
     "output_type": "stream",
     "text": [
      "---------------------------------------------------------------------------\n",
      "Dense layer output(output_layer) shape: [1, 7]\n",
      "DenseBlock1:\n",
      "\tDropout layer output(DenseBlock1/dropout) shape: [1, 512]\n",
      "\tDense layer output(DenseBlock1/dense_0) shape: [1, 512]\n",
      "Flatten layer output(flat) shape: [1, 512]\n",
      "ConvBlock5:\n",
      "\tMaxPool2D layer output(ConvBlock5/maxpool2) shape: [1, 1, 1, 512]\n",
      "\tConv2D layer output(ConvBlock5/conv_2) shape: [1, 2, 2, 512]\n",
      "\tConv2D layer output(ConvBlock5/conv_1) shape: [1, 2, 2, 512]\n",
      "\tConv2D layer output(ConvBlock5/conv_0) shape: [1, 2, 2, 512]\n",
      "ConvBlock4:\n",
      "\tMaxPool2D layer output(ConvBlock4/maxpool2) shape: [1, 2, 2, 512]\n",
      "\tConv2D layer output(ConvBlock4/conv_2) shape: [1, 4, 4, 512]\n",
      "\tConv2D layer output(ConvBlock4/conv_1) shape: [1, 4, 4, 512]\n",
      "\tConv2D layer output(ConvBlock4/conv_0) shape: [1, 4, 4, 512]\n",
      "ConvBlock3:\n",
      "\tMaxPool2D layer output(ConvBlock3/maxpool2) shape: [1, 4, 4, 256]\n",
      "\tConv2D layer output(ConvBlock3/conv_2) shape: [1, 8, 8, 256]\n",
      "\tConv2D layer output(ConvBlock3/conv_1) shape: [1, 8, 8, 256]\n",
      "\tConv2D layer output(ConvBlock3/conv_0) shape: [1, 8, 8, 256]\n",
      "ConvBlock2:\n",
      "\tMaxPool2D layer output(ConvBlock2/maxpool2) shape: [1, 8, 8, 128]\n",
      "\tConv2D layer output(ConvBlock2/conv_1) shape: [1, 16, 16, 128]\n",
      "\tConv2D layer output(ConvBlock2/conv_0) shape: [1, 16, 16, 128]\n",
      "ConvBlock1:\n",
      "\tMaxPool2D layer output(ConvBlock1/maxpool2) shape: [1, 16, 16, 64]\n",
      "\tConv2D layer output(ConvBlock1/conv_1) shape: [1, 32, 32, 64]\n",
      "\tConv2D layer output(ConvBlock1/conv_0) shape: [1, 32, 32, 64]\n",
      "---------------------------------------------------------------------------\n"
     ]
    }
   ],
   "source": [
    "v = VGG15Plus(C=7, input_feats_shape=(32, 32, 3), wt_init='he')\n",
    "v.compile()"
   ]
  },
  {
   "cell_type": "markdown",
   "id": "6c1222",
   "metadata": {
    "collapsed": false
   },
   "source": [
    "The above should print:\n",
    "\n",
    "```\n",
    "---------------------------------------------------------------------------\n",
    "Dense layer output(output) shape: [1, 7]\n",
    "DenseBlock1:\n",
    "\tDropout layer output(DenseBlock1/dropout) shape: [1, 512]\n",
    "\tDense layer output(DenseBlock1/dense0) shape: [1, 512]\n",
    "Flatten layer output(flat) shape: [1, 512]\n",
    "ConvBlock4:\n",
    "\tMaxPool2D layer output(ConvBlock4/maxpool2) shape: [1, 1, 1, 512]\n",
    "\tConv2D layer output(ConvBlock4/conv2) shape: [1, 2, 2, 512]\n",
    "\tConv2D layer output(ConvBlock4/conv1) shape: [1, 2, 2, 512]\n",
    "\tConv2D layer output(ConvBlock4/conv0) shape: [1, 2, 2, 512]\n",
    "ConvBlock3:\n",
    "\tMaxPool2D layer output(ConvBlock3/maxpool2) shape: [1, 2, 2, 512]\n",
    "\tConv2D layer output(ConvBlock3/conv2) shape: [1, 4, 4, 512]\n",
    "\tConv2D layer output(ConvBlock3/conv1) shape: [1, 4, 4, 512]\n",
    "\tConv2D layer output(ConvBlock3/conv0) shape: [1, 4, 4, 512]\n",
    "ConvBlock3:\n",
    "\tMaxPool2D layer output(ConvBlock3/maxpool2) shape: [1, 4, 4, 256]\n",
    "\tConv2D layer output(ConvBlock3/conv2) shape: [1, 8, 8, 256]\n",
    "\tConv2D layer output(ConvBlock3/conv1) shape: [1, 8, 8, 256]\n",
    "\tConv2D layer output(ConvBlock3/conv0) shape: [1, 8, 8, 256]\n",
    "ConvBlock2:\n",
    "\tMaxPool2D layer output(ConvBlock2/maxpool2) shape: [1, 8, 8, 128]\n",
    "\tConv2D layer output(ConvBlock2/conv1) shape: [1, 16, 16, 128]\n",
    "\tConv2D layer output(ConvBlock2/conv0) shape: [1, 16, 16, 128]\n",
    "ConvBlock1:\n",
    "\tMaxPool2D layer output(ConvBlock1/maxpool2) shape: [1, 16, 16, 64]\n",
    "\tConv2D layer output(ConvBlock1/conv1) shape: [1, 32, 32, 64]\n",
    "\tConv2D layer output(ConvBlock1/conv0) shape: [1, 32, 32, 64]\n",
    "---------------------------------------------------------------------------\n",
    "```\n"
   ]
  },
  {
   "cell_type": "code",
   "execution_count": 85,
   "id": "a5b566",
   "metadata": {
    "collapsed": false
   },
   "outputs": [
    {
     "name": "stdout",
     "output_type": "stream",
     "text": [
      "Your net_acts are\n",
      "[[0.0607 0.0949 0.0982 0.0789 0.3175 0.091  0.2587]\n",
      " [0.0693 0.0891 0.0968 0.0766 0.3231 0.0881 0.257 ]] and should be\n",
      "[[0.0607 0.0949 0.0982 0.0789 0.3175 0.091  0.2587]\n",
      " [0.0693 0.0891 0.0968 0.0766 0.3231 0.0881 0.257 ]]\n"
     ]
    }
   ],
   "source": [
    "tf.random.set_seed(0)\n",
    "v = VGG15Plus(C=7, input_feats_shape=(32, 32, 3), wt_init='he')\n",
    "tf.random.set_seed(1)\n",
    "net_acts = v(tf.random.uniform([2, 32, 32, 3]))\n",
    "\n",
    "print(f'Your net_acts are\\n{net_acts.numpy()} and should be')\n",
    "print('''[[0.0607 0.0949 0.0982 0.0789 0.3175 0.091  0.2587]\n",
    " [0.0693 0.0891 0.0968 0.0766 0.3231 0.0881 0.257 ]]''')"
   ]
  },
  {
   "cell_type": "markdown",
   "id": "5aba58",
   "metadata": {
    "collapsed": false
   },
   "source": [
    "#### Test: VGG15PlusPlus"
   ]
  },
  {
   "cell_type": "code",
   "execution_count": 88,
   "id": "311baf",
   "metadata": {
    "collapsed": false
   },
   "outputs": [
    {
     "name": "stdout",
     "output_type": "stream",
     "text": [
      "---------------------------------------------------------------------------\n",
      "Dense layer output(output_layer) shape: [1, 5]\n",
      "DenseBlock1:\n",
      "\tDropout layer output(DenseBlock1/dropout) shape: [1, 512]\n",
      "\tDense layer output(DenseBlock1/dense_0) shape: [1, 512]\n",
      "Flatten layer output(flat) shape: [1, 512]\n",
      "ConvBlock5:\n",
      "\tDropout layer output(ConvBlock5/dropout) shape: [1, 1, 1, 512]\n",
      "\tMaxPool2D layer output(ConvBlock5/maxpool2) shape: [1, 1, 1, 512]\n",
      "\tConv2D layer output(ConvBlock5/conv_2) shape: [1, 2, 2, 512]\n",
      "\tConv2D layer output(ConvBlock5/conv_1) shape: [1, 2, 2, 512]\n",
      "\tConv2D layer output(ConvBlock5/conv_0) shape: [1, 2, 2, 512]\n",
      "ConvBlock4:\n",
      "\tDropout layer output(ConvBlock4/dropout) shape: [1, 2, 2, 512]\n",
      "\tMaxPool2D layer output(ConvBlock4/maxpool2) shape: [1, 2, 2, 512]\n",
      "\tConv2D layer output(ConvBlock4/conv_2) shape: [1, 4, 4, 512]\n",
      "\tConv2D layer output(ConvBlock4/conv_1) shape: [1, 4, 4, 512]\n",
      "\tConv2D layer output(ConvBlock4/conv_0) shape: [1, 4, 4, 512]\n",
      "ConvBlock3:\n",
      "\tDropout layer output(ConvBlock3/dropout) shape: [1, 4, 4, 256]\n",
      "\tMaxPool2D layer output(ConvBlock3/maxpool2) shape: [1, 4, 4, 256]\n",
      "\tConv2D layer output(ConvBlock3/conv_2) shape: [1, 8, 8, 256]\n",
      "\tConv2D layer output(ConvBlock3/conv_1) shape: [1, 8, 8, 256]\n",
      "\tConv2D layer output(ConvBlock3/conv_0) shape: [1, 8, 8, 256]\n",
      "ConvBlock2:\n",
      "\tDropout layer output(ConvBlock2/dropout) shape: [1, 8, 8, 128]\n",
      "\tMaxPool2D layer output(ConvBlock2/maxpool2) shape: [1, 8, 8, 128]\n",
      "\tConv2D layer output(ConvBlock2/conv_1) shape: [1, 16, 16, 128]\n",
      "\tConv2D layer output(ConvBlock2/conv_0) shape: [1, 16, 16, 128]\n",
      "ConvBlock1:\n",
      "\tDropout layer output(ConvBlock1/dropout) shape: [1, 16, 16, 64]\n",
      "\tMaxPool2D layer output(ConvBlock1/maxpool2) shape: [1, 16, 16, 64]\n",
      "\tConv2D layer output(ConvBlock1/conv_1) shape: [1, 32, 32, 64]\n",
      "\tConv2D layer output(ConvBlock1/conv_0) shape: [1, 32, 32, 64]\n",
      "---------------------------------------------------------------------------\n"
     ]
    }
   ],
   "source": [
    "v = VGG15PlusPlus(C=5, input_feats_shape=(32, 32, 3), wt_init='he')\n",
    "v.compile()"
   ]
  },
  {
   "cell_type": "markdown",
   "id": "9eb30e",
   "metadata": {
    "collapsed": false
   },
   "source": [
    "The above should print:\n",
    "\n",
    "```\n",
    "---------------------------------------------------------------------------\n",
    "Dense layer output(output) shape: [1, 5]\n",
    "DenseBlock1:\n",
    "\tDropout layer output(DenseBlock1/dropout) shape: [1, 512]\n",
    "\tDense layer output(DenseBlock1/dense0) shape: [1, 512]\n",
    "Flatten layer output(flat) shape: [1, 512]\n",
    "ConvBlock4:\n",
    "\tDropout layer output(ConvBlock4/dropout) shape: [1, 1, 1, 512]\n",
    "\tMaxPool2D layer output(ConvBlock4/maxpool2) shape: [1, 1, 1, 512]\n",
    "\tConv2D layer output(ConvBlock4/conv2) shape: [1, 2, 2, 512]\n",
    "\tConv2D layer output(ConvBlock4/conv1) shape: [1, 2, 2, 512]\n",
    "\tConv2D layer output(ConvBlock4/conv0) shape: [1, 2, 2, 512]\n",
    "ConvBlock3:\n",
    "\tDropout layer output(ConvBlock3/dropout) shape: [1, 2, 2, 512]\n",
    "\tMaxPool2D layer output(ConvBlock3/maxpool2) shape: [1, 2, 2, 512]\n",
    "\tConv2D layer output(ConvBlock3/conv2) shape: [1, 4, 4, 512]\n",
    "\tConv2D layer output(ConvBlock3/conv1) shape: [1, 4, 4, 512]\n",
    "\tConv2D layer output(ConvBlock3/conv0) shape: [1, 4, 4, 512]\n",
    "ConvBlock3:\n",
    "\tDropout layer output(ConvBlock3/dropout) shape: [1, 4, 4, 256]\n",
    "\tMaxPool2D layer output(ConvBlock3/maxpool2) shape: [1, 4, 4, 256]\n",
    "\tConv2D layer output(ConvBlock3/conv2) shape: [1, 8, 8, 256]\n",
    "\tConv2D layer output(ConvBlock3/conv1) shape: [1, 8, 8, 256]\n",
    "\tConv2D layer output(ConvBlock3/conv0) shape: [1, 8, 8, 256]\n",
    "ConvBlock2:\n",
    "\tDropout layer output(ConvBlock2/dropout) shape: [1, 8, 8, 128]\n",
    "\tMaxPool2D layer output(ConvBlock2/maxpool2) shape: [1, 8, 8, 128]\n",
    "\tConv2D layer output(ConvBlock2/conv1) shape: [1, 16, 16, 128]\n",
    "\tConv2D layer output(ConvBlock2/conv0) shape: [1, 16, 16, 128]\n",
    "ConvBlock1:\n",
    "\tDropout layer output(ConvBlock1/dropout) shape: [1, 16, 16, 64]\n",
    "\tMaxPool2D layer output(ConvBlock1/maxpool2) shape: [1, 16, 16, 64]\n",
    "\tConv2D layer output(ConvBlock1/conv1) shape: [1, 32, 32, 64]\n",
    "\tConv2D layer output(ConvBlock1/conv0) shape: [1, 32, 32, 64]\n",
    "---------------------------------------------------------------------------\n",
    "```\n"
   ]
  },
  {
   "cell_type": "code",
   "execution_count": 89,
   "id": "de53bd",
   "metadata": {
    "collapsed": false
   },
   "outputs": [
    {
     "name": "stdout",
     "output_type": "stream",
     "text": [
      "Your net_acts are\n",
      "[[0.0962 0.2981 0.2029 0.3189 0.0838]\n",
      " [0.0893 0.2785 0.2156 0.3299 0.0868]] and should be\n",
      "[[0.0962 0.2981 0.2029 0.3189 0.0838]\n",
      " [0.0893 0.2785 0.2156 0.3299 0.0868]]\n"
     ]
    }
   ],
   "source": [
    "tf.random.set_seed(0)\n",
    "v = VGG15PlusPlus(C=5, input_feats_shape=(32, 32, 3), wt_init='he')\n",
    "tf.random.set_seed(1)\n",
    "net_acts = v(tf.random.uniform([2, 32, 32, 3]))\n",
    "\n",
    "print(f'Your net_acts are\\n{net_acts.numpy()} and should be')\n",
    "print('''[[0.0962 0.2981 0.2029 0.3189 0.0838]\n",
    " [0.0893 0.2785 0.2156 0.3299 0.0868]]''')"
   ]
  },
  {
   "cell_type": "markdown",
   "id": "07e83d",
   "metadata": {
    "collapsed": false
   },
   "source": [
    "### 9c. Trial run of training VGG4Plus, VGG15Plus, and VGG15PlusPlus on CIFAR-10\n",
    "\n",
    "Load in CIFAR-10 below and train the 3 networks that use batch normalization for `1` epoch. Use the AdamW optimizer and otherwise keep default hyperparameters. Print out the test accuracy after teach training run. You should get (*approximately*):\n",
    "\n",
    "```\n",
    "VGG4Plus test acc: 61.41\n",
    "VGG15Plus test acc: 37.71\n",
    "VGG15PlusPlus test acc: 22.29\n",
    "```\n",
    "\n"
   ]
  },
  {
   "cell_type": "code",
   "execution_count": 3,
   "id": "d6a150",
   "metadata": {
    "collapsed": false
   },
   "outputs": [
    {
     "name": "stdout",
     "output_type": "stream",
     "text": [
      "Downloading data from https://www.cs.toronto.edu/~kriz/cifar-10-python.tar.gz\n"
     ]
    },
    {
     "name": "stdout",
     "output_type": "stream",
     "text": [
      "\r     8192/170498071 [..............................] - ETA: 0s"
     ]
    },
    {
     "name": "stdout",
     "output_type": "stream",
     "text": [
      "\b\b\b\b\b\b\b\b\b\b\b\b\b\b\b\b\b\b\b\b\b\b\b\b\b\b\b\b\b\b\b\b\b\b\b\b\b\b\b\b\b\b\b\b\b\b\b\b\b\b\b\b\b\b\b\b\b\b\b\b\b\b\r    90112/170498071 [..............................] - ETA: 2:15"
     ]
    },
    {
     "name": "stdout",
     "output_type": "stream",
     "text": [
      "\b\b\b\b\b\b\b\b\b\b\b\b\b\b\b\b\b\b\b\b\b\b\b\b\b\b\b\b\b\b\b\b\b\b\b\b\b\b\b\b\b\b\b\b\b\b\b\b\b\b\b\b\b\b\b\b\b\b\b\b\b\b\b\b\r   434176/170498071 [..............................] - ETA: 55s "
     ]
    },
    {
     "name": "stdout",
     "output_type": "stream",
     "text": [
      "\b\b\b\b\b\b\b\b\b\b\b\b\b\b\b\b\b\b\b\b\b\b\b\b\b\b\b\b\b\b\b\b\b\b\b\b\b\b\b\b\b\b\b\b\b\b\b\b\b\b\b\b\b\b\b\b\b\b\b\b\b\b\b\r  1777664/170498071 [..............................] - ETA: 20s"
     ]
    },
    {
     "name": "stdout",
     "output_type": "stream",
     "text": [
      "\b\b\b\b\b\b\b\b\b\b\b\b\b\b\b\b\b\b\b\b\b\b\b\b\b\b\b\b\b\b\b\b\b\b\b\b\b\b\b\b\b\b\b\b\b\b\b\b\b\b\b\b\b\b\b\b\b\b\b\b\b\b\b\r  4743168/170498071 [..............................] - ETA: 9s "
     ]
    },
    {
     "name": "stdout",
     "output_type": "stream",
     "text": [
      "\b\b\b\b\b\b\b\b\b\b\b\b\b\b\b\b\b\b\b\b\b\b\b\b\b\b\b\b\b\b\b\b\b\b\b\b\b\b\b\b\b\b\b\b\b\b\b\b\b\b\b\b\b\b\b\b\b\b\b\b\b\b\r  8585216/170498071 [>.............................] - ETA: 5s"
     ]
    },
    {
     "name": "stdout",
     "output_type": "stream",
     "text": [
      "\b\b\b\b\b\b\b\b\b\b\b\b\b\b\b\b\b\b\b\b\b\b\b\b\b\b\b\b\b\b\b\b\b\b\b\b\b\b\b\b\b\b\b\b\b\b\b\b\b\b\b\b\b\b\b\b\b\b\b\b\b\b\r 12304384/170498071 [=>............................] - ETA: 4s"
     ]
    },
    {
     "name": "stdout",
     "output_type": "stream",
     "text": [
      "\b\b\b\b\b\b\b\b\b\b\b\b\b\b\b\b\b\b\b\b\b\b\b\b\b\b\b\b\b\b\b\b\b\b\b\b\b\b\b\b\b\b\b\b\b\b\b\b\b\b\b\b\b\b\b\b\b\b\b\b\b\b\r 16113664/170498071 [=>............................] - ETA: 3s"
     ]
    },
    {
     "name": "stdout",
     "output_type": "stream",
     "text": [
      "\b\b\b\b\b\b\b\b\b\b\b\b\b\b\b\b\b\b\b\b\b\b\b\b\b\b\b\b\b\b\b\b\b\b\b\b\b\b\b\b\b\b\b\b\b\b\b\b\b\b\b\b\b\b\b\b\b\b\b\b\b\b\r 19947520/170498071 [==>...........................] - ETA: 3s"
     ]
    },
    {
     "name": "stdout",
     "output_type": "stream",
     "text": [
      "\b\b\b\b\b\b\b\b\b\b\b\b\b\b\b\b\b\b\b\b\b\b\b\b\b\b\b\b\b\b\b\b\b\b\b\b\b\b\b\b\b\b\b\b\b\b\b\b\b\b\b\b\b\b\b\b\b\b\b\b\b\b\r 24141824/170498071 [===>..........................] - ETA: 3s"
     ]
    },
    {
     "name": "stdout",
     "output_type": "stream",
     "text": [
      "\b\b\b\b\b\b\b\b\b\b\b\b\b\b\b\b\b\b\b\b\b\b\b\b\b\b\b\b\b\b\b\b\b\b\b\b\b\b\b\b\b\b\b\b\b\b\b\b\b\b\b\b\b\b\b\b\b\b\b\b\b\b\r 27959296/170498071 [===>..........................] - ETA: 2s"
     ]
    },
    {
     "name": "stdout",
     "output_type": "stream",
     "text": [
      "\b\b\b\b\b\b\b\b\b\b\b\b\b\b\b\b\b\b\b\b\b\b\b\b\b\b\b\b\b\b\b\b\b\b\b\b\b\b\b\b\b\b\b\b\b\b\b\b\b\b\b\b\b\b\b\b\b\b\b\b\b\b\r 31744000/170498071 [====>.........................] - ETA: 2s"
     ]
    },
    {
     "name": "stdout",
     "output_type": "stream",
     "text": [
      "\b\b\b\b\b\b\b\b\b\b\b\b\b\b\b\b\b\b\b\b\b\b\b\b\b\b\b\b\b\b\b\b\b\b\b\b\b\b\b\b\b\b\b\b\b\b\b\b\b\b\b\b\b\b\b\b\b\b\b\b\b\b\r 35872768/170498071 [=====>........................] - ETA: 2s"
     ]
    },
    {
     "name": "stdout",
     "output_type": "stream",
     "text": [
      "\b\b\b\b\b\b\b\b\b\b\b\b\b\b\b\b\b\b\b\b\b\b\b\b\b\b\b\b\b\b\b\b\b\b\b\b\b\b\b\b\b\b\b\b\b\b\b\b\b\b\b\b\b\b\b\b\b\b\b\b\b\b\r 39763968/170498071 [=====>........................] - ETA: 2s"
     ]
    },
    {
     "name": "stdout",
     "output_type": "stream",
     "text": [
      "\b\b\b\b\b\b\b\b\b\b\b\b\b\b\b\b\b\b\b\b\b\b\b\b\b\b\b\b\b\b\b\b\b\b\b\b\b\b\b\b\b\b\b\b\b\b\b\b\b\b\b\b\b\b\b\b\b\b\b\b\b\b\r 43753472/170498071 [======>.......................] - ETA: 2s"
     ]
    },
    {
     "name": "stdout",
     "output_type": "stream",
     "text": [
      "\b\b\b\b\b\b\b\b\b\b\b\b\b\b\b\b\b\b\b\b\b\b\b\b\b\b\b\b\b\b\b\b\b\b\b\b\b\b\b\b\b\b\b\b\b\b\b\b\b\b\b\b\b\b\b\b\b\b\b\b\b\b\r 47611904/170498071 [=======>......................] - ETA: 2s"
     ]
    },
    {
     "name": "stdout",
     "output_type": "stream",
     "text": [
      "\b\b\b\b\b\b\b\b\b\b\b\b\b\b\b\b\b\b\b\b\b\b\b\b\b\b\b\b\b\b\b\b\b\b\b\b\b\b\b\b\b\b\b\b\b\b\b\b\b\b\b\b\b\b\b\b\b\b\b\b\b\b\r 51814400/170498071 [========>.....................] - ETA: 1s"
     ]
    },
    {
     "name": "stdout",
     "output_type": "stream",
     "text": [
      "\b\b\b\b\b\b\b\b\b\b\b\b\b\b\b\b\b\b\b\b\b\b\b\b\b\b\b\b\b\b\b\b\b\b\b\b\b\b\b\b\b\b\b\b\b\b\b\b\b\b\b\b\b\b\b\b\b\b\b\b\b\b\r 55607296/170498071 [========>.....................] - ETA: 1s"
     ]
    },
    {
     "name": "stdout",
     "output_type": "stream",
     "text": [
      "\b\b\b\b\b\b\b\b\b\b\b\b\b\b\b\b\b\b\b\b\b\b\b\b\b\b\b\b\b\b\b\b\b\b\b\b\b\b\b\b\b\b\b\b\b\b\b\b\b\b\b\b\b\b\b\b\b\b\b\b\b\b\r 59564032/170498071 [=========>....................] - ETA: 1s"
     ]
    },
    {
     "name": "stdout",
     "output_type": "stream",
     "text": [
      "\b\b\b\b\b\b\b\b\b\b\b\b\b\b\b\b\b\b\b\b\b\b\b\b\b\b\b\b\b\b\b\b\b\b\b\b\b\b\b\b\b\b\b\b\b\b\b\b\b\b\b\b\b\b\b\b\b\b\b\b\b\b\r 63471616/170498071 [==========>...................] - ETA: 1s"
     ]
    },
    {
     "name": "stdout",
     "output_type": "stream",
     "text": [
      "\b\b\b\b\b\b\b\b\b\b\b\b\b\b\b\b\b\b\b\b\b\b\b\b\b\b\b\b\b\b\b\b\b\b\b\b\b\b\b\b\b\b\b\b\b\b\b\b\b\b\b\b\b\b\b\b\b\b\b\b\b\b\r 67493888/170498071 [==========>...................] - ETA: 1s"
     ]
    },
    {
     "name": "stdout",
     "output_type": "stream",
     "text": [
      "\b\b\b\b\b\b\b\b\b\b\b\b\b\b\b\b\b\b\b\b\b\b\b\b\b\b\b\b\b\b\b\b\b\b\b\b\b\b\b\b\b\b\b\b\b\b\b\b\b\b\b\b\b\b\b\b\b\b\b\b\b\b\r 71409664/170498071 [===========>..................] - ETA: 1s"
     ]
    },
    {
     "name": "stdout",
     "output_type": "stream",
     "text": [
      "\b\b\b\b\b\b\b\b\b\b\b\b\b\b\b\b\b\b\b\b\b\b\b\b\b\b\b\b\b\b\b\b\b\b\b\b\b\b\b\b\b\b\b\b\b\b\b\b\b\b\b\b\b\b\b\b\b\b\b\b\b\b\r 75161600/170498071 [============>.................] - ETA: 1s"
     ]
    },
    {
     "name": "stdout",
     "output_type": "stream",
     "text": [
      "\b\b\b\b\b\b\b\b\b\b\b\b\b\b\b\b\b\b\b\b\b\b\b\b\b\b\b\b\b\b\b\b\b\b\b\b\b\b\b\b\b\b\b\b\b\b\b\b\b\b\b\b\b\b\b\b\b\b\b\b\b\b\r 79331328/170498071 [============>.................] - ETA: 1s"
     ]
    },
    {
     "name": "stdout",
     "output_type": "stream",
     "text": [
      "\b\b\b\b\b\b\b\b\b\b\b\b\b\b\b\b\b\b\b\b\b\b\b\b\b\b\b\b\b\b\b\b\b\b\b\b\b\b\b\b\b\b\b\b\b\b\b\b\b\b\b\b\b\b\b\b\b\b\b\b\b\b\r 83066880/170498071 [=============>................] - ETA: 1s"
     ]
    },
    {
     "name": "stdout",
     "output_type": "stream",
     "text": [
      "\b\b\b\b\b\b\b\b\b\b\b\b\b\b\b\b\b\b\b\b\b\b\b\b\b\b\b\b\b\b\b\b\b\b\b\b\b\b\b\b\b\b\b\b\b\b\b\b\b\b\b\b\b\b\b\b\b\b\b\b\b\b\r 87244800/170498071 [==============>...............] - ETA: 1s"
     ]
    },
    {
     "name": "stdout",
     "output_type": "stream",
     "text": [
      "\b\b\b\b\b\b\b\b\b\b\b\b\b\b\b\b\b\b\b\b\b\b\b\b\b\b\b\b\b\b\b\b\b\b\b\b\b\b\b\b\b\b\b\b\b\b\b\b\b\b\b\b\b\b\b\b\b\b\b\b\b\b\r 91168768/170498071 [===============>..............] - ETA: 1s"
     ]
    },
    {
     "name": "stdout",
     "output_type": "stream",
     "text": [
      "\b\b\b\b\b\b\b\b\b\b\b\b\b\b\b\b\b\b\b\b\b\b\b\b\b\b\b\b\b\b\b\b\b\b\b\b\b\b\b\b\b\b\b\b\b\b\b\b\b\b\b\b\b\b\b\b\b\b\b\b\b\b\r 95313920/170498071 [===============>..............] - ETA: 1s"
     ]
    },
    {
     "name": "stdout",
     "output_type": "stream",
     "text": [
      "\b\b\b\b\b\b\b\b\b\b\b\b\b\b\b\b\b\b\b\b\b\b\b\b\b\b\b\b\b\b\b\b\b\b\b\b\b\b\b\b\b\b\b\b\b\b\b\b\b\b\b\b\b\b\b\b\b\b\b\b\b\b\r 99221504/170498071 [================>.............] - ETA: 1s"
     ]
    },
    {
     "name": "stdout",
     "output_type": "stream",
     "text": [
      "\b\b\b\b\b\b\b\b\b\b\b\b\b\b\b\b\b\b\b\b\b\b\b\b\b\b\b\b\b\b\b\b\b\b\b\b\b\b\b\b\b\b\b\b\b\b\b\b\b\b\b\b\b\b\b\b\b\b\b\b\b\b\r103481344/170498071 [=================>............] - ETA: 0s"
     ]
    },
    {
     "name": "stdout",
     "output_type": "stream",
     "text": [
      "\b\b\b\b\b\b\b\b\b\b\b\b\b\b\b\b\b\b\b\b\b\b\b\b\b\b\b\b\b\b\b\b\b\b\b\b\b\b\b\b\b\b\b\b\b\b\b\b\b\b\b\b\b\b\b\b\b\b\b\b\b\b\r107307008/170498071 [=================>............] - ETA: 0s"
     ]
    },
    {
     "name": "stdout",
     "output_type": "stream",
     "text": [
      "\b\b\b\b\b\b\b\b\b\b\b\b\b\b\b\b\b\b\b\b\b\b\b\b\b\b\b\b\b\b\b\b\b\b\b\b\b\b\b\b\b\b\b\b\b\b\b\b\b\b\b\b\b\b\b\b\b\b\b\b\b\b\r111583232/170498071 [==================>...........] - ETA: 0s"
     ]
    },
    {
     "name": "stdout",
     "output_type": "stream",
     "text": [
      "\b\b\b\b\b\b\b\b\b\b\b\b\b\b\b\b\b\b\b\b\b\b\b\b\b\b\b\b\b\b\b\b\b\b\b\b\b\b\b\b\b\b\b\b\b\b\b\b\b\b\b\b\b\b\b\b\b\b\b\b\b\b\r115564544/170498071 [===================>..........] - ETA: 0s"
     ]
    },
    {
     "name": "stdout",
     "output_type": "stream",
     "text": [
      "\b\b\b\b\b\b\b\b\b\b\b\b\b\b\b\b\b\b\b\b\b\b\b\b\b\b\b\b\b\b\b\b\b\b\b\b\b\b\b\b\b\b\b\b\b\b\b\b\b\b\b\b\b\b\b\b\b\b\b\b\b\b\r119644160/170498071 [====================>.........] - ETA: 0s"
     ]
    },
    {
     "name": "stdout",
     "output_type": "stream",
     "text": [
      "\b\b\b\b\b\b\b\b\b\b\b\b\b\b\b\b\b\b\b\b\b\b\b\b\b\b\b\b\b\b\b\b\b\b\b\b\b\b\b\b\b\b\b\b\b\b\b\b\b\b\b\b\b\b\b\b\b\b\b\b\b\b\r124026880/170498071 [====================>.........] - ETA: 0s"
     ]
    },
    {
     "name": "stdout",
     "output_type": "stream",
     "text": [
      "\b\b\b\b\b\b\b\b\b\b\b\b\b\b\b\b\b\b\b\b\b\b\b\b\b\b\b\b\b\b\b\b\b\b\b\b\b\b\b\b\b\b\b\b\b\b\b\b\b\b\b\b\b\b\b\b\b\b\b\b\b\b\r127582208/170498071 [=====================>........] - ETA: 0s"
     ]
    },
    {
     "name": "stdout",
     "output_type": "stream",
     "text": [
      "\b\b\b\b\b\b\b\b\b\b\b\b\b\b\b\b\b\b\b\b\b\b\b\b\b\b\b\b\b\b\b\b\b\b\b\b\b\b\b\b\b\b\b\b\b\b\b\b\b\b\b\b\b\b\b\b\b\b\b\b\b\b\r131612672/170498071 [======================>.......] - ETA: 0s"
     ]
    },
    {
     "name": "stdout",
     "output_type": "stream",
     "text": [
      "\b\b\b\b\b\b\b\b\b\b\b\b\b\b\b\b\b\b\b\b\b\b\b\b\b\b\b\b\b\b\b\b\b\b\b\b\b\b\b\b\b\b\b\b\b\b\b\b\b\b\b\b\b\b\b\b\b\b\b\b\b\b\r135618560/170498071 [======================>.......] - ETA: 0s"
     ]
    },
    {
     "name": "stdout",
     "output_type": "stream",
     "text": [
      "\b\b\b\b\b\b\b\b\b\b\b\b\b\b\b\b\b\b\b\b\b\b\b\b\b\b\b\b\b\b\b\b\b\b\b\b\b\b\b\b\b\b\b\b\b\b\b\b\b\b\b\b\b\b\b\b\b\b\b\b\b\b\r139567104/170498071 [=======================>......] - ETA: 0s"
     ]
    },
    {
     "name": "stdout",
     "output_type": "stream",
     "text": [
      "\b\b\b\b\b\b\b\b\b\b\b\b\b\b\b\b\b\b\b\b\b\b\b\b\b\b\b\b\b\b\b\b\b\b\b\b\b\b\b\b\b\b\b\b\b\b\b\b\b\b\b\b\b\b\b\b\b\b\b\b\b\b\r143155200/170498071 [========================>.....] - ETA: 0s"
     ]
    },
    {
     "name": "stdout",
     "output_type": "stream",
     "text": [
      "\b\b\b\b\b\b\b\b\b\b\b\b\b\b\b\b\b\b\b\b\b\b\b\b\b\b\b\b\b\b\b\b\b\b\b\b\b\b\b\b\b\b\b\b\b\b\b\b\b\b\b\b\b\b\b\b\b\b\b\b\b\b\r147472384/170498071 [========================>.....] - ETA: 0s"
     ]
    },
    {
     "name": "stdout",
     "output_type": "stream",
     "text": [
      "\b\b\b\b\b\b\b\b\b\b\b\b\b\b\b\b\b\b\b\b\b\b\b\b\b\b\b\b\b\b\b\b\b\b\b\b\b\b\b\b\b\b\b\b\b\b\b\b\b\b\b\b\b\b\b\b\b\b\b\b\b\b\r151216128/170498071 [=========================>....] - ETA: 0s"
     ]
    },
    {
     "name": "stdout",
     "output_type": "stream",
     "text": [
      "\b\b\b\b\b\b\b\b\b\b\b\b\b\b\b\b\b\b\b\b\b\b\b\b\b\b\b\b\b\b\b\b\b\b\b\b\b\b\b\b\b\b\b\b\b\b\b\b\b\b\b\b\b\b\b\b\b\b\b\b\b\b\r155508736/170498071 [==========================>...] - ETA: 0s"
     ]
    },
    {
     "name": "stdout",
     "output_type": "stream",
     "text": [
      "\b\b\b\b\b\b\b\b\b\b\b\b\b\b\b\b\b\b\b\b\b\b\b\b\b\b\b\b\b\b\b\b\b\b\b\b\b\b\b\b\b\b\b\b\b\b\b\b\b\b\b\b\b\b\b\b\b\b\b\b\b\b\r159031296/170498071 [==========================>...] - ETA: 0s"
     ]
    },
    {
     "name": "stdout",
     "output_type": "stream",
     "text": [
      "\b\b\b\b\b\b\b\b\b\b\b\b\b\b\b\b\b\b\b\b\b\b\b\b\b\b\b\b\b\b\b\b\b\b\b\b\b\b\b\b\b\b\b\b\b\b\b\b\b\b\b\b\b\b\b\b\b\b\b\b\b\b\r162193408/170498071 [===========================>..] - ETA: 0s"
     ]
    },
    {
     "name": "stdout",
     "output_type": "stream",
     "text": [
      "\b\b\b\b\b\b\b\b\b\b\b\b\b\b\b\b\b\b\b\b\b\b\b\b\b\b\b\b\b\b\b\b\b\b\b\b\b\b\b\b\b\b\b\b\b\b\b\b\b\b\b\b\b\b\b\b\b\b\b\b\b\b\r165363712/170498071 [============================>.] - ETA: 0s"
     ]
    },
    {
     "name": "stdout",
     "output_type": "stream",
     "text": [
      "\b\b\b\b\b\b\b\b\b\b\b\b\b\b\b\b\b\b\b\b\b\b\b\b\b\b\b\b\b\b\b\b\b\b\b\b\b\b\b\b\b\b\b\b\b\b\b\b\b\b\b\b\b\b\b\b\b\b\b\b\b\b\r169148416/170498071 [============================>.] - ETA: 0s"
     ]
    },
    {
     "name": "stdout",
     "output_type": "stream",
     "text": [
      "\b\b\b\b\b\b\b\b\b\b\b\b\b\b\b\b\b\b\b\b\b\b\b\b\b\b\b\b\b\b\b\b\b\b\b\b\b\b\b\b\b\b\b\b\b\b\b\b\b\b\b\b\b\b\b\b\b\b\b\b\b\b\r170498071/170498071 [==============================] - 2s 0us/step\n"
     ]
    },
    {
     "name": "stderr",
     "output_type": "stream",
     "text": [
      "2025-03-05 02:05:01.375267: I tensorflow/core/common_runtime/gpu/gpu_device.cc:1928] Created device /job:localhost/replica:0/task:0/device:GPU:0 with 20601 MB memory:  -> device: 0, name: NVIDIA L4, pci bus id: 0000:00:03.0, compute capability: 8.9\n"
     ]
    },
    {
     "name": "stderr",
     "output_type": "stream",
     "text": [
      "2025-03-05 02:05:08.636694: I external/local_xla/xla/stream_executor/cuda/cuda_dnn.cc:465] Loaded cuDNN version 90400\n"
     ]
    },
    {
     "name": "stdout",
     "output_type": "stream",
     "text": [
      "---------------------------------------------------------------------------\n",
      "Dense layer output(output) shape: [1, 10]\n",
      "Dropout layer output(dropout1) shape: [1, 128]\n",
      "Dense layer output(dense1) shape: [1, 128]\n",
      "Flatten layer output(flat) shape: [1, 16384]\n",
      "MaxPool2D layer output(maxpool1) shape: [1, 16, 16, 64]\n",
      "Conv2D layer output(conv2) shape: [1, 32, 32, 64]\n",
      "Conv2D layer output(conv1) shape: [1, 32, 32, 64]\n",
      "---------------------------------------------------------------------------\n"
     ]
    },
    {
     "name": "stderr",
     "output_type": "stream",
     "text": [
      "WARNING: All log messages before absl::InitializeLog() is called are written to STDERR\n",
      "I0000 00:00:1741140318.025222     521 service.cc:145] XLA service 0x629168987fe0 initialized for platform CUDA (this does not guarantee that XLA will be used). Devices:\n",
      "I0000 00:00:1741140318.025261     521 service.cc:153]   StreamExecutor device (0): NVIDIA L4, Compute Capability 8.9\n"
     ]
    },
    {
     "name": "stderr",
     "output_type": "stream",
     "text": [
      "2025-03-05 02:05:18.243659: I tensorflow/compiler/mlir/tensorflow/utils/dump_mlir_util.cc:268] disabling MLIR crash reproducer, set env var `MLIR_CRASH_REPRODUCER_DIRECTORY` to enable.\n",
      "W0000 00:00:1741140318.428397     521 random_ops.cc:59] Warning: Using tf.random.uniform with XLA compilation will ignore seeds; consider using tf.random.stateless_uniform instead if reproducible behavior is desired. cond/random_uniform/RandomUniform\n"
     ]
    },
    {
     "name": "stderr",
     "output_type": "stream",
     "text": [
      "I0000 00:00:1741140321.683987     521 device_compiler.h:188] Compiled cluster using XLA!  This line is logged at most once for the lifetime of the process.\n"
     ]
    },
    {
     "name": "stdout",
     "output_type": "stream",
     "text": [
      "Epoch 1: Training Loss = 1.7763, Validation Loss = 1.2577, Validation Accuracy = 0.5603\n",
      "Epoch 1/1 took 10.0845 seconds\n",
      "Finished training after 1 epochs!\n"
     ]
    },
    {
     "name": "stdout",
     "output_type": "stream",
     "text": [
      "VGG4Plus (Test Acc: 55.45%)\n"
     ]
    }
   ],
   "source": [
    "from datasets import get_dataset\n",
    "# Load CIFAR-10\n",
    "x_train, y_train, x_val, y_val, x_test, y_test, classnames = get_dataset(\"cifar10\")\n",
    "\n",
    "tf.keras.backend.clear_session()\n",
    "tf.random.set_seed(0)\n",
    "\n",
    "model = VGG4Plus(10, (32, 32, 3))\n",
    "model.compile(optimizer='adamw')\n",
    "train_loss_hist, val_loss_hist, val_acc_hist, num_epochs = model.fit(x_train, y_train, x_val, y_val, max_epochs=1)\n",
    "test_acc = model.evaluate(x_test, y_test)[0]\n",
    "print(f'VGG4Plus (Test Acc: {test_acc * 100:.2f}%)')"
   ]
  },
  {
   "cell_type": "code",
   "execution_count": 6,
   "id": "993ee1",
   "metadata": {
    "collapsed": false
   },
   "outputs": [
    {
     "name": "stdout",
     "output_type": "stream",
     "text": [
      "---------------------------------------------------------------------------\n",
      "Dense layer output(output_layer) shape: [1, 10]\n",
      "DenseBlock1:\n",
      "\tDropout layer output(DenseBlock1/dropout) shape: [1, 512]\n",
      "\tDense layer output(DenseBlock1/dense_0) shape: [1, 512]\n",
      "Flatten layer output(flat) shape: [1, 512]\n",
      "ConvBlock5:\n",
      "\tMaxPool2D layer output(ConvBlock5/maxpool2) shape: [1, 1, 1, 512]\n",
      "\tConv2D layer output(ConvBlock5/conv_2) shape: [1, 2, 2, 512]\n",
      "\tConv2D layer output(ConvBlock5/conv_1) shape: [1, 2, 2, 512]\n",
      "\tConv2D layer output(ConvBlock5/conv_0) shape: [1, 2, 2, 512]\n",
      "ConvBlock4:\n",
      "\tMaxPool2D layer output(ConvBlock4/maxpool2) shape: [1, 2, 2, 512]\n",
      "\tConv2D layer output(ConvBlock4/conv_2) shape: [1, 4, 4, 512]\n",
      "\tConv2D layer output(ConvBlock4/conv_1) shape: [1, 4, 4, 512]\n",
      "\tConv2D layer output(ConvBlock4/conv_0) shape: [1, 4, 4, 512]\n",
      "ConvBlock3:\n",
      "\tMaxPool2D layer output(ConvBlock3/maxpool2) shape: [1, 4, 4, 256]\n",
      "\tConv2D layer output(ConvBlock3/conv_2) shape: [1, 8, 8, 256]\n",
      "\tConv2D layer output(ConvBlock3/conv_1) shape: [1, 8, 8, 256]\n",
      "\tConv2D layer output(ConvBlock3/conv_0) shape: [1, 8, 8, 256]\n",
      "ConvBlock2:\n",
      "\tMaxPool2D layer output(ConvBlock2/maxpool2) shape: [1, 8, 8, 128]\n",
      "\tConv2D layer output(ConvBlock2/conv_1) shape: [1, 16, 16, 128]\n",
      "\tConv2D layer output(ConvBlock2/conv_0) shape: [1, 16, 16, 128]\n",
      "ConvBlock1:\n",
      "\tMaxPool2D layer output(ConvBlock1/maxpool2) shape: [1, 16, 16, 64]\n",
      "\tConv2D layer output(ConvBlock1/conv_1) shape: [1, 32, 32, 64]\n",
      "\tConv2D layer output(ConvBlock1/conv_0) shape: [1, 32, 32, 64]\n",
      "---------------------------------------------------------------------------\n"
     ]
    },
    {
     "name": "stdout",
     "output_type": "stream",
     "text": [
      "Epoch 1: Training Loss = 1.9569, Validation Loss = 1.6394, Validation Accuracy = 0.3620\n",
      "Epoch 1/1 took 15.0718 seconds\n",
      "Finished training after 1 epochs!\n"
     ]
    },
    {
     "name": "stdout",
     "output_type": "stream",
     "text": [
      "VGG15Plus (Test Acc: 35.00%)\n"
     ]
    }
   ],
   "source": [
    "tf.keras.backend.clear_session()\n",
    "tf.random.set_seed(0)\n",
    "\n",
    "model = VGG15Plus(10, (32, 32, 3))\n",
    "model.compile(optimizer='adamw')\n",
    "train_loss_hist, val_loss_hist, val_acc_hist, num_epochs = model.fit(x_train, y_train, x_val, y_val, max_epochs=1)\n",
    "test_acc = model.evaluate(x_test, y_test)[0]\n",
    "print(f'VGG15Plus (Test Acc: {test_acc * 100:.2f}%)')"
   ]
  },
  {
   "cell_type": "code",
   "execution_count": 5,
   "id": "9c810c",
   "metadata": {
    "collapsed": false
   },
   "outputs": [
    {
     "name": "stdout",
     "output_type": "stream",
     "text": [
      "---------------------------------------------------------------------------\n",
      "Dense layer output(output_layer) shape: [1, 10]\n",
      "DenseBlock1:\n",
      "\tDropout layer output(DenseBlock1/dropout) shape: [1, 512]\n",
      "\tDense layer output(DenseBlock1/dense_0) shape: [1, 512]\n",
      "Flatten layer output(flat) shape: [1, 512]\n",
      "ConvBlock5:\n",
      "\tDropout layer output(ConvBlock5/dropout) shape: [1, 1, 1, 512]\n",
      "\tMaxPool2D layer output(ConvBlock5/maxpool2) shape: [1, 1, 1, 512]\n",
      "\tConv2D layer output(ConvBlock5/conv_2) shape: [1, 2, 2, 512]\n",
      "\tConv2D layer output(ConvBlock5/conv_1) shape: [1, 2, 2, 512]\n",
      "\tConv2D layer output(ConvBlock5/conv_0) shape: [1, 2, 2, 512]\n",
      "ConvBlock4:\n",
      "\tDropout layer output(ConvBlock4/dropout) shape: [1, 2, 2, 512]\n",
      "\tMaxPool2D layer output(ConvBlock4/maxpool2) shape: [1, 2, 2, 512]\n",
      "\tConv2D layer output(ConvBlock4/conv_2) shape: [1, 4, 4, 512]\n",
      "\tConv2D layer output(ConvBlock4/conv_1) shape: [1, 4, 4, 512]\n",
      "\tConv2D layer output(ConvBlock4/conv_0) shape: [1, 4, 4, 512]\n",
      "ConvBlock3:\n",
      "\tDropout layer output(ConvBlock3/dropout) shape: [1, 4, 4, 256]\n",
      "\tMaxPool2D layer output(ConvBlock3/maxpool2) shape: [1, 4, 4, 256]\n",
      "\tConv2D layer output(ConvBlock3/conv_2) shape: [1, 8, 8, 256]\n",
      "\tConv2D layer output(ConvBlock3/conv_1) shape: [1, 8, 8, 256]\n",
      "\tConv2D layer output(ConvBlock3/conv_0) shape: [1, 8, 8, 256]\n",
      "ConvBlock2:\n",
      "\tDropout layer output(ConvBlock2/dropout) shape: [1, 8, 8, 128]\n",
      "\tMaxPool2D layer output(ConvBlock2/maxpool2) shape: [1, 8, 8, 128]\n",
      "\tConv2D layer output(ConvBlock2/conv_1) shape: [1, 16, 16, 128]\n",
      "\tConv2D layer output(ConvBlock2/conv_0) shape: [1, 16, 16, 128]\n",
      "ConvBlock1:\n",
      "\tDropout layer output(ConvBlock1/dropout) shape: [1, 16, 16, 64]\n",
      "\tMaxPool2D layer output(ConvBlock1/maxpool2) shape: [1, 16, 16, 64]\n",
      "\tConv2D layer output(ConvBlock1/conv_1) shape: [1, 32, 32, 64]\n",
      "\tConv2D layer output(ConvBlock1/conv_0) shape: [1, 32, 32, 64]\n",
      "---------------------------------------------------------------------------\n"
     ]
    },
    {
     "name": "stdout",
     "output_type": "stream",
     "text": [
      "Epoch 1: Training Loss = 2.0790, Validation Loss = 1.8879, Validation Accuracy = 0.2288\n",
      "Epoch 1/1 took 18.3918 seconds\n",
      "Finished training after 1 epochs!\n"
     ]
    },
    {
     "name": "stdout",
     "output_type": "stream",
     "text": [
      "VGG15PlusPlus (Test Acc: 22.46%)\n"
     ]
    }
   ],
   "source": [
    "tf.keras.backend.clear_session()\n",
    "tf.random.set_seed(0)\n",
    "\n",
    "model = VGG15PlusPlus(10, (32, 32, 3))\n",
    "model.compile(optimizer='adamw')\n",
    "train_loss_hist, val_loss_hist, val_acc_hist, num_epochs = model.fit(x_train, y_train, x_val, y_val, max_epochs=1)\n",
    "test_acc = model.evaluate(x_test, y_test)[0]\n",
    "print(f'VGG15PlusPlus (Test Acc: {test_acc * 100:.2f}%)')"
   ]
  },
  {
   "cell_type": "markdown",
   "id": "29ecff",
   "metadata": {
    "collapsed": false
   },
   "source": [
    "### 9d. Train VGG4Plus, VGG15Plus, and VGG15PlusPlus on CIFAR-10\n",
    "\n",
    "Now that the networks have been tested, do a full training session with the following networks on CIFAR-10:\n",
    "- VGG4Plus\n",
    "- VGG15\n",
    "- VGG15Plus\n",
    "- VGG15PlusPlus\n",
    "\n",
    "Use default hyperparameters except:\n",
    "- Use AdamW optimizer.\n",
    "- Use He initialization\n",
    "- Use a patience of `4`. *If your earlier early stopping test did not end in the same number of epochs as the test code, you might want to try a patience of 5 or 6.*\n",
    "\n",
    "After training each net, store/record:\n",
    "1. the network's final test accuracy.\n",
    "2. the history of training loss (averaged across mini-batches, so one per epoch).\n",
    "3. the history of validation loss (checked every epoch).\n",
    "4. the history of validation accuracy (checked every epoch).\n",
    "\n",
    "**Notes:**\n",
    "- Set random seed before creating each net for consistency.\n",
    "- Use `tf.keras.backend.clear_session()` before creating each of the network to help prevent the memory used from growing.\n",
    "\n",
    "Training these networks should take ~30 minutes."
   ]
  },
  {
   "cell_type": "code",
   "execution_count": 7,
   "id": "d86881",
   "metadata": {
    "collapsed": false
   },
   "outputs": [],
   "source": [
    "from vgg_nets import VGG15"
   ]
  },
  {
   "cell_type": "code",
   "execution_count": 8,
   "id": "7c0027",
   "metadata": {
    "collapsed": false
   },
   "outputs": [
    {
     "name": "stdout",
     "output_type": "stream",
     "text": [
      "---------------------------------------------------------------------------\n",
      "Dense layer output(output) shape: [1, 10]\n",
      "Dropout layer output(dropout1) shape: [1, 128]\n",
      "Dense layer output(dense1) shape: [1, 128]\n",
      "Flatten layer output(flat) shape: [1, 16384]\n",
      "MaxPool2D layer output(maxpool1) shape: [1, 16, 16, 64]\n",
      "Conv2D layer output(conv2) shape: [1, 32, 32, 64]\n",
      "Conv2D layer output(conv1) shape: [1, 32, 32, 64]\n",
      "---------------------------------------------------------------------------\n"
     ]
    },
    {
     "name": "stdout",
     "output_type": "stream",
     "text": [
      "Epoch 1: Training Loss = 1.8439, Validation Loss = 1.3083, Validation Accuracy = 0.5357\n",
      "Epoch 1/1000 took 4.9705 seconds\n"
     ]
    },
    {
     "name": "stdout",
     "output_type": "stream",
     "text": [
      "Epoch 2: Training Loss = 1.3734, Validation Loss = 1.1119, Validation Accuracy = 0.6046\n",
      "Epoch 2/1000 took 2.1360 seconds\n"
     ]
    },
    {
     "name": "stdout",
     "output_type": "stream",
     "text": [
      "Epoch 3: Training Loss = 1.2173, Validation Loss = 1.0570, Validation Accuracy = 0.6404\n",
      "Epoch 3/1000 took 2.0332 seconds\n"
     ]
    },
    {
     "name": "stdout",
     "output_type": "stream",
     "text": [
      "Epoch 4: Training Loss = 1.1200, Validation Loss = 1.0001, Validation Accuracy = 0.6514\n",
      "Epoch 4/1000 took 2.0182 seconds\n"
     ]
    },
    {
     "name": "stdout",
     "output_type": "stream",
     "text": [
      "Epoch 5: Training Loss = 1.0384, Validation Loss = 0.9728, Validation Accuracy = 0.6655\n",
      "Epoch 5/1000 took 2.0308 seconds\n"
     ]
    },
    {
     "name": "stdout",
     "output_type": "stream",
     "text": [
      "Epoch 6: Training Loss = 0.9602, Validation Loss = 0.9605, Validation Accuracy = 0.6747\n",
      "Epoch 6/1000 took 2.0283 seconds\n"
     ]
    },
    {
     "name": "stdout",
     "output_type": "stream",
     "text": [
      "Epoch 7: Training Loss = 0.8988, Validation Loss = 0.9754, Validation Accuracy = 0.6735\n",
      "Epoch 7/1000 took 2.1241 seconds\n"
     ]
    },
    {
     "name": "stdout",
     "output_type": "stream",
     "text": [
      "Epoch 8: Training Loss = 0.8258, Validation Loss = 0.9827, Validation Accuracy = 0.6731\n",
      "Epoch 8/1000 took 2.0806 seconds\n"
     ]
    },
    {
     "name": "stdout",
     "output_type": "stream",
     "text": [
      "Epoch 9: Training Loss = 0.7787, Validation Loss = 0.9924, Validation Accuracy = 0.6755\n",
      "Early stopping triggered at epoch 9\n",
      "Finished training after 9 epochs!\n"
     ]
    },
    {
     "name": "stdout",
     "output_type": "stream",
     "text": [
      "---------------------------------------------------------------------------\n",
      "Dense layer output(output_layer) shape: [1, 10]\n",
      "DenseBlock1:\n",
      "\tDropout layer output(DenseBlock1/dropout) shape: [1, 512]\n",
      "\tDense layer output(DenseBlock1/dense_0) shape: [1, 512]\n",
      "Flatten layer output(flat) shape: [1, 512]\n",
      "ConvBlock5:\n",
      "\tMaxPool2D layer output(ConvBlock5/maxpool2) shape: [1, 1, 1, 512]\n",
      "\tConv2D layer output(ConvBlock5/conv_2) shape: [1, 2, 2, 512]\n",
      "\tConv2D layer output(ConvBlock5/conv_1) shape: [1, 2, 2, 512]\n",
      "\tConv2D layer output(ConvBlock5/conv_0) shape: [1, 2, 2, 512]\n",
      "ConvBlock4:\n",
      "\tMaxPool2D layer output(ConvBlock4/maxpool2) shape: [1, 2, 2, 512]\n",
      "\tConv2D layer output(ConvBlock4/conv_2) shape: [1, 4, 4, 512]\n",
      "\tConv2D layer output(ConvBlock4/conv_1) shape: [1, 4, 4, 512]\n",
      "\tConv2D layer output(ConvBlock4/conv_0) shape: [1, 4, 4, 512]\n",
      "ConvBlock3:\n",
      "\tMaxPool2D layer output(ConvBlock3/maxpool2) shape: [1, 4, 4, 256]\n",
      "\tConv2D layer output(ConvBlock3/conv_2) shape: [1, 8, 8, 256]\n",
      "\tConv2D layer output(ConvBlock3/conv_1) shape: [1, 8, 8, 256]\n",
      "\tConv2D layer output(ConvBlock3/conv_0) shape: [1, 8, 8, 256]\n",
      "ConvBlock2:\n",
      "\tMaxPool2D layer output(ConvBlock2/maxpool2) shape: [1, 8, 8, 128]\n",
      "\tConv2D layer output(ConvBlock2/conv_1) shape: [1, 16, 16, 128]\n",
      "\tConv2D layer output(ConvBlock2/conv_0) shape: [1, 16, 16, 128]\n",
      "ConvBlock1:\n",
      "\tMaxPool2D layer output(ConvBlock1/maxpool2) shape: [1, 16, 16, 64]\n",
      "\tConv2D layer output(ConvBlock1/conv_1) shape: [1, 32, 32, 64]\n",
      "\tConv2D layer output(ConvBlock1/conv_0) shape: [1, 32, 32, 64]\n",
      "---------------------------------------------------------------------------\n"
     ]
    },
    {
     "name": "stdout",
     "output_type": "stream",
     "text": [
      "Epoch 1: Training Loss = 2.0171, Validation Loss = 1.8019, Validation Accuracy = 0.2588\n",
      "Epoch 1/1000 took 16.5075 seconds\n"
     ]
    },
    {
     "name": "stdout",
     "output_type": "stream",
     "text": [
      "Epoch 2: Training Loss = 1.6779, Validation Loss = 1.4392, Validation Accuracy = 0.4351\n",
      "Epoch 2/1000 took 8.5664 seconds\n"
     ]
    },
    {
     "name": "stdout",
     "output_type": "stream",
     "text": [
      "Epoch 3: Training Loss = 1.3380, Validation Loss = 1.2088, Validation Accuracy = 0.5673\n",
      "Epoch 3/1000 took 8.6774 seconds\n"
     ]
    },
    {
     "name": "stdout",
     "output_type": "stream",
     "text": [
      "Epoch 4: Training Loss = 1.0551, Validation Loss = 1.0105, Validation Accuracy = 0.6416\n",
      "Epoch 4/1000 took 8.6233 seconds\n"
     ]
    },
    {
     "name": "stdout",
     "output_type": "stream",
     "text": [
      "Epoch 5: Training Loss = 0.8958, Validation Loss = 0.9992, Validation Accuracy = 0.6673\n",
      "Epoch 5/1000 took 8.6518 seconds\n"
     ]
    },
    {
     "name": "stdout",
     "output_type": "stream",
     "text": [
      "Epoch 6: Training Loss = 0.7797, Validation Loss = 0.8066, Validation Accuracy = 0.7344\n",
      "Epoch 6/1000 took 8.5845 seconds\n"
     ]
    },
    {
     "name": "stdout",
     "output_type": "stream",
     "text": [
      "Epoch 7: Training Loss = 0.6983, Validation Loss = 0.7162, Validation Accuracy = 0.7538\n",
      "Epoch 7/1000 took 8.6400 seconds\n"
     ]
    },
    {
     "name": "stdout",
     "output_type": "stream",
     "text": [
      "Epoch 8: Training Loss = 0.6214, Validation Loss = 0.7134, Validation Accuracy = 0.7624\n",
      "Epoch 8/1000 took 8.6931 seconds\n"
     ]
    },
    {
     "name": "stdout",
     "output_type": "stream",
     "text": [
      "Epoch 9: Training Loss = 0.5749, Validation Loss = 0.7263, Validation Accuracy = 0.7660\n",
      "Epoch 9/1000 took 8.6531 seconds\n"
     ]
    },
    {
     "name": "stdout",
     "output_type": "stream",
     "text": [
      "Epoch 10: Training Loss = 0.5383, Validation Loss = 0.6395, Validation Accuracy = 0.7891\n",
      "Epoch 10/1000 took 8.5782 seconds\n"
     ]
    },
    {
     "name": "stdout",
     "output_type": "stream",
     "text": [
      "Epoch 11: Training Loss = 0.5114, Validation Loss = 0.7257, Validation Accuracy = 0.7734\n",
      "Epoch 11/1000 took 8.5060 seconds\n"
     ]
    },
    {
     "name": "stdout",
     "output_type": "stream",
     "text": [
      "Epoch 12: Training Loss = 0.5000, Validation Loss = 0.6611, Validation Accuracy = 0.7897\n",
      "Epoch 12/1000 took 8.5262 seconds\n"
     ]
    },
    {
     "name": "stdout",
     "output_type": "stream",
     "text": [
      "Epoch 13: Training Loss = 0.4605, Validation Loss = 0.5981, Validation Accuracy = 0.8051\n",
      "Epoch 13/1000 took 8.6747 seconds\n"
     ]
    },
    {
     "name": "stdout",
     "output_type": "stream",
     "text": [
      "Epoch 14: Training Loss = 0.4586, Validation Loss = 0.6898, Validation Accuracy = 0.7947\n",
      "Epoch 14/1000 took 8.5876 seconds\n"
     ]
    },
    {
     "name": "stdout",
     "output_type": "stream",
     "text": [
      "Epoch 15: Training Loss = 0.4564, Validation Loss = 0.6015, Validation Accuracy = 0.8135\n",
      "Epoch 15/1000 took 8.6924 seconds\n"
     ]
    },
    {
     "name": "stdout",
     "output_type": "stream",
     "text": [
      "Epoch 16: Training Loss = 0.4214, Validation Loss = 0.6967, Validation Accuracy = 0.7923\n",
      "Early stopping triggered at epoch 16\n",
      "Finished training after 16 epochs!\n"
     ]
    },
    {
     "name": "stdout",
     "output_type": "stream",
     "text": [
      "---------------------------------------------------------------------------\n",
      "Dense layer output(output_layer) shape: [1, 10]\n",
      "DenseBlock1:\n",
      "\tDropout layer output(DenseBlock1/dropout) shape: [1, 512]\n",
      "\tDense layer output(DenseBlock1/dense_0) shape: [1, 512]\n",
      "Flatten layer output(flat) shape: [1, 512]\n",
      "ConvBlock5:\n",
      "\tMaxPool2D layer output(ConvBlock5/maxpool2) shape: [1, 1, 1, 512]\n",
      "\tConv2D layer output(ConvBlock5/conv_2) shape: [1, 2, 2, 512]\n",
      "\tConv2D layer output(ConvBlock5/conv_1) shape: [1, 2, 2, 512]\n",
      "\tConv2D layer output(ConvBlock5/conv_0) shape: [1, 2, 2, 512]\n",
      "ConvBlock4:\n",
      "\tMaxPool2D layer output(ConvBlock4/maxpool2) shape: [1, 2, 2, 512]\n",
      "\tConv2D layer output(ConvBlock4/conv_2) shape: [1, 4, 4, 512]\n",
      "\tConv2D layer output(ConvBlock4/conv_1) shape: [1, 4, 4, 512]\n",
      "\tConv2D layer output(ConvBlock4/conv_0) shape: [1, 4, 4, 512]\n",
      "ConvBlock3:\n",
      "\tMaxPool2D layer output(ConvBlock3/maxpool2) shape: [1, 4, 4, 256]\n",
      "\tConv2D layer output(ConvBlock3/conv_2) shape: [1, 8, 8, 256]\n",
      "\tConv2D layer output(ConvBlock3/conv_1) shape: [1, 8, 8, 256]\n",
      "\tConv2D layer output(ConvBlock3/conv_0) shape: [1, 8, 8, 256]\n",
      "ConvBlock2:\n",
      "\tMaxPool2D layer output(ConvBlock2/maxpool2) shape: [1, 8, 8, 128]\n",
      "\tConv2D layer output(ConvBlock2/conv_1) shape: [1, 16, 16, 128]\n",
      "\tConv2D layer output(ConvBlock2/conv_0) shape: [1, 16, 16, 128]\n",
      "ConvBlock1:\n",
      "\tMaxPool2D layer output(ConvBlock1/maxpool2) shape: [1, 16, 16, 64]\n",
      "\tConv2D layer output(ConvBlock1/conv_1) shape: [1, 32, 32, 64]\n",
      "\tConv2D layer output(ConvBlock1/conv_0) shape: [1, 32, 32, 64]\n",
      "---------------------------------------------------------------------------\n"
     ]
    },
    {
     "name": "stdout",
     "output_type": "stream",
     "text": [
      "Epoch 1: Training Loss = 1.9494, Validation Loss = 1.6243, Validation Accuracy = 0.3510\n",
      "Epoch 1/1000 took 18.7978 seconds\n"
     ]
    },
    {
     "name": "stdout",
     "output_type": "stream",
     "text": [
      "Epoch 2: Training Loss = 1.5018, Validation Loss = 1.3039, Validation Accuracy = 0.5106\n",
      "Epoch 2/1000 took 8.1570 seconds\n"
     ]
    },
    {
     "name": "stdout",
     "output_type": "stream",
     "text": [
      "Epoch 3: Training Loss = 1.1588, Validation Loss = 1.0902, Validation Accuracy = 0.6134\n",
      "Epoch 3/1000 took 8.1759 seconds\n"
     ]
    },
    {
     "name": "stdout",
     "output_type": "stream",
     "text": [
      "Epoch 4: Training Loss = 0.9446, Validation Loss = 0.8960, Validation Accuracy = 0.6883\n",
      "Epoch 4/1000 took 8.1621 seconds\n"
     ]
    },
    {
     "name": "stdout",
     "output_type": "stream",
     "text": [
      "Epoch 5: Training Loss = 0.8101, Validation Loss = 0.8986, Validation Accuracy = 0.7107\n",
      "Epoch 5/1000 took 8.1945 seconds\n"
     ]
    },
    {
     "name": "stdout",
     "output_type": "stream",
     "text": [
      "Epoch 6: Training Loss = 0.7328, Validation Loss = 0.7667, Validation Accuracy = 0.7488\n",
      "Epoch 6/1000 took 8.1542 seconds\n"
     ]
    },
    {
     "name": "stdout",
     "output_type": "stream",
     "text": [
      "Epoch 7: Training Loss = 0.6513, Validation Loss = 0.7346, Validation Accuracy = 0.7562\n",
      "Epoch 7/1000 took 8.1250 seconds\n"
     ]
    },
    {
     "name": "stdout",
     "output_type": "stream",
     "text": [
      "Epoch 8: Training Loss = 0.6022, Validation Loss = 0.7669, Validation Accuracy = 0.7612\n",
      "Epoch 8/1000 took 8.1142 seconds\n"
     ]
    },
    {
     "name": "stdout",
     "output_type": "stream",
     "text": [
      "Epoch 9: Training Loss = 0.5574, Validation Loss = 0.7608, Validation Accuracy = 0.7630\n",
      "Epoch 9/1000 took 8.1020 seconds\n"
     ]
    },
    {
     "name": "stdout",
     "output_type": "stream",
     "text": [
      "Epoch 10: Training Loss = 0.5299, Validation Loss = 0.6640, Validation Accuracy = 0.7923\n",
      "Epoch 10/1000 took 8.0878 seconds\n"
     ]
    },
    {
     "name": "stdout",
     "output_type": "stream",
     "text": [
      "Epoch 11: Training Loss = 0.4991, Validation Loss = 0.7165, Validation Accuracy = 0.7804\n",
      "Epoch 11/1000 took 8.1408 seconds\n"
     ]
    },
    {
     "name": "stdout",
     "output_type": "stream",
     "text": [
      "Epoch 12: Training Loss = 0.4800, Validation Loss = 0.6513, Validation Accuracy = 0.7951\n",
      "Epoch 12/1000 took 8.1709 seconds\n"
     ]
    },
    {
     "name": "stdout",
     "output_type": "stream",
     "text": [
      "Epoch 13: Training Loss = 0.4679, Validation Loss = 0.6254, Validation Accuracy = 0.8043\n",
      "Epoch 13/1000 took 8.0948 seconds\n"
     ]
    },
    {
     "name": "stdout",
     "output_type": "stream",
     "text": [
      "Epoch 14: Training Loss = 0.4372, Validation Loss = 0.6504, Validation Accuracy = 0.7981\n",
      "Epoch 14/1000 took 8.1262 seconds\n"
     ]
    },
    {
     "name": "stdout",
     "output_type": "stream",
     "text": [
      "Epoch 15: Training Loss = 0.4384, Validation Loss = 0.7213, Validation Accuracy = 0.7796\n",
      "Epoch 15/1000 took 8.1429 seconds\n"
     ]
    },
    {
     "name": "stdout",
     "output_type": "stream",
     "text": [
      "Epoch 16: Training Loss = 0.4092, Validation Loss = 0.6254, Validation Accuracy = 0.8083\n",
      "Epoch 16/1000 took 8.1256 seconds\n"
     ]
    },
    {
     "name": "stdout",
     "output_type": "stream",
     "text": [
      "Epoch 17: Training Loss = 0.4185, Validation Loss = 0.5909, Validation Accuracy = 0.8113\n",
      "Epoch 17/1000 took 8.1177 seconds\n"
     ]
    },
    {
     "name": "stdout",
     "output_type": "stream",
     "text": [
      "Epoch 18: Training Loss = 0.4028, Validation Loss = 0.6289, Validation Accuracy = 0.8057\n",
      "Epoch 18/1000 took 8.0651 seconds\n"
     ]
    },
    {
     "name": "stdout",
     "output_type": "stream",
     "text": [
      "Epoch 19: Training Loss = 0.3870, Validation Loss = 0.6803, Validation Accuracy = 0.7953\n",
      "Epoch 19/1000 took 8.0716 seconds\n"
     ]
    },
    {
     "name": "stdout",
     "output_type": "stream",
     "text": [
      "Epoch 20: Training Loss = 0.3848, Validation Loss = 0.6558, Validation Accuracy = 0.8049\n",
      "Early stopping triggered at epoch 20\n",
      "Finished training after 20 epochs!\n"
     ]
    },
    {
     "name": "stdout",
     "output_type": "stream",
     "text": [
      "---------------------------------------------------------------------------\n",
      "Dense layer output(output_layer) shape: [1, 10]\n",
      "DenseBlock1:\n",
      "\tDropout layer output(DenseBlock1/dropout) shape: [1, 512]\n",
      "\tDense layer output(DenseBlock1/dense_0) shape: [1, 512]\n",
      "Flatten layer output(flat) shape: [1, 512]\n",
      "ConvBlock5:\n",
      "\tDropout layer output(ConvBlock5/dropout) shape: [1, 1, 1, 512]\n",
      "\tMaxPool2D layer output(ConvBlock5/maxpool2) shape: [1, 1, 1, 512]\n",
      "\tConv2D layer output(ConvBlock5/conv_2) shape: [1, 2, 2, 512]\n",
      "\tConv2D layer output(ConvBlock5/conv_1) shape: [1, 2, 2, 512]\n",
      "\tConv2D layer output(ConvBlock5/conv_0) shape: [1, 2, 2, 512]\n",
      "ConvBlock4:\n",
      "\tDropout layer output(ConvBlock4/dropout) shape: [1, 2, 2, 512]\n",
      "\tMaxPool2D layer output(ConvBlock4/maxpool2) shape: [1, 2, 2, 512]\n",
      "\tConv2D layer output(ConvBlock4/conv_2) shape: [1, 4, 4, 512]\n",
      "\tConv2D layer output(ConvBlock4/conv_1) shape: [1, 4, 4, 512]\n",
      "\tConv2D layer output(ConvBlock4/conv_0) shape: [1, 4, 4, 512]\n",
      "ConvBlock3:\n",
      "\tDropout layer output(ConvBlock3/dropout) shape: [1, 4, 4, 256]\n",
      "\tMaxPool2D layer output(ConvBlock3/maxpool2) shape: [1, 4, 4, 256]\n",
      "\tConv2D layer output(ConvBlock3/conv_2) shape: [1, 8, 8, 256]\n",
      "\tConv2D layer output(ConvBlock3/conv_1) shape: [1, 8, 8, 256]\n",
      "\tConv2D layer output(ConvBlock3/conv_0) shape: [1, 8, 8, 256]\n",
      "ConvBlock2:\n",
      "\tDropout layer output(ConvBlock2/dropout) shape: [1, 8, 8, 128]\n",
      "\tMaxPool2D layer output(ConvBlock2/maxpool2) shape: [1, 8, 8, 128]\n",
      "\tConv2D layer output(ConvBlock2/conv_1) shape: [1, 16, 16, 128]\n",
      "\tConv2D layer output(ConvBlock2/conv_0) shape: [1, 16, 16, 128]\n",
      "ConvBlock1:\n",
      "\tDropout layer output(ConvBlock1/dropout) shape: [1, 16, 16, 64]\n",
      "\tMaxPool2D layer output(ConvBlock1/maxpool2) shape: [1, 16, 16, 64]\n",
      "\tConv2D layer output(ConvBlock1/conv_1) shape: [1, 32, 32, 64]\n",
      "\tConv2D layer output(ConvBlock1/conv_0) shape: [1, 32, 32, 64]\n",
      "---------------------------------------------------------------------------\n"
     ]
    },
    {
     "name": "stdout",
     "output_type": "stream",
     "text": [
      "Epoch 1: Training Loss = 2.1758, Validation Loss = 1.8866, Validation Accuracy = 0.2198\n",
      "Epoch 1/1000 took 18.2391 seconds\n"
     ]
    },
    {
     "name": "stdout",
     "output_type": "stream",
     "text": [
      "Epoch 2: Training Loss = 1.8703, Validation Loss = 1.7899, Validation Accuracy = 0.2650\n",
      "Epoch 2/1000 took 8.2344 seconds\n"
     ]
    },
    {
     "name": "stdout",
     "output_type": "stream",
     "text": [
      "Epoch 3: Training Loss = 1.6896, Validation Loss = 1.5445, Validation Accuracy = 0.3672\n",
      "Epoch 3/1000 took 8.2842 seconds\n"
     ]
    },
    {
     "name": "stdout",
     "output_type": "stream",
     "text": [
      "Epoch 4: Training Loss = 1.4737, Validation Loss = 1.3647, Validation Accuracy = 0.4651\n",
      "Epoch 4/1000 took 8.2680 seconds\n"
     ]
    },
    {
     "name": "stdout",
     "output_type": "stream",
     "text": [
      "Epoch 5: Training Loss = 1.3383, Validation Loss = 1.1915, Validation Accuracy = 0.5401\n",
      "Epoch 5/1000 took 8.2747 seconds\n"
     ]
    },
    {
     "name": "stdout",
     "output_type": "stream",
     "text": [
      "Epoch 6: Training Loss = 1.2031, Validation Loss = 1.0376, Validation Accuracy = 0.6236\n",
      "Epoch 6/1000 took 8.2495 seconds\n"
     ]
    },
    {
     "name": "stdout",
     "output_type": "stream",
     "text": [
      "Epoch 7: Training Loss = 1.0711, Validation Loss = 0.8943, Validation Accuracy = 0.6873\n",
      "Epoch 7/1000 took 8.2207 seconds\n"
     ]
    },
    {
     "name": "stdout",
     "output_type": "stream",
     "text": [
      "Epoch 8: Training Loss = 0.9650, Validation Loss = 0.8796, Validation Accuracy = 0.6901\n",
      "Epoch 8/1000 took 8.2091 seconds\n"
     ]
    },
    {
     "name": "stdout",
     "output_type": "stream",
     "text": [
      "Epoch 9: Training Loss = 0.8970, Validation Loss = 0.7872, Validation Accuracy = 0.7200\n",
      "Epoch 9/1000 took 8.1935 seconds\n"
     ]
    },
    {
     "name": "stdout",
     "output_type": "stream",
     "text": [
      "Epoch 10: Training Loss = 0.8644, Validation Loss = 0.7849, Validation Accuracy = 0.7300\n",
      "Epoch 10/1000 took 8.1862 seconds\n"
     ]
    },
    {
     "name": "stdout",
     "output_type": "stream",
     "text": [
      "Epoch 11: Training Loss = 0.8145, Validation Loss = 0.7085, Validation Accuracy = 0.7638\n",
      "Epoch 11/1000 took 8.1675 seconds\n"
     ]
    },
    {
     "name": "stdout",
     "output_type": "stream",
     "text": [
      "Epoch 12: Training Loss = 0.7755, Validation Loss = 0.7652, Validation Accuracy = 0.7534\n",
      "Epoch 12/1000 took 8.1767 seconds\n"
     ]
    },
    {
     "name": "stdout",
     "output_type": "stream",
     "text": [
      "Epoch 13: Training Loss = 0.7385, Validation Loss = 0.7424, Validation Accuracy = 0.7632\n",
      "Epoch 13/1000 took 8.1649 seconds\n"
     ]
    },
    {
     "name": "stdout",
     "output_type": "stream",
     "text": [
      "Epoch 14: Training Loss = 0.7401, Validation Loss = 0.6802, Validation Accuracy = 0.7835\n",
      "Epoch 14/1000 took 8.1803 seconds\n"
     ]
    },
    {
     "name": "stdout",
     "output_type": "stream",
     "text": [
      "Epoch 15: Training Loss = 0.7355, Validation Loss = 0.7064, Validation Accuracy = 0.7730\n",
      "Epoch 15/1000 took 8.1948 seconds\n"
     ]
    },
    {
     "name": "stdout",
     "output_type": "stream",
     "text": [
      "Epoch 16: Training Loss = 0.7002, Validation Loss = 0.6934, Validation Accuracy = 0.7806\n",
      "Epoch 16/1000 took 8.1998 seconds\n"
     ]
    },
    {
     "name": "stdout",
     "output_type": "stream",
     "text": [
      "Epoch 17: Training Loss = 0.6922, Validation Loss = 0.6153, Validation Accuracy = 0.8031\n",
      "Epoch 17/1000 took 8.2002 seconds\n"
     ]
    },
    {
     "name": "stdout",
     "output_type": "stream",
     "text": [
      "Epoch 18: Training Loss = 0.7029, Validation Loss = 0.6218, Validation Accuracy = 0.8019\n",
      "Epoch 18/1000 took 8.2143 seconds\n"
     ]
    },
    {
     "name": "stdout",
     "output_type": "stream",
     "text": [
      "Epoch 19: Training Loss = 0.6802, Validation Loss = 0.6839, Validation Accuracy = 0.7837\n",
      "Epoch 19/1000 took 8.2144 seconds\n"
     ]
    },
    {
     "name": "stdout",
     "output_type": "stream",
     "text": [
      "Epoch 20: Training Loss = 0.6609, Validation Loss = 0.6481, Validation Accuracy = 0.7945\n",
      "Early stopping triggered at epoch 20\n",
      "Finished training after 20 epochs!\n"
     ]
    }
   ],
   "source": [
    "net_names = ['VGG4Plus', 'VGG15', 'VGG15Plus', 'VGG15PlusPlus']\n",
    "train_losses = []\n",
    "val_losses = []\n",
    "val_accs = []\n",
    "epochs = []\n",
    "\n",
    "for net_name in net_names:\n",
    "    tf.keras.backend.clear_session()\n",
    "    tf.random.set_seed(0)\n",
    "\n",
    "    if net_name == 'VGG4Plus':\n",
    "        model = VGG4Plus(10, (32, 32, 3))\n",
    "    elif net_name == 'VGG15':\n",
    "        model = VGG15(10, (32, 32, 3))\n",
    "    elif net_name == 'VGG15Plus':\n",
    "        model = VGG15Plus(10, (32, 32, 3))\n",
    "    elif net_name == 'VGG15PlusPlus':\n",
    "        model = VGG15PlusPlus(10, (32, 32, 3))\n",
    "\n",
    "    model.compile(optimizer='adamw')\n",
    "    train_loss_hist, val_loss_hist, val_acc_hist, num_epochs = model.fit(x_train, y_train, x_val, y_val, max_epochs=1000, patience=4)\n",
    "    test_acc = model.evaluate(x_test, y_test)[0]\n",
    "\n",
    "    train_losses.append(train_loss_hist)\n",
    "    val_losses.append(val_loss_hist)\n",
    "    val_accs.append(val_acc_hist)\n",
    "    epochs.append(num_epochs)\n",
    "\n",
    "    test_acc = model.evaluate(x_test, y_test)[0]"
   ]
  },
  {
   "cell_type": "code",
   "execution_count": 9,
   "id": "a14003",
   "metadata": {
    "collapsed": false
   },
   "outputs": [
    {
     "data": {
      "image/png": "[encoded data removed]",
      "text/plain": [
       "<Figure size 500x1200 with 3 Axes>"
      ]
     },
     "execution_count": 9,
     "metadata": {},
     "output_type": "execute_result"
    }
   ],
   "source": [
    "def plot_loss_acc_x3(train_losses, val_losses, val_accs, epochs,\n",
    "                     net_names=['VGG15PlusPlus', 'VGG15', 'VGG15Plus', 'VGG4Plus']):\n",
    "    '''Makes a 3x1 plot of the training losses, val losses, and val accs for the 4 nets.\n",
    "\n",
    "    This complete function is provided to you. Feel free to modify if necessary.\n",
    "\n",
    "    Parameters:\n",
    "    -----------\n",
    "    train_losses: Python list of list. len(train_losses)=4.\n",
    "        List of the training loss histories of the 4 nets.\n",
    "    val_losses: Python list of list. len(val_losses)=4.\n",
    "        List of the val loss histories of the 4 nets.\n",
    "    val_accs: Python list of list. len(val_accs)=4.\n",
    "        List of the val accuracy histories of the 4 nets.\n",
    "    epochs: Python list of int. len(epochs)=4.\n",
    "        The number of epochs used to train each network.\n",
    "    net_names: Python list of str. len(epochs)=4.\n",
    "        The string name of the networks. The order must correspond to the order of the loss and acc lists.\n",
    "    '''\n",
    "    fig, axes = plt.subplots(ncols=1, nrows=3, sharex=True, figsize=(5, 12))\n",
    "\n",
    "    titles = ['CIFAR-10 Training Loss', 'CIFAR-10 Val Loss', 'CIFAR-10 Val Acc']\n",
    "    xlabels = 3*['Epoch']\n",
    "    data = [train_losses, val_losses, val_accs]\n",
    "\n",
    "    for i in range(len(titles)):\n",
    "        curr_hist = data[i]\n",
    "\n",
    "        for n in range(len(net_names)):\n",
    "            curr_data = np.copy(np.array(curr_hist[n]))\n",
    "\n",
    "            if 'acc' in titles[i].lower():\n",
    "                curr_data = 100*curr_data[:epochs[n]]\n",
    "\n",
    "            axes[i].plot(curr_data, label=net_names[n])\n",
    "\n",
    "        axes[i].set_xlabel(xlabels[i])\n",
    "        # axes[i].set_ylabel(ylabels[i])\n",
    "        axes[i].set_title(titles[i])\n",
    "\n",
    "        if i == 0:\n",
    "            axes[i].legend()\n",
    "\n",
    "    plt.tight_layout()\n",
    "    plt.show()\n",
    "\n",
    "plot_loss_acc_x3(train_losses, val_losses, val_accs, epochs, net_names)"
   ]
  },
  {
   "cell_type": "markdown",
   "id": "2f5674",
   "metadata": {
    "collapsed": false
   },
   "source": [
    "### 9e. Questions\n",
    "\n",
    "**Question 13** How does the runtime (per epoch) of the networks with batch normalization compare without it (e.g. `VGG15` vs. `VGG15Plus`)? "
   ]
  },
  {
   "cell_type": "markdown",
   "id": "b47d59",
   "metadata": {
    "collapsed": false
   },
   "source": [
    "**Answer 13:** The runtime (per epoch) with batch normalization was faster than without it."
   ]
  },
  {
   "cell_type": "markdown",
   "id": "8ac050",
   "metadata": {
    "collapsed": false
   },
   "source": [
    "## Task 10. Learning rate decay\n",
    "\n",
    "The classification accuracy of the networks with batch normalization may seem a little underwhelming...but we can change that! A synergistic tool to potentially unlock improved classification accuracy is **learning rate decay.** We will adopt the simple approach of multiplicatively adjusting the learning rate. That is:\n",
    "\n",
    "$$\n",
    "\\eta_{new} = d \\times \\eta_{curr}\n",
    "$$\n",
    "\n",
    "where $\\eta$ is the learning rate and $d$ is a float between 0.0 and 1.0. This learning rate update does not occur on every epoch — it only gets applied when the validation loss stops improving for some number of epochs (i.e. the learning rate patience). This means we add and maintain an independent early stopping process dedicated to the learning rate.\n",
    "\n",
    "Let's add this to the training workflow then revisit the performance of the networks with batch normalization."
   ]
  },
  {
   "cell_type": "code",
   "execution_count": 107,
   "id": "28925d",
   "metadata": {
    "collapsed": false
   },
   "outputs": [],
   "source": [
    "from vgg_nets import VGG15PlusPlus, VGG15, VGG15Plus, VGG4Plus"
   ]
  },
  {
   "cell_type": "markdown",
   "id": "2267cc",
   "metadata": {
    "collapsed": false
   },
   "source": [
    "### 10a. Add support for learning rate decay in `DeepNetwork`\n",
    "\n",
    "Follow the procedure outlined in class add learning rate decay to the training workflow. Here is a brief summary:\n",
    "1. Implement `update_lr(lr_decay_rate)` to multiplicatively adjust the optimizer's learning rate.\n",
    "2. In `fit`, create a separate new empty list before the training loop to represent the rolling validation loss related to the learning rate decay process.\n",
    "3. In `fit`, adjacent to where you check early stopping for training epochs, check \"early stopping\" for learning rate. If \"early stopping\" is triggered for the learning rate, decrease the learning rate. Only decrease the learning rate a preset number of times (`lr_max_decays`)."
   ]
  },
  {
   "cell_type": "code",
   "execution_count": 13,
   "id": "134c90",
   "metadata": {
    "collapsed": false
   },
   "outputs": [],
   "source": [
    "from layers import Dense\n",
    "from network import DeepNetwork"
   ]
  },
  {
   "cell_type": "markdown",
   "id": "49a53d",
   "metadata": {
    "collapsed": false
   },
   "source": [
    "#### Test: Learning rate decay\n",
    "\n",
    "The following test trains a single layer softmax network on Iris. If everything is working as expected, you should see:\n",
    "- learning rate decays from 0.1 to 0.05 during epoch 6.\n",
    "- learning rate decays from 0.05 to 0.025 during epoch 25.\n",
    "- learning rate decays from 0.025 to 0.0125 during epoch 39.\n",
    "- learning rate decays from 0.0125 to 0.00625 during epoch 53.\n",
    "- training ends after 65 epochs.\n",
    "\n",
    "**Note:** If you do not get these exact results, that could be fine. What you are looking for is a drop in the learning rate when the val loss does not improve/decrease within a window of 3 epochs."
   ]
  },
  {
   "cell_type": "code",
   "execution_count": 14,
   "id": "1151c8",
   "metadata": {
    "collapsed": false
   },
   "outputs": [
    {
     "name": "stdout",
     "output_type": "stream",
     "text": [
      "---------------------------------------------------------------------------\n",
      "Dense layer output(TestDense) shape: [1, 3]\n",
      "---------------------------------------------------------------------------\n"
     ]
    },
    {
     "name": "stdout",
     "output_type": "stream",
     "text": [
      "Epoch 1: Training Loss = 1.1561, Validation Loss = 1.0572, Validation Accuracy = 0.6531\n",
      "Epoch 1/5000 took 1.7280 seconds\n",
      "Epoch 2: Training Loss = 0.8358, Validation Loss = 0.5779, Validation Accuracy = 0.6735\n",
      "Epoch 2/5000 took 0.0092 seconds\n",
      "Epoch 3: Training Loss = 0.6456, Validation Loss = 0.5150, Validation Accuracy = 0.6531\n",
      "Epoch 3/5000 took 0.0082 seconds\n",
      "Epoch 4: Training Loss = 0.5420, Validation Loss = 0.4582, Validation Accuracy = 0.6531\n",
      "Epoch 4/5000 took 0.0095 seconds\n",
      "Epoch 5: Training Loss = 0.4831, Validation Loss = 0.4446, Validation Accuracy = 0.6735\n",
      "Epoch 5/5000 took 0.0084 seconds\n",
      "Epoch 6: Training Loss = 0.3864, Validation Loss = 0.4211, Validation Accuracy = 0.6531\n",
      "Epoch 6/5000 took 0.0086 seconds\n",
      "Epoch 7: Training Loss = 0.4073, Validation Loss = 0.3679, Validation Accuracy = 0.8163\n",
      "Epoch 7/5000 took 0.0084 seconds\n",
      "Epoch 8: Training Loss = 0.3475, Validation Loss = 0.3580, Validation Accuracy = 0.8776\n",
      "Epoch 8/5000 took 0.0095 seconds\n",
      "Epoch 9: Training Loss = 0.3361, Validation Loss = 0.3175, Validation Accuracy = 0.9592\n",
      "Epoch 9/5000 took 0.0092 seconds\n",
      "Epoch 10: Training Loss = 0.2910, Validation Loss = 0.3243, Validation Accuracy = 0.8776\n",
      "Epoch 10/5000 took 0.0093 seconds\n",
      "Epoch 11: Training Loss = 0.3006, Validation Loss = 0.2920, Validation Accuracy = 0.9592\n",
      "Epoch 11/5000 took 0.0089 seconds\n",
      "Epoch 12: Training Loss = 0.2924, Validation Loss = 0.2876, Validation Accuracy = 0.9388\n",
      "Epoch 12/5000 took 0.0088 seconds\n",
      "Epoch 13: Training Loss = 0.2822, Validation Loss = 0.3237, Validation Accuracy = 0.8163\n",
      "Epoch 13/5000 took 0.0088 seconds\n",
      "Current lr= 0.1 Updated lr= 0.05\n",
      "Epoch 14: Training Loss = 0.2530, Validation Loss = 0.3310, Validation Accuracy = 0.8163\n",
      "Epoch 14/5000 took 0.0126 seconds\n",
      "Epoch 15: Training Loss = 0.2995, Validation Loss = 0.2819, Validation Accuracy = 0.8776\n",
      "Epoch 15/5000 took 0.0087 seconds\n",
      "Epoch 16: Training Loss = 0.3013, Validation Loss = 0.3188, Validation Accuracy = 0.8163\n",
      "Epoch 16/5000 took 0.0085 seconds\n",
      "Epoch 17: Training Loss = 0.2714, Validation Loss = 0.3056, Validation Accuracy = 0.8367\n",
      "Epoch 17/5000 took 0.0085 seconds\n",
      "Epoch 18: Training Loss = 0.3627, Validation Loss = 0.2790, Validation Accuracy = 0.8776\n",
      "Epoch 18/5000 took 0.0087 seconds\n",
      "Epoch 19: Training Loss = 0.2440, Validation Loss = 0.2415, Validation Accuracy = 0.9592\n",
      "Epoch 19/5000 took 0.0087 seconds\n",
      "Epoch 20: Training Loss = 0.2880, Validation Loss = 0.2391, Validation Accuracy = 0.9592\n",
      "Epoch 20/5000 took 0.0087 seconds\n",
      "Epoch 21: Training Loss = 0.2046, Validation Loss = 0.2859, Validation Accuracy = 0.8776\n",
      "Epoch 21/5000 took 0.0087 seconds\n",
      "Epoch 22: Training Loss = 0.2733, Validation Loss = 0.2262, Validation Accuracy = 0.9592\n",
      "Epoch 22/5000 took 0.0087 seconds\n",
      "Epoch 23: Training Loss = 0.2279, Validation Loss = 0.2176, Validation Accuracy = 0.9796\n",
      "Epoch 23/5000 took 0.0087 seconds\n"
     ]
    },
    {
     "name": "stdout",
     "output_type": "stream",
     "text": [
      "Epoch 24: Training Loss = 0.2468, Validation Loss = 0.2191, Validation Accuracy = 0.9592\n",
      "Epoch 24/5000 took 0.0104 seconds\n",
      "Current lr= 0.05 Updated lr= 0.025\n",
      "Epoch 25: Training Loss = 0.2089, Validation Loss = 0.2406, Validation Accuracy = 0.9388\n",
      "Epoch 25/5000 took 0.0108 seconds\n",
      "Epoch 26: Training Loss = 0.2123, Validation Loss = 0.2373, Validation Accuracy = 0.9388\n",
      "Epoch 26/5000 took 0.0092 seconds\n",
      "Epoch 27: Training Loss = 0.2161, Validation Loss = 0.2122, Validation Accuracy = 0.9592\n",
      "Epoch 27/5000 took 0.0093 seconds\n",
      "Epoch 28: Training Loss = 0.2273, Validation Loss = 0.2078, Validation Accuracy = 0.9592\n",
      "Epoch 28/5000 took 0.0091 seconds\n",
      "Epoch 29: Training Loss = 0.2590, Validation Loss = 0.2059, Validation Accuracy = 0.9592\n",
      "Epoch 29/5000 took 0.0095 seconds\n",
      "Epoch 30: Training Loss = 0.2298, Validation Loss = 0.2170, Validation Accuracy = 0.9592\n",
      "Epoch 30/5000 took 0.0094 seconds\n",
      "Current lr= 0.025 Updated lr= 0.0125\n",
      "Epoch 31: Training Loss = 0.2003, Validation Loss = 0.2465, Validation Accuracy = 0.9184\n",
      "Epoch 31/5000 took 0.0108 seconds\n",
      "Epoch 32: Training Loss = 0.2214, Validation Loss = 0.2395, Validation Accuracy = 0.9184\n",
      "Epoch 32/5000 took 0.0092 seconds\n",
      "Epoch 33: Training Loss = 0.2265, Validation Loss = 0.2111, Validation Accuracy = 0.9592\n",
      "Epoch 33/5000 took 0.0092 seconds\n",
      "Epoch 34: Training Loss = 0.2041, Validation Loss = 0.1995, Validation Accuracy = 0.9796\n",
      "Epoch 34/5000 took 0.0091 seconds\n",
      "Epoch 35: Training Loss = 0.1918, Validation Loss = 0.1994, Validation Accuracy = 0.9796\n",
      "Epoch 35/5000 took 0.0094 seconds\n",
      "Epoch 36: Training Loss = 0.2359, Validation Loss = 0.1978, Validation Accuracy = 0.9796\n",
      "Epoch 36/5000 took 0.0095 seconds\n",
      "Epoch 37: Training Loss = 0.2442, Validation Loss = 0.2073, Validation Accuracy = 0.9592\n",
      "Epoch 37/5000 took 0.0094 seconds\n",
      "Current lr= 0.0125 Updated lr= 0.00625\n",
      "Epoch 38: Training Loss = 0.2149, Validation Loss = 0.2318, Validation Accuracy = 0.9388\n",
      "Epoch 38/5000 took 0.0107 seconds\n",
      "Epoch 39: Training Loss = 0.2031, Validation Loss = 0.2300, Validation Accuracy = 0.9388\n",
      "Epoch 39/5000 took 0.0092 seconds\n",
      "Epoch 40: Training Loss = 0.2086, Validation Loss = 0.2139, Validation Accuracy = 0.9592\n",
      "Epoch 40/5000 took 0.0093 seconds\n",
      "Epoch 41: Training Loss = 0.1860, Validation Loss = 0.2011, Validation Accuracy = 0.9592\n",
      "Epoch 41/5000 took 0.0092 seconds\n",
      "Epoch 42: Training Loss = 0.1861, Validation Loss = 0.1966, Validation Accuracy = 0.9796\n",
      "Epoch 42/5000 took 0.0095 seconds\n",
      "Epoch 43: Training Loss = 0.2026, Validation Loss = 0.1962, Validation Accuracy = 0.9796\n",
      "Epoch 43/5000 took 0.0095 seconds\n",
      "Epoch 44: Training Loss = 0.2463, Validation Loss = 0.1987, Validation Accuracy = 0.9592\n",
      "Epoch 44/5000 took 0.0089 seconds\n",
      "Epoch 45: Training Loss = 0.2002, Validation Loss = 0.2026, Validation Accuracy = 0.9592\n",
      "Epoch 45/5000 took 0.0087 seconds\n"
     ]
    },
    {
     "name": "stdout",
     "output_type": "stream",
     "text": [
      "Epoch 46: Training Loss = 0.1865, Validation Loss = 0.2062, Validation Accuracy = 0.9592\n",
      "Epoch 46/5000 took 0.0101 seconds\n",
      "Epoch 47: Training Loss = 0.2540, Validation Loss = 0.2058, Validation Accuracy = 0.9592\n",
      "Epoch 47/5000 took 0.0095 seconds\n",
      "Epoch 48: Training Loss = 0.2091, Validation Loss = 0.2010, Validation Accuracy = 0.9592\n",
      "Epoch 48/5000 took 0.0094 seconds\n",
      "Epoch 49: Training Loss = 0.2230, Validation Loss = 0.1958, Validation Accuracy = 0.9592\n",
      "Epoch 49/5000 took 0.0095 seconds\n",
      "Epoch 50: Training Loss = 0.1856, Validation Loss = 0.1927, Validation Accuracy = 0.9796\n",
      "Epoch 50/5000 took 0.0094 seconds\n",
      "Epoch 51: Training Loss = 0.2401, Validation Loss = 0.1924, Validation Accuracy = 0.9796\n",
      "Epoch 51/5000 took 0.0095 seconds\n",
      "Epoch 52: Training Loss = 0.1915, Validation Loss = 0.1932, Validation Accuracy = 0.9796\n",
      "Epoch 52/5000 took 0.0094 seconds\n",
      "Epoch 53: Training Loss = 0.2002, Validation Loss = 0.1943, Validation Accuracy = 0.9592\n",
      "Epoch 53/5000 took 0.0095 seconds\n",
      "Epoch 54: Training Loss = 0.1919, Validation Loss = 0.1982, Validation Accuracy = 0.9592\n",
      "Epoch 54/5000 took 0.0095 seconds\n",
      "Epoch 55: Training Loss = 0.1965, Validation Loss = 0.1984, Validation Accuracy = 0.9592\n",
      "Epoch 55/5000 took 0.0097 seconds\n",
      "Epoch 56: Training Loss = 0.2211, Validation Loss = 0.1938, Validation Accuracy = 0.9592\n",
      "Epoch 56/5000 took 0.0095 seconds\n",
      "Epoch 57: Training Loss = 0.1900, Validation Loss = 0.1913, Validation Accuracy = 0.9796\n",
      "Epoch 57/5000 took 0.0096 seconds\n",
      "Epoch 58: Training Loss = 0.1768, Validation Loss = 0.1909, Validation Accuracy = 0.9796\n",
      "Epoch 58/5000 took 0.0096 seconds\n",
      "Epoch 59: Training Loss = 0.2027, Validation Loss = 0.1901, Validation Accuracy = 0.9796\n",
      "Epoch 59/5000 took 0.0096 seconds\n",
      "Epoch 60: Training Loss = 0.2245, Validation Loss = 0.1912, Validation Accuracy = 0.9592\n",
      "Epoch 60/5000 took 0.0095 seconds\n",
      "Epoch 61: Training Loss = 0.1926, Validation Loss = 0.1906, Validation Accuracy = 0.9592\n",
      "Epoch 61/5000 took 0.0092 seconds\n",
      "Epoch 62: Training Loss = 0.2090, Validation Loss = 0.1891, Validation Accuracy = 0.9796\n",
      "Epoch 62/5000 took 0.0087 seconds\n",
      "Epoch 63: Training Loss = 0.1985, Validation Loss = 0.1874, Validation Accuracy = 0.9796\n",
      "Epoch 63/5000 took 0.0087 seconds\n",
      "Epoch 64: Training Loss = 0.2024, Validation Loss = 0.1870, Validation Accuracy = 0.9796\n",
      "Epoch 64/5000 took 0.0088 seconds\n",
      "Epoch 65: Training Loss = 0.1852, Validation Loss = 0.1873, Validation Accuracy = 0.9796\n",
      "Epoch 65/5000 took 0.0088 seconds\n",
      "Epoch 66: Training Loss = 0.1994, Validation Loss = 0.1905, Validation Accuracy = 0.9592\n",
      "Epoch 66/5000 took 0.0088 seconds\n",
      "Epoch 67: Training Loss = 0.2023, Validation Loss = 0.1964, Validation Accuracy = 0.9592\n",
      "Epoch 67/5000 took 0.0090 seconds\n"
     ]
    },
    {
     "name": "stdout",
     "output_type": "stream",
     "text": [
      "Epoch 68: Training Loss = 0.2096, Validation Loss = 0.1934, Validation Accuracy = 0.9592\n",
      "Epoch 68/5000 took 0.0108 seconds\n",
      "Epoch 69: Training Loss = 0.2190, Validation Loss = 0.1884, Validation Accuracy = 0.9592\n",
      "Epoch 69/5000 took 0.0096 seconds\n",
      "Epoch 70: Training Loss = 0.2327, Validation Loss = 0.1842, Validation Accuracy = 0.9796\n",
      "Epoch 70/5000 took 0.0096 seconds\n",
      "Epoch 71: Training Loss = 0.1723, Validation Loss = 0.1834, Validation Accuracy = 0.9796\n",
      "Epoch 71/5000 took 0.0098 seconds\n",
      "Epoch 72: Training Loss = 0.2002, Validation Loss = 0.1831, Validation Accuracy = 0.9796\n",
      "Epoch 72/5000 took 0.0096 seconds\n",
      "Epoch 73: Training Loss = 0.2198, Validation Loss = 0.1830, Validation Accuracy = 0.9796\n",
      "Epoch 73/5000 took 0.0097 seconds\n",
      "Epoch 74: Training Loss = 0.1617, Validation Loss = 0.1843, Validation Accuracy = 0.9796\n",
      "Epoch 74/5000 took 0.0096 seconds\n",
      "Epoch 75: Training Loss = 0.2016, Validation Loss = 0.1876, Validation Accuracy = 0.9592\n",
      "Epoch 75/5000 took 0.0096 seconds\n",
      "Epoch 76: Training Loss = 0.1718, Validation Loss = 0.1937, Validation Accuracy = 0.9592\n",
      "Epoch 76/5000 took 0.0096 seconds\n",
      "Epoch 77: Training Loss = 0.1672, Validation Loss = 0.2008, Validation Accuracy = 0.9592\n",
      "Epoch 77/5000 took 0.0097 seconds\n",
      "Epoch 78: Training Loss = 0.2268, Validation Loss = 0.1945, Validation Accuracy = 0.9592\n",
      "Epoch 78/5000 took 0.0096 seconds\n",
      "Epoch 79: Training Loss = 0.1903, Validation Loss = 0.1839, Validation Accuracy = 0.9592\n",
      "Early stopping triggered at epoch 79\n",
      "Finished training after 79 epochs!\n",
      "---------------------------------------------------------------------------\n",
      "Iris test ended after 79 epochs with final val loss/acc of 0.18/0.96\n",
      "---------------------------------------------------------------------------\n"
     ]
    }
   ],
   "source": [
    "# Quickly make a mock network for testing\n",
    "class SoftmaxNet(DeepNetwork):\n",
    "    def __init__(self, input_feats_shape, C, reg=0):\n",
    "        super().__init__(input_feats_shape, reg)\n",
    "        self.output_layer = Dense('TestDense', units=C, activation='softmax', prev_layer_or_block=None)\n",
    "\n",
    "    def __call__(self, x):\n",
    "        return self.output_layer(x)\n",
    "\n",
    "# Load in Iris train/validation sets\n",
    "train_samps = tf.constant(np.load('data/iris/iris_train_samps.npy'), dtype=tf.float32)\n",
    "train_labels = tf.constant(np.load('data/iris/iris_train_labels.npy'), dtype=tf.int32)\n",
    "val_samps = tf.constant(np.load('data/iris/iris_val_samps.npy'), dtype=tf.float32)\n",
    "val_labels = tf.constant(np.load('data/iris/iris_val_labels.npy'), dtype=tf.int32)\n",
    "\n",
    "# Set some vars\n",
    "C = 3\n",
    "M = train_samps.shape[1]\n",
    "mini_batch_sz = 25\n",
    "lr = 1e-1\n",
    "max_epochs = 5000\n",
    "patience = 7\n",
    "val_every = 1  # how often (in epochs) we check the val loss/acc/early stopping\n",
    "\n",
    "# Create our test net\n",
    "tf.random.set_seed(0)\n",
    "slnet = SoftmaxNet((M,), C)\n",
    "slnet.compile(lr=lr)\n",
    "\n",
    "_, val_loss_hist, val_acc_hist, e = slnet.fit(train_samps, train_labels, val_samps, val_labels,\n",
    "                                              batch_size=mini_batch_sz,\n",
    "                                              max_epochs=max_epochs,\n",
    "                                              patience=patience,\n",
    "                                              val_every=val_every,\n",
    "                                              lr_patience=3,\n",
    "                                              lr_max_decays=4)\n",
    "\n",
    "print(75*'-')\n",
    "print(f'Iris test ended after {e} epochs with final val loss/acc of {val_loss_hist[-1]:.2f}/{val_acc_hist[-1]:.2f}')\n",
    "print(75*'-')"
   ]
  },
  {
   "cell_type": "markdown",
   "id": "1ab1c9",
   "metadata": {
    "collapsed": false
   },
   "source": [
    "### 10b. Train VGG nets with batch normalization redux\n",
    "\n",
    "Repeat the training session you performed in the previous task involving the \"plus networks\" on CIFAR-10:\n",
    "- VGG4Plus\n",
    "- VGG15\n",
    "- VGG15Plus\n",
    "- VGG15PlusPlus\n",
    "\n",
    "Use default hyperparameters except:\n",
    "- Use AdamW optimizer.\n",
    "- Use He initialization\n",
    "- Use a patience of `15`.\n",
    "- Use a learning rate patience of 4.\n",
    "\n",
    "After training each net, store/record:\n",
    "1. the network's final test accuracy.\n",
    "2. the history of training loss (averaged across mini-batches, so one per epoch).\n",
    "3. the history of validation loss (checked every epoch).\n",
    "4. the history of validation accuracy (checked every epoch).\n",
    "\n",
    "**Notes:**\n",
    "- Set random seed before creating each net for consistency.\n",
    "- Use `tf.keras.backend.clear_session()` before creating each of the network to help prevent the memory used from growing.\n",
    "\n",
    "Training these networks should take a few hours. Your VGG15PlusPlus network should achieve the best results and shatter your previous CIFAR-10 val/test accuracy record by a substantial margin."
   ]
  },
  {
   "cell_type": "code",
   "execution_count": 10,
   "id": "d06d70",
   "metadata": {
    "collapsed": false
   },
   "outputs": [
    {
     "name": "stdout",
     "output_type": "stream",
     "text": [
      "---------------------------------------------------------------------------\n",
      "Dense layer output(output) shape: [1, 10]\n",
      "Dropout layer output(dropout1) shape: [1, 128]\n",
      "Dense layer output(dense1) shape: [1, 128]\n",
      "Flatten layer output(flat) shape: [1, 16384]\n",
      "MaxPool2D layer output(maxpool1) shape: [1, 16, 16, 64]\n",
      "Conv2D layer output(conv2) shape: [1, 32, 32, 64]\n",
      "Conv2D layer output(conv1) shape: [1, 32, 32, 64]\n",
      "---------------------------------------------------------------------------\n"
     ]
    },
    {
     "name": "stdout",
     "output_type": "stream",
     "text": [
      "Epoch 1: Training Loss = 1.8380, Validation Loss = 1.2943, Validation Accuracy = 0.5323\n",
      "Epoch 1/10000 took 4.5928 seconds\n"
     ]
    },
    {
     "name": "stdout",
     "output_type": "stream",
     "text": [
      "Epoch 2: Training Loss = 1.3168, Validation Loss = 1.1666, Validation Accuracy = 0.5950\n",
      "Epoch 2/10000 took 2.0162 seconds\n"
     ]
    },
    {
     "name": "stdout",
     "output_type": "stream",
     "text": [
      "Epoch 3: Training Loss = 1.1379, Validation Loss = 1.0178, Validation Accuracy = 0.6450\n",
      "Epoch 3/10000 took 1.9993 seconds\n"
     ]
    },
    {
     "name": "stdout",
     "output_type": "stream",
     "text": [
      "Epoch 4: Training Loss = 1.0124, Validation Loss = 0.9804, Validation Accuracy = 0.6587\n",
      "Epoch 4/10000 took 2.0461 seconds\n"
     ]
    },
    {
     "name": "stdout",
     "output_type": "stream",
     "text": [
      "Epoch 5: Training Loss = 0.9199, Validation Loss = 0.9531, Validation Accuracy = 0.6723\n",
      "Epoch 5/10000 took 2.0152 seconds\n"
     ]
    },
    {
     "name": "stdout",
     "output_type": "stream",
     "text": [
      "Epoch 6: Training Loss = 0.8378, Validation Loss = 0.9431, Validation Accuracy = 0.6791\n",
      "Epoch 6/10000 took 2.0180 seconds\n"
     ]
    },
    {
     "name": "stdout",
     "output_type": "stream",
     "text": [
      "Epoch 7: Training Loss = 0.7736, Validation Loss = 0.9362, Validation Accuracy = 0.6837\n",
      "Epoch 7/10000 took 2.0216 seconds\n"
     ]
    },
    {
     "name": "stdout",
     "output_type": "stream",
     "text": [
      "Epoch 8: Training Loss = 0.7030, Validation Loss = 0.9561, Validation Accuracy = 0.6865\n",
      "Epoch 8/10000 took 2.0211 seconds\n"
     ]
    },
    {
     "name": "stdout",
     "output_type": "stream",
     "text": [
      "Epoch 9: Training Loss = 0.6522, Validation Loss = 0.9788, Validation Accuracy = 0.6953\n",
      "Epoch 9/10000 took 2.0360 seconds\n"
     ]
    },
    {
     "name": "stdout",
     "output_type": "stream",
     "text": [
      "Current lr= 0.001 Updated lr= 0.0005\n",
      "Epoch 10: Training Loss = 0.5989, Validation Loss = 1.0114, Validation Accuracy = 0.6887\n",
      "Epoch 10/10000 took 2.0214 seconds\n"
     ]
    },
    {
     "name": "stdout",
     "output_type": "stream",
     "text": [
      "Epoch 11: Training Loss = 0.5198, Validation Loss = 1.0105, Validation Accuracy = 0.6973\n",
      "Epoch 11/10000 took 2.0211 seconds\n"
     ]
    },
    {
     "name": "stdout",
     "output_type": "stream",
     "text": [
      "Epoch 12: Training Loss = 0.4740, Validation Loss = 1.0251, Validation Accuracy = 0.7025\n",
      "Epoch 12/10000 took 2.0144 seconds\n"
     ]
    },
    {
     "name": "stdout",
     "output_type": "stream",
     "text": [
      "Epoch 13: Training Loss = 0.4347, Validation Loss = 1.0721, Validation Accuracy = 0.7053\n",
      "Epoch 13/10000 took 2.0106 seconds\n"
     ]
    },
    {
     "name": "stdout",
     "output_type": "stream",
     "text": [
      "Epoch 14: Training Loss = 0.4051, Validation Loss = 1.0830, Validation Accuracy = 0.6997\n",
      "Epoch 14/10000 took 2.0261 seconds\n"
     ]
    },
    {
     "name": "stdout",
     "output_type": "stream",
     "text": [
      "Current lr= 0.0005 Updated lr= 0.00025\n",
      "Epoch 15: Training Loss = 0.3949, Validation Loss = 1.1253, Validation Accuracy = 0.6985\n",
      "Epoch 15/10000 took 2.0252 seconds\n"
     ]
    },
    {
     "name": "stdout",
     "output_type": "stream",
     "text": [
      "Epoch 16: Training Loss = 0.3519, Validation Loss = 1.1346, Validation Accuracy = 0.7063\n",
      "Epoch 16/10000 took 2.0242 seconds\n"
     ]
    },
    {
     "name": "stdout",
     "output_type": "stream",
     "text": [
      "Epoch 17: Training Loss = 0.3303, Validation Loss = 1.1871, Validation Accuracy = 0.7001\n",
      "Epoch 17/10000 took 2.0202 seconds\n"
     ]
    },
    {
     "name": "stdout",
     "output_type": "stream",
     "text": [
      "Epoch 18: Training Loss = 0.3156, Validation Loss = 1.2109, Validation Accuracy = 0.7017\n",
      "Epoch 18/10000 took 2.0116 seconds\n"
     ]
    },
    {
     "name": "stdout",
     "output_type": "stream",
     "text": [
      "Epoch 19: Training Loss = 0.3068, Validation Loss = 1.2312, Validation Accuracy = 0.7003\n",
      "Epoch 19/10000 took 2.0211 seconds\n"
     ]
    },
    {
     "name": "stdout",
     "output_type": "stream",
     "text": [
      "Current lr= 0.00025 Updated lr= 0.000125\n",
      "Epoch 20: Training Loss = 0.2919, Validation Loss = 1.2665, Validation Accuracy = 0.7045\n",
      "Epoch 20/10000 took 2.0178 seconds\n"
     ]
    },
    {
     "name": "stdout",
     "output_type": "stream",
     "text": [
      "Epoch 21: Training Loss = 0.2742, Validation Loss = 1.2601, Validation Accuracy = 0.7073\n",
      "Early stopping triggered at epoch 21\n",
      "Finished training after 21 epochs!\n"
     ]
    },
    {
     "name": "stdout",
     "output_type": "stream",
     "text": [
      "---------------------------------------------------------------------------\n",
      "Dense layer output(output_layer) shape: [1, 10]\n",
      "DenseBlock1:\n",
      "\tDropout layer output(DenseBlock1/dropout) shape: [1, 512]\n",
      "\tDense layer output(DenseBlock1/dense_0) shape: [1, 512]\n",
      "Flatten layer output(flat) shape: [1, 512]\n",
      "ConvBlock5:\n",
      "\tMaxPool2D layer output(ConvBlock5/maxpool2) shape: [1, 1, 1, 512]\n",
      "\tConv2D layer output(ConvBlock5/conv_2) shape: [1, 2, 2, 512]\n",
      "\tConv2D layer output(ConvBlock5/conv_1) shape: [1, 2, 2, 512]\n",
      "\tConv2D layer output(ConvBlock5/conv_0) shape: [1, 2, 2, 512]\n",
      "ConvBlock4:\n",
      "\tMaxPool2D layer output(ConvBlock4/maxpool2) shape: [1, 2, 2, 512]\n",
      "\tConv2D layer output(ConvBlock4/conv_2) shape: [1, 4, 4, 512]\n",
      "\tConv2D layer output(ConvBlock4/conv_1) shape: [1, 4, 4, 512]\n",
      "\tConv2D layer output(ConvBlock4/conv_0) shape: [1, 4, 4, 512]\n",
      "ConvBlock3:\n",
      "\tMaxPool2D layer output(ConvBlock3/maxpool2) shape: [1, 4, 4, 256]\n",
      "\tConv2D layer output(ConvBlock3/conv_2) shape: [1, 8, 8, 256]\n",
      "\tConv2D layer output(ConvBlock3/conv_1) shape: [1, 8, 8, 256]\n",
      "\tConv2D layer output(ConvBlock3/conv_0) shape: [1, 8, 8, 256]\n",
      "ConvBlock2:\n",
      "\tMaxPool2D layer output(ConvBlock2/maxpool2) shape: [1, 8, 8, 128]\n",
      "\tConv2D layer output(ConvBlock2/conv_1) shape: [1, 16, 16, 128]\n",
      "\tConv2D layer output(ConvBlock2/conv_0) shape: [1, 16, 16, 128]\n",
      "ConvBlock1:\n",
      "\tMaxPool2D layer output(ConvBlock1/maxpool2) shape: [1, 16, 16, 64]\n",
      "\tConv2D layer output(ConvBlock1/conv_1) shape: [1, 32, 32, 64]\n",
      "\tConv2D layer output(ConvBlock1/conv_0) shape: [1, 32, 32, 64]\n",
      "---------------------------------------------------------------------------\n"
     ]
    },
    {
     "name": "stdout",
     "output_type": "stream",
     "text": [
      "Epoch 1: Training Loss = 1.9780, Validation Loss = 1.6483, Validation Accuracy = 0.3381\n",
      "Epoch 1/10000 took 14.5340 seconds\n"
     ]
    },
    {
     "name": "stdout",
     "output_type": "stream",
     "text": [
      "Epoch 2: Training Loss = 1.4917, Validation Loss = 1.3703, Validation Accuracy = 0.4838\n",
      "Epoch 2/10000 took 8.0881 seconds\n"
     ]
    },
    {
     "name": "stdout",
     "output_type": "stream",
     "text": [
      "Epoch 3: Training Loss = 1.2092, Validation Loss = 1.0643, Validation Accuracy = 0.6238\n",
      "Epoch 3/10000 took 8.0855 seconds\n"
     ]
    },
    {
     "name": "stdout",
     "output_type": "stream",
     "text": [
      "Epoch 4: Training Loss = 0.9778, Validation Loss = 0.8898, Validation Accuracy = 0.6877\n",
      "Epoch 4/10000 took 8.0656 seconds\n"
     ]
    },
    {
     "name": "stdout",
     "output_type": "stream",
     "text": [
      "Epoch 5: Training Loss = 0.8500, Validation Loss = 0.9012, Validation Accuracy = 0.6995\n",
      "Epoch 5/10000 took 8.0585 seconds\n"
     ]
    },
    {
     "name": "stdout",
     "output_type": "stream",
     "text": [
      "Epoch 6: Training Loss = 0.7572, Validation Loss = 0.7923, Validation Accuracy = 0.7258\n",
      "Epoch 6/10000 took 8.0464 seconds\n"
     ]
    },
    {
     "name": "stdout",
     "output_type": "stream",
     "text": [
      "Epoch 7: Training Loss = 0.6884, Validation Loss = 0.7126, Validation Accuracy = 0.7576\n",
      "Epoch 7/10000 took 8.0463 seconds\n"
     ]
    },
    {
     "name": "stdout",
     "output_type": "stream",
     "text": [
      "Epoch 8: Training Loss = 0.6142, Validation Loss = 0.7621, Validation Accuracy = 0.7570\n",
      "Epoch 8/10000 took 8.0384 seconds\n"
     ]
    },
    {
     "name": "stdout",
     "output_type": "stream",
     "text": [
      "Epoch 9: Training Loss = 0.5869, Validation Loss = 0.6898, Validation Accuracy = 0.7694\n",
      "Epoch 9/10000 took 8.0501 seconds\n"
     ]
    },
    {
     "name": "stdout",
     "output_type": "stream",
     "text": [
      "Epoch 10: Training Loss = 0.5421, Validation Loss = 0.6896, Validation Accuracy = 0.7776\n",
      "Epoch 10/10000 took 8.0559 seconds\n"
     ]
    },
    {
     "name": "stdout",
     "output_type": "stream",
     "text": [
      "Epoch 11: Training Loss = 0.5098, Validation Loss = 0.6242, Validation Accuracy = 0.7983\n",
      "Epoch 11/10000 took 8.0436 seconds\n"
     ]
    },
    {
     "name": "stdout",
     "output_type": "stream",
     "text": [
      "Epoch 12: Training Loss = 0.4878, Validation Loss = 0.6249, Validation Accuracy = 0.8007\n",
      "Epoch 12/10000 took 8.0655 seconds\n"
     ]
    },
    {
     "name": "stdout",
     "output_type": "stream",
     "text": [
      "Epoch 13: Training Loss = 0.4732, Validation Loss = 0.7140, Validation Accuracy = 0.7762\n",
      "Epoch 13/10000 took 8.0627 seconds\n"
     ]
    },
    {
     "name": "stdout",
     "output_type": "stream",
     "text": [
      "Epoch 14: Training Loss = 0.4493, Validation Loss = 0.6185, Validation Accuracy = 0.8117\n",
      "Epoch 14/10000 took 8.0643 seconds\n"
     ]
    },
    {
     "name": "stdout",
     "output_type": "stream",
     "text": [
      "Epoch 15: Training Loss = 0.4459, Validation Loss = 0.6478, Validation Accuracy = 0.7937\n",
      "Epoch 15/10000 took 8.0696 seconds\n"
     ]
    },
    {
     "name": "stdout",
     "output_type": "stream",
     "text": [
      "Epoch 16: Training Loss = 0.4326, Validation Loss = 0.6171, Validation Accuracy = 0.8147\n",
      "Epoch 16/10000 took 8.0770 seconds\n"
     ]
    },
    {
     "name": "stdout",
     "output_type": "stream",
     "text": [
      "Epoch 17: Training Loss = 0.4195, Validation Loss = 0.6406, Validation Accuracy = 0.8077\n",
      "Epoch 17/10000 took 8.0735 seconds\n"
     ]
    },
    {
     "name": "stdout",
     "output_type": "stream",
     "text": [
      "Epoch 18: Training Loss = 0.3997, Validation Loss = 0.6701, Validation Accuracy = 0.7913\n",
      "Epoch 18/10000 took 8.0679 seconds\n"
     ]
    },
    {
     "name": "stdout",
     "output_type": "stream",
     "text": [
      "Current lr= 0.001 Updated lr= 0.0005\n",
      "Epoch 19: Training Loss = 0.4120, Validation Loss = 0.7273, Validation Accuracy = 0.7774\n",
      "Epoch 19/10000 took 8.0717 seconds\n"
     ]
    },
    {
     "name": "stdout",
     "output_type": "stream",
     "text": [
      "Epoch 20: Training Loss = 0.2410, Validation Loss = 0.5353, Validation Accuracy = 0.8371\n",
      "Epoch 20/10000 took 8.0680 seconds\n"
     ]
    },
    {
     "name": "stdout",
     "output_type": "stream",
     "text": [
      "Epoch 21: Training Loss = 0.2001, Validation Loss = 0.5983, Validation Accuracy = 0.8323\n",
      "Epoch 21/10000 took 8.0826 seconds\n"
     ]
    },
    {
     "name": "stdout",
     "output_type": "stream",
     "text": [
      "Epoch 22: Training Loss = 0.1961, Validation Loss = 0.6235, Validation Accuracy = 0.8315\n",
      "Epoch 22/10000 took 8.0778 seconds\n"
     ]
    },
    {
     "name": "stdout",
     "output_type": "stream",
     "text": [
      "Epoch 23: Training Loss = 0.1893, Validation Loss = 0.6024, Validation Accuracy = 0.8359\n",
      "Epoch 23/10000 took 8.0651 seconds\n"
     ]
    },
    {
     "name": "stdout",
     "output_type": "stream",
     "text": [
      "Epoch 24: Training Loss = 0.1872, Validation Loss = 0.5671, Validation Accuracy = 0.8369\n",
      "Epoch 24/10000 took 8.0832 seconds\n"
     ]
    },
    {
     "name": "stdout",
     "output_type": "stream",
     "text": [
      "Epoch 25: Training Loss = 0.1763, Validation Loss = 0.6321, Validation Accuracy = 0.8295\n",
      "Epoch 25/10000 took 8.0762 seconds\n"
     ]
    },
    {
     "name": "stdout",
     "output_type": "stream",
     "text": [
      "Epoch 26: Training Loss = 0.1760, Validation Loss = 0.5782, Validation Accuracy = 0.8417\n",
      "Epoch 26/10000 took 8.0791 seconds\n"
     ]
    },
    {
     "name": "stdout",
     "output_type": "stream",
     "text": [
      "Current lr= 0.0005 Updated lr= 0.00025\n",
      "Epoch 27: Training Loss = 0.1735, Validation Loss = 0.6867, Validation Accuracy = 0.8191\n",
      "Epoch 27/10000 took 8.0877 seconds\n"
     ]
    },
    {
     "name": "stdout",
     "output_type": "stream",
     "text": [
      "Epoch 28: Training Loss = 0.0766, Validation Loss = 0.6563, Validation Accuracy = 0.8496\n",
      "Epoch 28/10000 took 8.0863 seconds\n"
     ]
    },
    {
     "name": "stdout",
     "output_type": "stream",
     "text": [
      "Epoch 29: Training Loss = 0.0547, Validation Loss = 0.7740, Validation Accuracy = 0.8373\n",
      "Epoch 29/10000 took 8.0982 seconds\n"
     ]
    },
    {
     "name": "stdout",
     "output_type": "stream",
     "text": [
      "Epoch 30: Training Loss = 0.0646, Validation Loss = 0.6748, Validation Accuracy = 0.8423\n",
      "Epoch 30/10000 took 8.0949 seconds\n"
     ]
    },
    {
     "name": "stdout",
     "output_type": "stream",
     "text": [
      "Epoch 31: Training Loss = 0.0676, Validation Loss = 0.6897, Validation Accuracy = 0.8345\n",
      "Epoch 31/10000 took 8.1054 seconds\n"
     ]
    },
    {
     "name": "stdout",
     "output_type": "stream",
     "text": [
      "Epoch 32: Training Loss = 0.0625, Validation Loss = 0.6826, Validation Accuracy = 0.8438\n",
      "Epoch 32/10000 took 8.1100 seconds\n"
     ]
    },
    {
     "name": "stdout",
     "output_type": "stream",
     "text": [
      "Current lr= 0.00025 Updated lr= 0.000125\n",
      "Epoch 33: Training Loss = 0.0601, Validation Loss = 0.6924, Validation Accuracy = 0.8355\n",
      "Epoch 33/10000 took 8.1085 seconds\n"
     ]
    },
    {
     "name": "stdout",
     "output_type": "stream",
     "text": [
      "Epoch 34: Training Loss = 0.0210, Validation Loss = 0.7288, Validation Accuracy = 0.8532\n",
      "Early stopping triggered at epoch 34\n",
      "Finished training after 34 epochs!\n"
     ]
    },
    {
     "name": "stdout",
     "output_type": "stream",
     "text": [
      "---------------------------------------------------------------------------\n",
      "Dense layer output(output_layer) shape: [1, 10]\n",
      "DenseBlock1:\n",
      "\tDropout layer output(DenseBlock1/dropout) shape: [1, 512]\n",
      "\tDense layer output(DenseBlock1/dense_0) shape: [1, 512]\n",
      "Flatten layer output(flat) shape: [1, 512]\n",
      "ConvBlock5:\n",
      "\tMaxPool2D layer output(ConvBlock5/maxpool2) shape: [1, 1, 1, 512]\n",
      "\tConv2D layer output(ConvBlock5/conv_2) shape: [1, 2, 2, 512]\n",
      "\tConv2D layer output(ConvBlock5/conv_1) shape: [1, 2, 2, 512]\n",
      "\tConv2D layer output(ConvBlock5/conv_0) shape: [1, 2, 2, 512]\n",
      "ConvBlock4:\n",
      "\tMaxPool2D layer output(ConvBlock4/maxpool2) shape: [1, 2, 2, 512]\n",
      "\tConv2D layer output(ConvBlock4/conv_2) shape: [1, 4, 4, 512]\n",
      "\tConv2D layer output(ConvBlock4/conv_1) shape: [1, 4, 4, 512]\n",
      "\tConv2D layer output(ConvBlock4/conv_0) shape: [1, 4, 4, 512]\n",
      "ConvBlock3:\n",
      "\tMaxPool2D layer output(ConvBlock3/maxpool2) shape: [1, 4, 4, 256]\n",
      "\tConv2D layer output(ConvBlock3/conv_2) shape: [1, 8, 8, 256]\n",
      "\tConv2D layer output(ConvBlock3/conv_1) shape: [1, 8, 8, 256]\n",
      "\tConv2D layer output(ConvBlock3/conv_0) shape: [1, 8, 8, 256]\n",
      "ConvBlock2:\n",
      "\tMaxPool2D layer output(ConvBlock2/maxpool2) shape: [1, 8, 8, 128]\n",
      "\tConv2D layer output(ConvBlock2/conv_1) shape: [1, 16, 16, 128]\n",
      "\tConv2D layer output(ConvBlock2/conv_0) shape: [1, 16, 16, 128]\n",
      "ConvBlock1:\n",
      "\tMaxPool2D layer output(ConvBlock1/maxpool2) shape: [1, 16, 16, 64]\n",
      "\tConv2D layer output(ConvBlock1/conv_1) shape: [1, 32, 32, 64]\n",
      "\tConv2D layer output(ConvBlock1/conv_0) shape: [1, 32, 32, 64]\n",
      "---------------------------------------------------------------------------\n"
     ]
    },
    {
     "name": "stdout",
     "output_type": "stream",
     "text": [
      "Epoch 1: Training Loss = 2.3084, Validation Loss = 2.1784, Validation Accuracy = 0.1855\n",
      "Epoch 1/10000 took 14.5647 seconds\n"
     ]
    },
    {
     "name": "stdout",
     "output_type": "stream",
     "text": [
      "Epoch 2: Training Loss = 1.9074, Validation Loss = 1.7603, Validation Accuracy = 0.2718\n",
      "Epoch 2/10000 took 8.0616 seconds\n"
     ]
    },
    {
     "name": "stdout",
     "output_type": "stream",
     "text": [
      "Epoch 3: Training Loss = 1.6185, Validation Loss = 1.4398, Validation Accuracy = 0.4341\n",
      "Epoch 3/10000 took 8.0798 seconds\n"
     ]
    },
    {
     "name": "stdout",
     "output_type": "stream",
     "text": [
      "Epoch 4: Training Loss = 1.3051, Validation Loss = 1.2376, Validation Accuracy = 0.5543\n",
      "Epoch 4/10000 took 8.0748 seconds\n"
     ]
    },
    {
     "name": "stdout",
     "output_type": "stream",
     "text": [
      "Epoch 5: Training Loss = 1.0661, Validation Loss = 1.0571, Validation Accuracy = 0.6342\n",
      "Epoch 5/10000 took 8.0576 seconds\n"
     ]
    },
    {
     "name": "stdout",
     "output_type": "stream",
     "text": [
      "Epoch 6: Training Loss = 0.9170, Validation Loss = 0.9134, Validation Accuracy = 0.6715\n",
      "Epoch 6/10000 took 8.0506 seconds\n"
     ]
    },
    {
     "name": "stdout",
     "output_type": "stream",
     "text": [
      "Epoch 7: Training Loss = 0.7936, Validation Loss = 0.7407, Validation Accuracy = 0.7416\n",
      "Epoch 7/10000 took 8.0275 seconds\n"
     ]
    },
    {
     "name": "stdout",
     "output_type": "stream",
     "text": [
      "Epoch 8: Training Loss = 0.7032, Validation Loss = 0.7401, Validation Accuracy = 0.7512\n",
      "Epoch 8/10000 took 8.0168 seconds\n"
     ]
    },
    {
     "name": "stdout",
     "output_type": "stream",
     "text": [
      "Epoch 9: Training Loss = 0.6378, Validation Loss = 0.7958, Validation Accuracy = 0.7358\n",
      "Epoch 9/10000 took 8.0169 seconds\n"
     ]
    },
    {
     "name": "stdout",
     "output_type": "stream",
     "text": [
      "Epoch 10: Training Loss = 0.6005, Validation Loss = 0.6864, Validation Accuracy = 0.7758\n",
      "Epoch 10/10000 took 8.0141 seconds\n"
     ]
    },
    {
     "name": "stdout",
     "output_type": "stream",
     "text": [
      "Epoch 11: Training Loss = 0.5521, Validation Loss = 0.7008, Validation Accuracy = 0.7722\n",
      "Epoch 11/10000 took 8.0019 seconds\n"
     ]
    },
    {
     "name": "stdout",
     "output_type": "stream",
     "text": [
      "Epoch 12: Training Loss = 0.5372, Validation Loss = 0.6434, Validation Accuracy = 0.7949\n",
      "Epoch 12/10000 took 7.9964 seconds\n"
     ]
    },
    {
     "name": "stdout",
     "output_type": "stream",
     "text": [
      "Epoch 13: Training Loss = 0.5012, Validation Loss = 0.6742, Validation Accuracy = 0.7913\n",
      "Epoch 13/10000 took 8.0234 seconds\n"
     ]
    },
    {
     "name": "stdout",
     "output_type": "stream",
     "text": [
      "Epoch 14: Training Loss = 0.4858, Validation Loss = 0.7366, Validation Accuracy = 0.7734\n",
      "Epoch 14/10000 took 8.0128 seconds\n"
     ]
    },
    {
     "name": "stdout",
     "output_type": "stream",
     "text": [
      "Epoch 15: Training Loss = 0.4747, Validation Loss = 0.6385, Validation Accuracy = 0.8019\n",
      "Epoch 15/10000 took 8.0400 seconds\n"
     ]
    },
    {
     "name": "stdout",
     "output_type": "stream",
     "text": [
      "Epoch 16: Training Loss = 0.4548, Validation Loss = 0.6260, Validation Accuracy = 0.7999\n",
      "Epoch 16/10000 took 8.0307 seconds\n"
     ]
    },
    {
     "name": "stdout",
     "output_type": "stream",
     "text": [
      "Epoch 17: Training Loss = 0.4387, Validation Loss = 0.6429, Validation Accuracy = 0.7833\n",
      "Epoch 17/10000 took 8.0424 seconds\n"
     ]
    },
    {
     "name": "stdout",
     "output_type": "stream",
     "text": [
      "Epoch 18: Training Loss = 0.4448, Validation Loss = 0.7026, Validation Accuracy = 0.7891\n",
      "Epoch 18/10000 took 8.0321 seconds\n"
     ]
    },
    {
     "name": "stdout",
     "output_type": "stream",
     "text": [
      "Current lr= 0.001 Updated lr= 0.0005\n",
      "Epoch 19: Training Loss = 0.4235, Validation Loss = 0.6276, Validation Accuracy = 0.7971\n",
      "Epoch 19/10000 took 8.0423 seconds\n"
     ]
    },
    {
     "name": "stdout",
     "output_type": "stream",
     "text": [
      "Epoch 20: Training Loss = 0.2636, Validation Loss = 0.5557, Validation Accuracy = 0.8367\n",
      "Epoch 20/10000 took 8.0533 seconds\n"
     ]
    },
    {
     "name": "stdout",
     "output_type": "stream",
     "text": [
      "Epoch 21: Training Loss = 0.2234, Validation Loss = 0.5881, Validation Accuracy = 0.8275\n",
      "Epoch 21/10000 took 8.0563 seconds\n"
     ]
    },
    {
     "name": "stdout",
     "output_type": "stream",
     "text": [
      "Epoch 22: Training Loss = 0.2128, Validation Loss = 0.6023, Validation Accuracy = 0.8291\n",
      "Epoch 22/10000 took 8.1383 seconds\n"
     ]
    },
    {
     "name": "stdout",
     "output_type": "stream",
     "text": [
      "Epoch 23: Training Loss = 0.2147, Validation Loss = 0.5976, Validation Accuracy = 0.8309\n",
      "Epoch 23/10000 took 8.0468 seconds\n"
     ]
    },
    {
     "name": "stdout",
     "output_type": "stream",
     "text": [
      "Epoch 24: Training Loss = 0.1933, Validation Loss = 0.5711, Validation Accuracy = 0.8307\n",
      "Epoch 24/10000 took 8.0479 seconds\n"
     ]
    },
    {
     "name": "stdout",
     "output_type": "stream",
     "text": [
      "Epoch 25: Training Loss = 0.2030, Validation Loss = 0.6268, Validation Accuracy = 0.8231\n",
      "Epoch 25/10000 took 8.0598 seconds\n"
     ]
    },
    {
     "name": "stdout",
     "output_type": "stream",
     "text": [
      "Epoch 26: Training Loss = 0.1940, Validation Loss = 0.6074, Validation Accuracy = 0.8323\n",
      "Epoch 26/10000 took 8.0537 seconds\n"
     ]
    },
    {
     "name": "stdout",
     "output_type": "stream",
     "text": [
      "Current lr= 0.0005 Updated lr= 0.00025\n",
      "Epoch 27: Training Loss = 0.1880, Validation Loss = 0.6665, Validation Accuracy = 0.8217\n",
      "Epoch 27/10000 took 8.0576 seconds\n"
     ]
    },
    {
     "name": "stdout",
     "output_type": "stream",
     "text": [
      "Epoch 28: Training Loss = 0.0841, Validation Loss = 0.6029, Validation Accuracy = 0.8530\n",
      "Epoch 28/10000 took 8.0455 seconds\n"
     ]
    },
    {
     "name": "stdout",
     "output_type": "stream",
     "text": [
      "Epoch 29: Training Loss = 0.0666, Validation Loss = 0.6281, Validation Accuracy = 0.8470\n",
      "Epoch 29/10000 took 8.0592 seconds\n"
     ]
    },
    {
     "name": "stdout",
     "output_type": "stream",
     "text": [
      "Epoch 30: Training Loss = 0.0651, Validation Loss = 0.6817, Validation Accuracy = 0.8490\n",
      "Epoch 30/10000 took 8.0573 seconds\n"
     ]
    },
    {
     "name": "stdout",
     "output_type": "stream",
     "text": [
      "Epoch 31: Training Loss = 0.0678, Validation Loss = 0.6368, Validation Accuracy = 0.8492\n",
      "Epoch 31/10000 took 8.0612 seconds\n"
     ]
    },
    {
     "name": "stdout",
     "output_type": "stream",
     "text": [
      "Current lr= 0.00025 Updated lr= 0.000125\n",
      "Epoch 32: Training Loss = 0.0691, Validation Loss = 0.6480, Validation Accuracy = 0.8393\n",
      "Epoch 32/10000 took 8.0643 seconds\n"
     ]
    },
    {
     "name": "stdout",
     "output_type": "stream",
     "text": [
      "Epoch 33: Training Loss = 0.0236, Validation Loss = 0.6491, Validation Accuracy = 0.8642\n",
      "Epoch 33/10000 took 8.0729 seconds\n"
     ]
    },
    {
     "name": "stdout",
     "output_type": "stream",
     "text": [
      "Epoch 34: Training Loss = 0.0139, Validation Loss = 0.6645, Validation Accuracy = 0.8638\n",
      "Early stopping triggered at epoch 34\n",
      "Finished training after 34 epochs!\n"
     ]
    },
    {
     "name": "stdout",
     "output_type": "stream",
     "text": [
      "---------------------------------------------------------------------------\n",
      "Dense layer output(output_layer) shape: [1, 10]\n",
      "DenseBlock1:\n",
      "\tDropout layer output(DenseBlock1/dropout) shape: [1, 512]\n",
      "\tDense layer output(DenseBlock1/dense_0) shape: [1, 512]\n",
      "Flatten layer output(flat) shape: [1, 512]\n",
      "ConvBlock5:\n",
      "\tDropout layer output(ConvBlock5/dropout) shape: [1, 1, 1, 512]\n",
      "\tMaxPool2D layer output(ConvBlock5/maxpool2) shape: [1, 1, 1, 512]\n",
      "\tConv2D layer output(ConvBlock5/conv_2) shape: [1, 2, 2, 512]\n",
      "\tConv2D layer output(ConvBlock5/conv_1) shape: [1, 2, 2, 512]\n",
      "\tConv2D layer output(ConvBlock5/conv_0) shape: [1, 2, 2, 512]\n",
      "ConvBlock4:\n",
      "\tDropout layer output(ConvBlock4/dropout) shape: [1, 2, 2, 512]\n",
      "\tMaxPool2D layer output(ConvBlock4/maxpool2) shape: [1, 2, 2, 512]\n",
      "\tConv2D layer output(ConvBlock4/conv_2) shape: [1, 4, 4, 512]\n",
      "\tConv2D layer output(ConvBlock4/conv_1) shape: [1, 4, 4, 512]\n",
      "\tConv2D layer output(ConvBlock4/conv_0) shape: [1, 4, 4, 512]\n",
      "ConvBlock3:\n",
      "\tDropout layer output(ConvBlock3/dropout) shape: [1, 4, 4, 256]\n",
      "\tMaxPool2D layer output(ConvBlock3/maxpool2) shape: [1, 4, 4, 256]\n",
      "\tConv2D layer output(ConvBlock3/conv_2) shape: [1, 8, 8, 256]\n",
      "\tConv2D layer output(ConvBlock3/conv_1) shape: [1, 8, 8, 256]\n",
      "\tConv2D layer output(ConvBlock3/conv_0) shape: [1, 8, 8, 256]\n",
      "ConvBlock2:\n",
      "\tDropout layer output(ConvBlock2/dropout) shape: [1, 8, 8, 128]\n",
      "\tMaxPool2D layer output(ConvBlock2/maxpool2) shape: [1, 8, 8, 128]\n",
      "\tConv2D layer output(ConvBlock2/conv_1) shape: [1, 16, 16, 128]\n",
      "\tConv2D layer output(ConvBlock2/conv_0) shape: [1, 16, 16, 128]\n",
      "ConvBlock1:\n",
      "\tDropout layer output(ConvBlock1/dropout) shape: [1, 16, 16, 64]\n",
      "\tMaxPool2D layer output(ConvBlock1/maxpool2) shape: [1, 16, 16, 64]\n",
      "\tConv2D layer output(ConvBlock1/conv_1) shape: [1, 32, 32, 64]\n",
      "\tConv2D layer output(ConvBlock1/conv_0) shape: [1, 32, 32, 64]\n",
      "---------------------------------------------------------------------------\n"
     ]
    },
    {
     "name": "stdout",
     "output_type": "stream",
     "text": [
      "Epoch 1: Training Loss = 2.1111, Validation Loss = 1.8847, Validation Accuracy = 0.2173\n",
      "Epoch 1/10000 took 17.8541 seconds\n"
     ]
    },
    {
     "name": "stdout",
     "output_type": "stream",
     "text": [
      "Epoch 2: Training Loss = 1.7792, Validation Loss = 1.5911, Validation Accuracy = 0.3628\n",
      "Epoch 2/10000 took 8.2313 seconds\n"
     ]
    },
    {
     "name": "stdout",
     "output_type": "stream",
     "text": [
      "Epoch 3: Training Loss = 1.5563, Validation Loss = 1.6096, Validation Accuracy = 0.4099\n",
      "Epoch 3/10000 took 8.2615 seconds\n"
     ]
    },
    {
     "name": "stdout",
     "output_type": "stream",
     "text": [
      "Epoch 4: Training Loss = 1.3797, Validation Loss = 1.1477, Validation Accuracy = 0.5733\n",
      "Epoch 4/10000 took 8.2653 seconds\n"
     ]
    },
    {
     "name": "stdout",
     "output_type": "stream",
     "text": [
      "Epoch 5: Training Loss = 1.2305, Validation Loss = 1.1186, Validation Accuracy = 0.5964\n",
      "Epoch 5/10000 took 8.2559 seconds\n"
     ]
    },
    {
     "name": "stdout",
     "output_type": "stream",
     "text": [
      "Epoch 6: Training Loss = 1.1035, Validation Loss = 0.9991, Validation Accuracy = 0.6490\n",
      "Epoch 6/10000 took 8.2162 seconds\n"
     ]
    },
    {
     "name": "stdout",
     "output_type": "stream",
     "text": [
      "Epoch 7: Training Loss = 0.9918, Validation Loss = 0.8634, Validation Accuracy = 0.7013\n",
      "Epoch 7/10000 took 8.2280 seconds\n"
     ]
    },
    {
     "name": "stdout",
     "output_type": "stream",
     "text": [
      "Epoch 8: Training Loss = 0.9290, Validation Loss = 0.8551, Validation Accuracy = 0.7099\n",
      "Epoch 8/10000 took 8.2023 seconds\n"
     ]
    },
    {
     "name": "stdout",
     "output_type": "stream",
     "text": [
      "Epoch 9: Training Loss = 0.8819, Validation Loss = 0.8519, Validation Accuracy = 0.7099\n",
      "Epoch 9/10000 took 8.1894 seconds\n"
     ]
    },
    {
     "name": "stdout",
     "output_type": "stream",
     "text": [
      "Epoch 10: Training Loss = 0.8282, Validation Loss = 0.7631, Validation Accuracy = 0.7374\n",
      "Epoch 10/10000 took 8.1701 seconds\n"
     ]
    },
    {
     "name": "stdout",
     "output_type": "stream",
     "text": [
      "Epoch 11: Training Loss = 0.8001, Validation Loss = 0.7087, Validation Accuracy = 0.7698\n",
      "Epoch 11/10000 took 8.1715 seconds\n"
     ]
    },
    {
     "name": "stdout",
     "output_type": "stream",
     "text": [
      "Epoch 12: Training Loss = 0.7582, Validation Loss = 0.6813, Validation Accuracy = 0.7754\n",
      "Epoch 12/10000 took 8.1867 seconds\n"
     ]
    },
    {
     "name": "stdout",
     "output_type": "stream",
     "text": [
      "Epoch 13: Training Loss = 0.7578, Validation Loss = 0.6782, Validation Accuracy = 0.7786\n",
      "Epoch 13/10000 took 8.1828 seconds\n"
     ]
    },
    {
     "name": "stdout",
     "output_type": "stream",
     "text": [
      "Epoch 14: Training Loss = 0.7226, Validation Loss = 0.7040, Validation Accuracy = 0.7654\n",
      "Epoch 14/10000 took 8.1734 seconds\n"
     ]
    },
    {
     "name": "stdout",
     "output_type": "stream",
     "text": [
      "Epoch 15: Training Loss = 0.7122, Validation Loss = 0.6775, Validation Accuracy = 0.7812\n",
      "Epoch 15/10000 took 8.2005 seconds\n"
     ]
    },
    {
     "name": "stdout",
     "output_type": "stream",
     "text": [
      "Epoch 16: Training Loss = 0.6862, Validation Loss = 0.6224, Validation Accuracy = 0.7985\n",
      "Epoch 16/10000 took 8.1974 seconds\n"
     ]
    },
    {
     "name": "stdout",
     "output_type": "stream",
     "text": [
      "Epoch 17: Training Loss = 0.6837, Validation Loss = 0.6215, Validation Accuracy = 0.8001\n",
      "Epoch 17/10000 took 8.1986 seconds\n"
     ]
    },
    {
     "name": "stdout",
     "output_type": "stream",
     "text": [
      "Epoch 18: Training Loss = 0.6808, Validation Loss = 0.6136, Validation Accuracy = 0.7979\n",
      "Epoch 18/10000 took 8.2188 seconds\n"
     ]
    },
    {
     "name": "stdout",
     "output_type": "stream",
     "text": [
      "Epoch 19: Training Loss = 0.6550, Validation Loss = 0.6147, Validation Accuracy = 0.8021\n",
      "Epoch 19/10000 took 8.2041 seconds\n"
     ]
    },
    {
     "name": "stdout",
     "output_type": "stream",
     "text": [
      "Epoch 20: Training Loss = 0.6492, Validation Loss = 0.6099, Validation Accuracy = 0.8001\n",
      "Epoch 20/10000 took 8.2052 seconds\n"
     ]
    },
    {
     "name": "stdout",
     "output_type": "stream",
     "text": [
      "Epoch 21: Training Loss = 0.6443, Validation Loss = 0.6384, Validation Accuracy = 0.7935\n",
      "Epoch 21/10000 took 8.2020 seconds\n"
     ]
    },
    {
     "name": "stdout",
     "output_type": "stream",
     "text": [
      "Epoch 22: Training Loss = 0.6394, Validation Loss = 0.5958, Validation Accuracy = 0.8107\n",
      "Epoch 22/10000 took 8.2124 seconds\n"
     ]
    },
    {
     "name": "stdout",
     "output_type": "stream",
     "text": [
      "Epoch 23: Training Loss = 0.6249, Validation Loss = 0.7592, Validation Accuracy = 0.7604\n",
      "Epoch 23/10000 took 8.2165 seconds\n"
     ]
    },
    {
     "name": "stdout",
     "output_type": "stream",
     "text": [
      "Epoch 24: Training Loss = 0.6366, Validation Loss = 0.5860, Validation Accuracy = 0.8107\n",
      "Epoch 24/10000 took 8.1980 seconds\n"
     ]
    },
    {
     "name": "stdout",
     "output_type": "stream",
     "text": [
      "Epoch 25: Training Loss = 0.6179, Validation Loss = 0.6256, Validation Accuracy = 0.8013\n",
      "Epoch 25/10000 took 8.1926 seconds\n"
     ]
    },
    {
     "name": "stdout",
     "output_type": "stream",
     "text": [
      "Epoch 26: Training Loss = 0.6274, Validation Loss = 0.6196, Validation Accuracy = 0.8043\n",
      "Epoch 26/10000 took 8.2008 seconds\n"
     ]
    },
    {
     "name": "stdout",
     "output_type": "stream",
     "text": [
      "Current lr= 0.001 Updated lr= 0.0005\n",
      "Epoch 27: Training Loss = 0.6188, Validation Loss = 0.6268, Validation Accuracy = 0.8057\n",
      "Epoch 27/10000 took 8.2036 seconds\n"
     ]
    },
    {
     "name": "stdout",
     "output_type": "stream",
     "text": [
      "Epoch 28: Training Loss = 0.4746, Validation Loss = 0.5020, Validation Accuracy = 0.8425\n",
      "Epoch 28/10000 took 8.1998 seconds\n"
     ]
    },
    {
     "name": "stdout",
     "output_type": "stream",
     "text": [
      "Epoch 29: Training Loss = 0.4539, Validation Loss = 0.4838, Validation Accuracy = 0.8492\n",
      "Epoch 29/10000 took 8.2200 seconds\n"
     ]
    },
    {
     "name": "stdout",
     "output_type": "stream",
     "text": [
      "Epoch 30: Training Loss = 0.4414, Validation Loss = 0.5029, Validation Accuracy = 0.8381\n",
      "Epoch 30/10000 took 8.2109 seconds\n"
     ]
    },
    {
     "name": "stdout",
     "output_type": "stream",
     "text": [
      "Epoch 31: Training Loss = 0.4384, Validation Loss = 0.5352, Validation Accuracy = 0.8387\n",
      "Epoch 31/10000 took 8.2098 seconds\n"
     ]
    },
    {
     "name": "stdout",
     "output_type": "stream",
     "text": [
      "Epoch 32: Training Loss = 0.4388, Validation Loss = 0.4824, Validation Accuracy = 0.8456\n",
      "Epoch 32/10000 took 8.2082 seconds\n"
     ]
    },
    {
     "name": "stdout",
     "output_type": "stream",
     "text": [
      "Epoch 33: Training Loss = 0.4412, Validation Loss = 0.5341, Validation Accuracy = 0.8343\n",
      "Epoch 33/10000 took 8.2038 seconds\n"
     ]
    },
    {
     "name": "stdout",
     "output_type": "stream",
     "text": [
      "Epoch 34: Training Loss = 0.4267, Validation Loss = 0.4809, Validation Accuracy = 0.8446\n",
      "Epoch 34/10000 took 8.2186 seconds\n"
     ]
    },
    {
     "name": "stdout",
     "output_type": "stream",
     "text": [
      "Epoch 35: Training Loss = 0.4253, Validation Loss = 0.4876, Validation Accuracy = 0.8502\n",
      "Epoch 35/10000 took 8.2261 seconds\n"
     ]
    },
    {
     "name": "stdout",
     "output_type": "stream",
     "text": [
      "Epoch 36: Training Loss = 0.4175, Validation Loss = 0.5516, Validation Accuracy = 0.8219\n",
      "Epoch 36/10000 took 8.2180 seconds\n"
     ]
    },
    {
     "name": "stdout",
     "output_type": "stream",
     "text": [
      "Current lr= 0.0005 Updated lr= 0.00025\n",
      "Epoch 37: Training Loss = 0.4117, Validation Loss = 0.5213, Validation Accuracy = 0.8325\n",
      "Epoch 37/10000 took 8.2306 seconds\n"
     ]
    },
    {
     "name": "stdout",
     "output_type": "stream",
     "text": [
      "Epoch 38: Training Loss = 0.3177, Validation Loss = 0.4319, Validation Accuracy = 0.8612\n",
      "Epoch 38/10000 took 8.2230 seconds\n"
     ]
    },
    {
     "name": "stdout",
     "output_type": "stream",
     "text": [
      "Epoch 39: Training Loss = 0.3007, Validation Loss = 0.4193, Validation Accuracy = 0.8706\n",
      "Epoch 39/10000 took 8.2226 seconds\n"
     ]
    },
    {
     "name": "stdout",
     "output_type": "stream",
     "text": [
      "Epoch 40: Training Loss = 0.2943, Validation Loss = 0.4453, Validation Accuracy = 0.8692\n",
      "Epoch 40/10000 took 8.2223 seconds\n"
     ]
    },
    {
     "name": "stdout",
     "output_type": "stream",
     "text": [
      "Epoch 41: Training Loss = 0.2892, Validation Loss = 0.4237, Validation Accuracy = 0.8724\n",
      "Epoch 41/10000 took 8.2209 seconds\n"
     ]
    },
    {
     "name": "stdout",
     "output_type": "stream",
     "text": [
      "Current lr= 0.00025 Updated lr= 0.000125\n",
      "Epoch 42: Training Loss = 0.2913, Validation Loss = 0.4605, Validation Accuracy = 0.8600\n",
      "Epoch 42/10000 took 8.2257 seconds\n"
     ]
    },
    {
     "name": "stdout",
     "output_type": "stream",
     "text": [
      "Epoch 43: Training Loss = 0.2398, Validation Loss = 0.4084, Validation Accuracy = 0.8768\n",
      "Epoch 43/10000 took 8.2160 seconds\n"
     ]
    },
    {
     "name": "stdout",
     "output_type": "stream",
     "text": [
      "Epoch 44: Training Loss = 0.2204, Validation Loss = 0.4011, Validation Accuracy = 0.8804\n",
      "Epoch 44/10000 took 8.2153 seconds\n"
     ]
    },
    {
     "name": "stdout",
     "output_type": "stream",
     "text": [
      "Epoch 45: Training Loss = 0.2189, Validation Loss = 0.4146, Validation Accuracy = 0.8780\n",
      "Epoch 45/10000 took 8.2237 seconds\n"
     ]
    },
    {
     "name": "stdout",
     "output_type": "stream",
     "text": [
      "Epoch 46: Training Loss = 0.2086, Validation Loss = 0.3860, Validation Accuracy = 0.8890\n",
      "Epoch 46/10000 took 8.2247 seconds\n"
     ]
    },
    {
     "name": "stdout",
     "output_type": "stream",
     "text": [
      "Epoch 47: Training Loss = 0.2098, Validation Loss = 0.4170, Validation Accuracy = 0.8744\n",
      "Epoch 47/10000 took 8.2191 seconds\n"
     ]
    },
    {
     "name": "stdout",
     "output_type": "stream",
     "text": [
      "Epoch 48: Training Loss = 0.2051, Validation Loss = 0.4169, Validation Accuracy = 0.8774\n",
      "Epoch 48/10000 took 8.2148 seconds\n"
     ]
    },
    {
     "name": "stdout",
     "output_type": "stream",
     "text": [
      "Current lr= 0.000125 Updated lr= 6.25e-05\n",
      "Epoch 49: Training Loss = 0.1952, Validation Loss = 0.4145, Validation Accuracy = 0.8790\n",
      "Epoch 49/10000 took 8.2238 seconds\n"
     ]
    },
    {
     "name": "stdout",
     "output_type": "stream",
     "text": [
      "Epoch 50: Training Loss = 0.1649, Validation Loss = 0.4094, Validation Accuracy = 0.8810\n",
      "Epoch 50/10000 took 8.2218 seconds\n"
     ]
    },
    {
     "name": "stdout",
     "output_type": "stream",
     "text": [
      "Epoch 51: Training Loss = 0.1634, Validation Loss = 0.3900, Validation Accuracy = 0.8866\n",
      "Epoch 51/10000 took 8.2364 seconds\n"
     ]
    },
    {
     "name": "stdout",
     "output_type": "stream",
     "text": [
      "Epoch 52: Training Loss = 0.1556, Validation Loss = 0.3989, Validation Accuracy = 0.8848\n",
      "Epoch 52/10000 took 8.2193 seconds\n"
     ]
    },
    {
     "name": "stdout",
     "output_type": "stream",
     "text": [
      "Epoch 53: Training Loss = 0.1524, Validation Loss = 0.4008, Validation Accuracy = 0.8886\n",
      "Epoch 53/10000 took 8.2169 seconds\n"
     ]
    },
    {
     "name": "stdout",
     "output_type": "stream",
     "text": [
      "Current lr= 6.25e-05 Updated lr= 3.125e-05\n",
      "Epoch 54: Training Loss = 0.1469, Validation Loss = 0.3915, Validation Accuracy = 0.8898\n",
      "Epoch 54/10000 took 8.2216 seconds\n"
     ]
    },
    {
     "name": "stdout",
     "output_type": "stream",
     "text": [
      "Epoch 55: Training Loss = 0.1309, Validation Loss = 0.3869, Validation Accuracy = 0.8910\n",
      "Epoch 55/10000 took 8.2170 seconds\n"
     ]
    },
    {
     "name": "stdout",
     "output_type": "stream",
     "text": [
      "Epoch 56: Training Loss = 0.1250, Validation Loss = 0.3888, Validation Accuracy = 0.8882\n",
      "Epoch 56/10000 took 8.2502 seconds\n"
     ]
    },
    {
     "name": "stdout",
     "output_type": "stream",
     "text": [
      "Epoch 57: Training Loss = 0.1243, Validation Loss = 0.3933, Validation Accuracy = 0.8940\n",
      "Epoch 57/10000 took 8.2376 seconds\n"
     ]
    },
    {
     "name": "stdout",
     "output_type": "stream",
     "text": [
      "Epoch 58: Training Loss = 0.1265, Validation Loss = 0.4073, Validation Accuracy = 0.8892\n",
      "Epoch 58/10000 took 8.2382 seconds\n"
     ]
    },
    {
     "name": "stdout",
     "output_type": "stream",
     "text": [
      "Current lr= 3.125e-05 Updated lr= 1.5625e-05\n",
      "Epoch 59: Training Loss = 0.1245, Validation Loss = 0.3941, Validation Accuracy = 0.8946\n",
      "Epoch 59/10000 took 8.2280 seconds\n"
     ]
    },
    {
     "name": "stdout",
     "output_type": "stream",
     "text": [
      "Epoch 60: Training Loss = 0.1097, Validation Loss = 0.3997, Validation Accuracy = 0.8956\n",
      "Early stopping triggered at epoch 60\n",
      "Finished training after 60 epochs!\n"
     ]
    }
   ],
   "source": [
    "net_names = ['VGG4Plus', 'VGG15', 'VGG15Plus', 'VGG15PlusPlus']\n",
    "train_losses = []\n",
    "val_losses = []\n",
    "val_accs = []\n",
    "epochs = []\n",
    "accs = []\n",
    "\n",
    "for net_name in net_names:\n",
    "    tf.keras.backend.clear_session()\n",
    "    tf.random.set_seed(0)\n",
    "\n",
    "    if net_name == 'VGG4Plus':\n",
    "        model = VGG4Plus(10, (32, 32, 3))\n",
    "    elif net_name == 'VGG15':\n",
    "        model = VGG15(10, (32, 32, 3))\n",
    "    elif net_name == 'VGG15Plus':\n",
    "        model = VGG15Plus(10, (32, 32, 3))\n",
    "    elif net_name == 'VGG15PlusPlus':\n",
    "        model = VGG15PlusPlus(10, (32, 32, 3))\n",
    "\n",
    "    model.compile(optimizer='adamw')\n",
    "    train_loss_hist, val_loss_hist, val_acc_hist, num_epochs = model.fit(x_train, y_train, x_val, y_val, patience=15, lr_patience=4)\n",
    "    test_acc = model.evaluate(x_test, y_test)[0]\n",
    "\n",
    "    train_losses.append(train_loss_hist)\n",
    "    val_losses.append(val_loss_hist)\n",
    "    val_accs.append(val_acc_hist)\n",
    "    epochs.append(num_epochs)\n",
    "    accs.append(test_acc)"
   ]
  },
  {
   "cell_type": "markdown",
   "id": "513da1",
   "metadata": {
    "collapsed": false
   },
   "source": [
    "Adapt the following code to plot your findings. `plot_loss_acc_x3` is defined in the previous task above."
   ]
  },
  {
   "cell_type": "code",
   "execution_count": 11,
   "id": "e7dc68",
   "metadata": {
    "collapsed": false
   },
   "outputs": [
    {
     "data": {
      "image/png": "[encoded data removed]",
      "text/plain": [
       "<Figure size 500x1200 with 3 Axes>"
      ]
     },
     "execution_count": 11,
     "metadata": {},
     "output_type": "execute_result"
    },
    {
     "name": "stdout",
     "output_type": "stream",
     "text": [
      "CIFAR-10 test accuracy:\n",
      "VGG4Plus: 68.32%\n",
      "VGG15: 85.38%\n",
      "VGG15Plus: 85.13%\n",
      "VGG15PlusPlus: 87.99%\n"
     ]
    }
   ],
   "source": [
    "plot_loss_acc_x3(train_losses, val_losses, val_accs, epochs, net_names)\n",
    "\n",
    "print('CIFAR-10 test accuracy:')\n",
    "for i in range(len(net_names)):\n",
    "    print(f'{net_names[i]}: {100*accs[i]:.2f}%')"
   ]
  },
  {
   "cell_type": "markdown",
   "id": "bc8b3c",
   "metadata": {
    "collapsed": false
   },
   "source": [
    "### 10c. Questions\n",
    "\n",
    "**Question 14** What did the results of this experiment reveal about the relationship about network depth/size and classification accuracy? Please be specific.\n",
    "\n",
    "**Question 15** Are there any downsides to the highest performing network (or is it just totally awesome :)?"
   ]
  },
  {
   "cell_type": "markdown",
   "id": "0bfbdc",
   "metadata": {
    "collapsed": false
   },
   "source": [
    "**Answer 14:** The results showed that increasing network depth/size improves classification accuracy up to a point, but diminishing returns or overfitting may occur beyond a certain complexity.\n",
    "\n",
    "**Answer 15:** The only downsides were increased training time and computational cost, but that shouldn't overshadow how impressive/awesome it is."
   ]
  },
  {
   "cell_type": "markdown",
   "id": "b4b7e8",
   "metadata": {
    "collapsed": false
   },
   "source": [
    "## Extensions\n",
    "\n",
    "### General guidelines\n",
    "\n",
    "1. Never integrate extensions into your base project so that they change the expected behavior of core functions. If your extension changes the core design/behavior, no problem, duplicate your working base project and add features from there.\n",
    "2. Check the rubric to keep in mind how extensions on this project will be graded.\n",
    "3. While I may consult your code and \"written log\" of what you did, **I am grading your extensions based on what you present in your 3-5 min video.**\n",
    "3. I suggest documenting your explorations in a \"log\" or \"lab notebook\" style (i.e. documenting your thought/progression/discovery/learning process). I'm not grading your writing, so you can keep it succinct. **Whatever is most useful to you to remember what you did.** \n",
    "4. I suggest taking a hypothesis driven approach. For example \"I was curious about X so I explored Y. I found Z, which was not what I expected because..., so then tried A...\"\n",
    "5. Make plots to help showcase your results.\n",
    "6. **More is not necessarily better.** Generally, a small number of \"in-depth\" extensions count for more than many \"shallow\" extensions.\n",
    "\n",
    "### AI guidelines\n",
    "\n",
    "You may use AI in mostly any capacity for extensions. However, keep in mind:\n",
    "1. There is no need to use AI at all!\n",
    "2. You are welcome to use AI as a tool (e.g. automate something that is tedious, help you get unstuck, etc.). However, you should be coding, you should be thinking, you should be writing, you should be creating. If you are spending most (or even close to most) of your time typing into a chatbot and copy-pasting, you have probably gone too far with AI use.\n",
    "3. I don't find large volumes of AI generated code/text/plots to be particularly impressive and you risk losing my interest while grading. Remember: I'm grading your extensions based on your video presentation. **More is not necessarily better.**\n",
    "\n",
    "### Video guidelines\n",
    "\n",
    "1. Please try to keep your video to 5 minutes (*I have other projects to grade!*). If you turn in a longer video, I make no promise that I will watch more than 5 minutes.\n",
    "2. Your screen should be shared as you show me what you did. A live video of your face should also appear somewhere on the screen (e.g. picture-in-picture overlay / split screen).\n",
    "3. Your partner should join you for the video and take turns talking, but, if necessary, it is fine to have one team member present during the record the video.\n",
    "4. Do not simply read text from your notebook, do not read from a prepared script. I am not grading how polished your video presentation is (see extension grading criteria on rubric). \n",
    "5. I am looking for original and creative explorations sparked by your curiosity/interest/passion in a topic. This should be apparent in your video.\n",
    "6. Be natural,, don't feel the need to impress me with fancy language. If it is helpful, imagine that we are talking one-on-one about your extension. Tell me what you did :)\n",
    "\n",
    "### Extension ideas"
   ]
  },
  {
   "cell_type": "markdown",
   "id": "4831eb",
   "metadata": {
    "collapsed": false
   },
   "source": [
    "#### 1. Tune hyperparameters to achieve even better classification accuracy\n",
    "\n",
    "Try to squeeze out a few extra percent test accuracy!"
   ]
  },
  {
   "cell_type": "markdown",
   "id": "15ae34",
   "metadata": {
    "collapsed": false
   },
   "source": [
    "#### 2. Other image datasets\n",
    "\n",
    "You now have a family of fast, high performing neural networks ranging in size. Apply them to another dataset of your choice. "
   ]
  },
  {
   "cell_type": "markdown",
   "id": "79134f",
   "metadata": {
    "collapsed": false
   },
   "source": [
    "#### 3. AlexNet\n",
    "\n",
    "Research the original AlexNet architecture and create a network that implements it. *You may have to ignore a few \"hacks\" Krizhevsky and colleagues had to perform — as pioneers, they were operating at the absolute limit of what GPUs of the day could do!*"
   ]
  },
  {
   "cell_type": "markdown",
   "id": "6897f7",
   "metadata": {
    "collapsed": false
   },
   "source": [
    "#### 4. Add support for saving/loading network weights\n",
    "\n",
    "A key limitation of your current deep learning library is that parameters that capture the learning in networks are completely reset/lost/wiped out when the notebook kernel is terminated. Add (and test!) support for saving network parameters to disk after (or periodically during) training. Add (and test!) support for loading network parameters back into the network from disk before training. \n",
    "\n",
    "Be careful to include the moving mean and standard deviation parameters in batch normalization layers otherwise the whole net will not work!"
   ]
  },
  {
   "cell_type": "markdown",
   "id": "c1b295",
   "metadata": {
    "collapsed": false
   },
   "source": [
    "#### 5. VGG15 vs. VGG16\n",
    "\n",
    "VGG16 has another Block of Dense layers compared to VGG15. Additionally, the VGG nets in the paper use 4096 dense units per Dense layer (vs 512 in your nets). Is deeper and more units better? Try it out!"
   ]
  }
 ],
 "metadata": {
  "kernelspec": {
   "argv": [
    "/usr/bin/python3",
    "-m",
    "ipykernel",
    "--HistoryManager.enabled=False",
    "--matplotlib=inline",
    "-c",
    "%config InlineBackend.figure_formats = set(['retina'])\nimport matplotlib; matplotlib.rcParams['figure.figsize'] = (12, 7)",
    "-f",
    "{connection_file}"
   ],
   "display_name": "Python 3 (system-wide)",
   "env": {},
   "language": "python",
   "metadata": {
    "cocalc": {
     "description": "Python 3 programming language",
     "priority": 100,
     "url": "https://www.python.org/"
    }
   },
   "name": "python3",
   "resource_dir": "/ext/jupyter/kernels/python3"
  },
  "language_info": {
   "codemirror_mode": {
    "name": "ipython",
    "version": 3
   },
   "file_extension": ".py",
   "mimetype": "text/x-python",
   "name": "python",
   "nbconvert_exporter": "python",
   "pygments_lexer": "ipython3",
   "version": "3.10.12"
  }
 },
 "nbformat": 4,
 "nbformat_minor": 4
}
